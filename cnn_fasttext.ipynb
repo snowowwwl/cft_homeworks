{
  "nbformat": 4,
  "nbformat_minor": 0,
  "metadata": {
    "colab": {
      "name": "cnn_fasttext.ipynb",
      "provenance": [],
      "collapsed_sections": []
    },
    "kernelspec": {
      "name": "python3",
      "display_name": "Python 3"
    }
  },
  "cells": [
    {
      "cell_type": "markdown",
      "metadata": {
        "id": "2olk5MnG1GRr"
      },
      "source": [
        "**Импортим нужные библиотеки**"
      ]
    },
    {
      "cell_type": "code",
      "metadata": {
        "id": "mCX0d6cF1SGF",
        "outputId": "2d09e697-da3f-4b4e-f36c-f837b0f666b3",
        "colab": {
          "base_uri": "https://localhost:8080/"
        }
      },
      "source": [
        "!pip install xmltodict"
      ],
      "execution_count": 2,
      "outputs": [
        {
          "output_type": "stream",
          "text": [
            "Collecting xmltodict\n",
            "  Downloading https://files.pythonhosted.org/packages/28/fd/30d5c1d3ac29ce229f6bdc40bbc20b28f716e8b363140c26eff19122d8a5/xmltodict-0.12.0-py2.py3-none-any.whl\n",
            "Installing collected packages: xmltodict\n",
            "Successfully installed xmltodict-0.12.0\n"
          ],
          "name": "stdout"
        }
      ]
    },
    {
      "cell_type": "code",
      "metadata": {
        "id": "X2ELfTLD1MCu"
      },
      "source": [
        "import xmltodict\n",
        "import re\n",
        "\n",
        "import pandas as pd\n",
        "import numpy as np\n",
        "\n",
        "from sklearn.feature_extraction.text import TfidfVectorizer\n",
        "from sklearn.linear_model import LogisticRegression\n",
        "from sklearn.metrics import f1_score"
      ],
      "execution_count": 150,
      "outputs": []
    },
    {
      "cell_type": "markdown",
      "metadata": {
        "id": "Fi7LVc7c166y"
      },
      "source": [
        "**Определяем функции с парсингом входных данных**"
      ]
    },
    {
      "cell_type": "code",
      "metadata": {
        "id": "LB5nOR3t1QGu"
      },
      "source": [
        "companies = {}\n",
        "def get_sample_text(sample):\n",
        "    assert sample['column'][3]['@name'] == 'text'\n",
        "    return sample['column'][3]['#text']\n",
        "\n",
        "\n",
        "def get_sample_answers_bank(sample):\n",
        "    answers = {}\n",
        "    for i in range(4, 12):\n",
        "        companies[sample['column'][i]['@name']] = i\n",
        "        answers[sample['column'][i]['@name']] = None if sample['column'][i]['#text'] == 'NULL'\\\n",
        "            else int(sample['column'][i]['#text'])\n",
        "    return answers\n",
        "\n",
        "def get_sample_answers_tkk(sample):\n",
        "    answers = {}\n",
        "    for i in range(4, 11):\n",
        "        companies[sample['column'][i]['@name']] = i\n",
        "        answers[sample['column'][i]['@name']] = None if sample['column'][i]['#text'] == 'NULL'\\\n",
        "            else int(sample['column'][i]['#text'])\n",
        "    return answers\n",
        "\n",
        "def get_sample_id(sample):\n",
        "    assert sample['column'][0]['@name'] == 'id'\n",
        "    return int(sample['column'][0]['#text'])\n",
        "\n",
        "\n",
        "def get_data(filename):\n",
        "    df = pd.DataFrame()\n",
        "    with open(filename, \"r\", encoding='utf-8') as f:\n",
        "        d = xmltodict.parse(f.read(), process_namespaces=True)\n",
        "        clean_samples = []\n",
        "        for sample in d['pma_xml_export']['database']['table']:\n",
        "            sample_id = get_sample_id(sample)\n",
        "            text = get_sample_text(sample)\n",
        "            answers = get_sample_answers_bank(sample)\n",
        "            for company, answer in answers.items():\n",
        "                if answer is not None:\n",
        "                    clean_samples.append((sample_id, text, company, answer))\n",
        "        df['text'] = [sample[1] for sample in clean_samples]\n",
        "        df['answer'] = [sample[3] for sample in clean_samples]\n",
        "        df['company'] = [sample[2] for sample in clean_samples]\n",
        "        df['sample_id'] = [sample[0] for sample in clean_samples]\n",
        "    return df\n",
        "\n",
        "def get_data_tkk(filename):\n",
        "    df = pd.DataFrame()\n",
        "    with open(filename, \"r\", encoding='utf-8') as f:\n",
        "        d = xmltodict.parse(f.read(), process_namespaces=True)\n",
        "        clean_samples = []\n",
        "        for sample in d['pma_xml_export']['database']['table']:\n",
        "            sample_id = get_sample_id(sample)\n",
        "            text = get_sample_text(sample)\n",
        "            answers = get_sample_answers_tkk(sample)\n",
        "            for company, answer in answers.items():\n",
        "                if answer is not None:\n",
        "                    clean_samples.append((sample_id, text, company, answer))\n",
        "        df['text'] = [sample[1] for sample in clean_samples]\n",
        "        df['answer'] = [sample[3] for sample in clean_samples]\n",
        "        df['company'] = [sample[2] for sample in clean_samples]\n",
        "        df['sample_id'] = [sample[0] for sample in clean_samples]\n",
        "    return df"
      ],
      "execution_count": 151,
      "outputs": []
    },
    {
      "cell_type": "code",
      "metadata": {
        "id": "gkSzJ-9B2TCj"
      },
      "source": [
        "train_filename = \"/content/drive/My Drive/Colab Notebooks/bank_train_2016.xml\"\n",
        "test_filename = \"/content/drive/My Drive/Colab Notebooks/banks_test_etalon.xml\"\n",
        "\n",
        "train = get_data(train_filename)\n",
        "test = get_data(test_filename)"
      ],
      "execution_count": 152,
      "outputs": []
    },
    {
      "cell_type": "markdown",
      "metadata": {
        "id": "QS0i-79C5l_Q"
      },
      "source": [
        "**Заменяем все ссылки и юзернеймы на url и user соответственно**"
      ]
    },
    {
      "cell_type": "code",
      "metadata": {
        "id": "8uhTrmLG5MQH"
      },
      "source": [
        "url_replacement = lambda x: re.sub(r'(?:http[^\\s]+)($|\\s)', r'url\\1', x)\n",
        "user_replacement = lambda x: re.sub(r'(?:@[^\\s]+)($|\\s)', r'user\\1', x)\n",
        "\n",
        "train['text'] = train['text'].apply(url_replacement)\n",
        "train['text'] = train['text'].apply(user_replacement)\n",
        "\n",
        "test['text'] = test['text'].apply(url_replacement)\n",
        "test['text'] = test['text'].apply(user_replacement)"
      ],
      "execution_count": 154,
      "outputs": []
    },
    {
      "cell_type": "markdown",
      "metadata": {
        "id": "yXeYO6mk6Msf"
      },
      "source": [
        "**Преобразование нашей обучающей выборки по tf-idf**"
      ]
    },
    {
      "cell_type": "code",
      "metadata": {
        "id": "MM14fZbr5yXI",
        "outputId": "e10b9805-c4c9-4cac-d844-bb194f47daca",
        "colab": {
          "base_uri": "https://localhost:8080/"
        }
      },
      "source": [
        "vectorizer = TfidfVectorizer()\n",
        "X_train = vectorizer.fit_transform(train['text'])\n",
        "X_train.shape"
      ],
      "execution_count": 155,
      "outputs": [
        {
          "output_type": "execute_result",
          "data": {
            "text/plain": [
              "(10725, 11703)"
            ]
          },
          "metadata": {
            "tags": []
          },
          "execution_count": 155
        }
      ]
    },
    {
      "cell_type": "markdown",
      "metadata": {
        "id": "ShcmceAR6Rzw"
      },
      "source": [
        "**Преобразование нашей тестовой выборки**"
      ]
    },
    {
      "cell_type": "code",
      "metadata": {
        "id": "HUo7tqt26HTN",
        "outputId": "beffd9f7-f571-4805-c3f3-20ecd2c319af",
        "colab": {
          "base_uri": "https://localhost:8080/"
        }
      },
      "source": [
        "X_test = vectorizer.transform(test['text'])\n",
        "X_test.shape"
      ],
      "execution_count": 156,
      "outputs": [
        {
          "output_type": "execute_result",
          "data": {
            "text/plain": [
              "(3418, 11703)"
            ]
          },
          "metadata": {
            "tags": []
          },
          "execution_count": 156
        }
      ]
    },
    {
      "cell_type": "markdown",
      "metadata": {
        "id": "YqYh1UuK6nbw"
      },
      "source": [
        "**Обучение логистической регрессии**"
      ]
    },
    {
      "cell_type": "code",
      "metadata": {
        "id": "zfgPvSNQ6kmm"
      },
      "source": [
        "lr = LogisticRegression(solver='lbfgs', multi_class='multinomial', class_weight='balanced')\n",
        "lr.fit(X_train, train['answer'])\n",
        "y_pred = lr.predict(X_test)"
      ],
      "execution_count": 157,
      "outputs": []
    },
    {
      "cell_type": "markdown",
      "metadata": {
        "id": "eIvS7mIl67MJ"
      },
      "source": [
        "**Смотрим на результаты**"
      ]
    },
    {
      "cell_type": "code",
      "metadata": {
        "id": "7VocQuCP6ych",
        "outputId": "0d061c59-fd2c-4773-8a5b-4ec94cadd48a",
        "colab": {
          "base_uri": "https://localhost:8080/"
        }
      },
      "source": [
        "f1_score(test['answer'], y_pred, average='micro', labels=[-1,1])"
      ],
      "execution_count": 158,
      "outputs": [
        {
          "output_type": "execute_result",
          "data": {
            "text/plain": [
              "0.49823460180462925"
            ]
          },
          "metadata": {
            "tags": []
          },
          "execution_count": 158
        }
      ]
    },
    {
      "cell_type": "code",
      "metadata": {
        "id": "4yfmPEpL6_fF",
        "outputId": "c8b714f3-4f2a-408a-f632-1cc9710743c9",
        "colab": {
          "base_uri": "https://localhost:8080/"
        }
      },
      "source": [
        "f1_score(test['answer'], y_pred, average='macro', labels=[-1,1])"
      ],
      "execution_count": 159,
      "outputs": [
        {
          "output_type": "execute_result",
          "data": {
            "text/plain": [
              "0.4698891720341647"
            ]
          },
          "metadata": {
            "tags": []
          },
          "execution_count": 159
        }
      ]
    },
    {
      "cell_type": "markdown",
      "metadata": {
        "id": "EFigj7sc7IkB"
      },
      "source": [
        "**Запустить этот же ноутбук на данных ttk**"
      ]
    },
    {
      "cell_type": "code",
      "metadata": {
        "id": "aXUj5HC67BpZ"
      },
      "source": [
        "train_filename = \"/content/drive/My Drive/Colab Notebooks/tkk_train_2016.xml\"\n",
        "test_filename = \"/content/drive/My Drive/Colab Notebooks/tkk_test_etalon.xml\"\n",
        "\n",
        "train_tkk = get_data_tkk(train_filename)\n",
        "test_tkk = get_data_tkk(test_filename)"
      ],
      "execution_count": 160,
      "outputs": []
    },
    {
      "cell_type": "code",
      "metadata": {
        "id": "iFp3OaJn7isW"
      },
      "source": [
        "url_replacement = lambda x: re.sub(r'(?:http[^\\s]+)($|\\s)', r'url\\1', x)\n",
        "user_replacement = lambda x: re.sub(r'(?:@[^\\s]+)($|\\s)', r'user\\1', x)\n",
        "\n",
        "train_tkk['text'] = train_tkk['text'].apply(url_replacement)\n",
        "train_tkk['text'] = train_tkk['text'].apply(user_replacement)\n",
        "\n",
        "test_tkk['text'] = test_tkk['text'].apply(url_replacement)\n",
        "test_tkk['text'] = test_tkk['text'].apply(user_replacement)"
      ],
      "execution_count": 161,
      "outputs": []
    },
    {
      "cell_type": "code",
      "metadata": {
        "id": "3ivuIGFJdLBy",
        "outputId": "3ad6394f-2692-4c88-9d20-7e641a544c3c",
        "colab": {
          "base_uri": "https://localhost:8080/"
        }
      },
      "source": [
        "vectorizer = TfidfVectorizer()\n",
        "X_train = vectorizer.fit_transform(train_tkk['text'])\n",
        "X_train.shape"
      ],
      "execution_count": 162,
      "outputs": [
        {
          "output_type": "execute_result",
          "data": {
            "text/plain": [
              "(9209, 16056)"
            ]
          },
          "metadata": {
            "tags": []
          },
          "execution_count": 162
        }
      ]
    },
    {
      "cell_type": "code",
      "metadata": {
        "id": "KPhrJqRHdR-6",
        "outputId": "088d1c65-cc12-4683-a195-72227786538a",
        "colab": {
          "base_uri": "https://localhost:8080/"
        }
      },
      "source": [
        "X_test = vectorizer.transform(test_tkk['text'])\n",
        "X_test.shape"
      ],
      "execution_count": 163,
      "outputs": [
        {
          "output_type": "execute_result",
          "data": {
            "text/plain": [
              "(2460, 16056)"
            ]
          },
          "metadata": {
            "tags": []
          },
          "execution_count": 163
        }
      ]
    },
    {
      "cell_type": "code",
      "metadata": {
        "id": "dJXudhX-dVoA"
      },
      "source": [
        "lr = LogisticRegression(solver='lbfgs', multi_class='multinomial', class_weight='balanced')\n",
        "lr.fit(X_train, train_tkk['answer'])\n",
        "y_pred = lr.predict(X_test)"
      ],
      "execution_count": 164,
      "outputs": []
    },
    {
      "cell_type": "code",
      "metadata": {
        "id": "YqhTbMuLdayN",
        "outputId": "31788c28-0014-458e-b562-7ce6979407db",
        "colab": {
          "base_uri": "https://localhost:8080/"
        }
      },
      "source": [
        "f1_score(test_tkk['answer'], y_pred, average='micro', labels=[-1,1])"
      ],
      "execution_count": 89,
      "outputs": [
        {
          "output_type": "execute_result",
          "data": {
            "text/plain": [
              "0.6103756708407871"
            ]
          },
          "metadata": {
            "tags": []
          },
          "execution_count": 89
        }
      ]
    },
    {
      "cell_type": "code",
      "metadata": {
        "id": "FKYkoCl1dfL-",
        "outputId": "37278126-f42f-42be-eb43-e4e38c7e3126",
        "colab": {
          "base_uri": "https://localhost:8080/"
        }
      },
      "source": [
        "f1_score(test_tkk['answer'], y_pred, average='macro', labels=[-1,1])"
      ],
      "execution_count": 165,
      "outputs": [
        {
          "output_type": "execute_result",
          "data": {
            "text/plain": [
              "0.4835264679302881"
            ]
          },
          "metadata": {
            "tags": []
          },
          "execution_count": 165
        }
      ]
    },
    {
      "cell_type": "markdown",
      "metadata": {
        "id": "wppW2mIYj2yz"
      },
      "source": [
        "**Сверточная нейронная сеть для анализа твитов**"
      ]
    },
    {
      "cell_type": "markdown",
      "metadata": {
        "id": "6Rs4y9Bgma64"
      },
      "source": [
        "Нормализация текста"
      ]
    },
    {
      "cell_type": "code",
      "metadata": {
        "id": "gWOpuxH_djxf"
      },
      "source": [
        "import string\n",
        "#для ттк данных\n",
        "\n",
        "train_tkk['text'] = train_tkk['text'].str.lower()\n",
        "train_tkk['text'] = train_tkk['text'].str.strip(\" \")\n",
        "train_tkk['text'] = train_tkk['text'].str.replace('\\s+', \" \")\n",
        "\n",
        "test_tkk['text'] = test_tkk['text'].str.lower()\n",
        "test_tkk['text'] = test_tkk['text'].str.strip(\" \")\n",
        "test_tkk['text'] = test_tkk['text'].str.replace('\\s+', \" \")\n",
        "\n",
        "for c in string.punctuation:\n",
        "    train_tkk['text'] = train_tkk['text'].str.replace(c, \"\")\n",
        "for c in string.punctuation:\n",
        "    test_tkk['text'] = test_tkk['text'].str.replace(c, \"\")\n"
      ],
      "execution_count": 167,
      "outputs": []
    },
    {
      "cell_type": "code",
      "metadata": {
        "id": "gvLN59_gLyjU"
      },
      "source": [
        "#для банк данных\n",
        "train['text'] = train['text'].str.lower()\n",
        "train['text'] = train['text'].str.strip(\" \")\n",
        "train['text'] = train['text'].str.replace('\\s+', \" \")\n",
        "\n",
        "test['text'] = test['text'].str.lower()\n",
        "test['text'] = test['text'].str.strip(\" \")\n",
        "test['text'] = test['text'].str.replace('\\s+', \" \")\n",
        "\n",
        "for c in string.punctuation:\n",
        "    train['text'] = train['text'].str.replace(c, \"\")\n",
        "for c in string.punctuation:\n",
        "    test['text'] = test['text'].str.replace(c, \"\")"
      ],
      "execution_count": 168,
      "outputs": []
    },
    {
      "cell_type": "code",
      "metadata": {
        "id": "L6UzmiJOplPv"
      },
      "source": [
        "#ттк\n",
        "train_tkk['text'] = train_tkk['text'].str.replace('’', \"\")\n",
        "train_tkk['text'] = train_tkk['text'].str.replace('”', \"\")\n",
        "train_tkk['text'] = train_tkk['text'].str.replace('“', \"\")\n",
        "train_tkk['text'] = train_tkk['text'].str.replace('—', \"\")\n",
        "train_tkk['text'] = train_tkk['text'].str.replace('«', \"\")\n",
        "train_tkk['text'] = train_tkk['text'].str.replace('»', \"\")\n",
        "\n",
        "test_tkk['text'] = test_tkk['text'].str.replace('’', \"\")\n",
        "test_tkk['text'] = test_tkk['text'].str.replace('”', \"\")\n",
        "test_tkk['text'] = test_tkk['text'].str.replace('“', \"\")\n",
        "test_tkk['text'] = test_tkk['text'].str.replace('—', \"\")\n",
        "test_tkk['text'] = test_tkk['text'].str.replace('«', \"\")\n",
        "test_tkk['text'] = test_tkk['text'].str.replace('»', \"\")"
      ],
      "execution_count": 169,
      "outputs": []
    },
    {
      "cell_type": "code",
      "metadata": {
        "id": "ef9Sx6PAMQq7"
      },
      "source": [
        "#банки\n",
        "train['text'] = train['text'].str.replace('’', \"\")\n",
        "train['text'] = train['text'].str.replace('”', \"\")\n",
        "train['text'] = train['text'].str.replace('“', \"\")\n",
        "train['text'] = train['text'].str.replace('—', \"\")\n",
        "train['text'] = train['text'].str.replace('«', \"\")\n",
        "train['text'] = train['text'].str.replace('»', \"\")\n",
        "\n",
        "test['text'] = test['text'].str.replace('’', \"\")\n",
        "test['text'] = test['text'].str.replace('”', \"\")\n",
        "test['text'] = test['text'].str.replace('“', \"\")\n",
        "test['text'] = test['text'].str.replace('—', \"\")\n",
        "test['text'] = test['text'].str.replace('«', \"\")\n",
        "test['text'] = test['text'].str.replace('»', \"\")"
      ],
      "execution_count": 170,
      "outputs": []
    },
    {
      "cell_type": "code",
      "metadata": {
        "id": "gaVuRBMQl6uU",
        "outputId": "5a55e1ad-6975-48fc-e739-8a80e932efad",
        "colab": {
          "base_uri": "https://localhost:8080/"
        }
      },
      "source": [
        "train_tkk[\"text\"]"
      ],
      "execution_count": 171,
      "outputs": [
        {
          "output_type": "execute_result",
          "data": {
            "text/plain": [
              "0       user максим вашем письмо мы получили наши сотр...\n",
              "1               мегафон стал владельцем 50 акций евросети\n",
              "2       rt user user мтс россия прислала жителям херсо...\n",
              "3                 видео url реклама со смехом мтс супер 0\n",
              "4       user потому что мтс достало а пчел ненавижу с ...\n",
              "                              ...                        \n",
              "9204    понедвечер сейчас буду делать уроки вот такая ...\n",
              "9205    ну еслиже это мтсто скорость интернета будет г...\n",
              "9206    rt user у мтс проблемы со связью изза замены о...\n",
              "9207    rt user у мтс проблемы со связью изза замены о...\n",
              "9208    rt user у мтс проблемы со связью изза замены о...\n",
              "Name: text, Length: 9209, dtype: object"
            ]
          },
          "metadata": {
            "tags": []
          },
          "execution_count": 171
        }
      ]
    },
    {
      "cell_type": "code",
      "metadata": {
        "id": "1fCB_gcLMipY",
        "outputId": "8e098a30-b952-4c72-ef7b-1a4ccdf4bf04",
        "colab": {
          "base_uri": "https://localhost:8080/"
        }
      },
      "source": [
        "train[\"text\"]"
      ],
      "execution_count": 172,
      "outputs": [
        {
          "output_type": "execute_result",
          "data": {
            "text/plain": [
              "0                       url взять кредит тюмень альфа банк\n",
              "1                      мнение о кредитной карте втб 24 url\n",
              "2        райффайзенбанк снижение ключевой ставки цб на ...\n",
              "3        современное состояние кредитного поведения в р...\n",
              "4                  user user главное чтоб банки сбер и втб\n",
              "                               ...                        \n",
              "10720    newzday банк уралсиб повысил ставки по вкладам...\n",
              "10721    хэйя знаючто ты заказывала одну вещь с офф сай...\n",
              "10722    это радует  банк уралсиб и фольксваген банк ру...\n",
              "10723    при финансовой поддержке россельхозбанка постр...\n",
              "10724    новая машина в кредит с россельхозбанком прост...\n",
              "Name: text, Length: 10725, dtype: object"
            ]
          },
          "metadata": {
            "tags": []
          },
          "execution_count": 172
        }
      ]
    },
    {
      "cell_type": "markdown",
      "metadata": {
        "id": "3RoeRjWsmeA9"
      },
      "source": [
        "Приведение к нормальной форме"
      ]
    },
    {
      "cell_type": "code",
      "metadata": {
        "id": "6e4MFQIAl9eY",
        "outputId": "861e65e2-5094-40f6-f627-b3a092bcc4ce",
        "colab": {
          "base_uri": "https://localhost:8080/"
        }
      },
      "source": [
        "!pip install pymorphy2"
      ],
      "execution_count": 96,
      "outputs": [
        {
          "output_type": "stream",
          "text": [
            "Requirement already satisfied: pymorphy2 in /usr/local/lib/python3.6/dist-packages (0.9.1)\n",
            "Requirement already satisfied: pymorphy2-dicts-ru<3.0,>=2.4 in /usr/local/lib/python3.6/dist-packages (from pymorphy2) (2.4.417127.4579844)\n",
            "Requirement already satisfied: docopt>=0.6 in /usr/local/lib/python3.6/dist-packages (from pymorphy2) (0.6.2)\n",
            "Requirement already satisfied: dawg-python>=0.7.1 in /usr/local/lib/python3.6/dist-packages (from pymorphy2) (0.7.2)\n"
          ],
          "name": "stdout"
        }
      ]
    },
    {
      "cell_type": "code",
      "metadata": {
        "id": "kRNYWDdXmiKV"
      },
      "source": [
        "import pymorphy2\n",
        "morph = pymorphy2.MorphAnalyzer()"
      ],
      "execution_count": 173,
      "outputs": []
    },
    {
      "cell_type": "code",
      "metadata": {
        "id": "UN7nj0Vvnc6E"
      },
      "source": [
        "twit_norm = lambda x: \" \".join([morph.parse(word)[0].normal_form for word in x.split()])"
      ],
      "execution_count": 174,
      "outputs": []
    },
    {
      "cell_type": "code",
      "metadata": {
        "id": "Mmx7r7__n5Qp",
        "outputId": "3c9865b4-b536-465d-8a4b-d8e2de57cbe4",
        "colab": {
          "base_uri": "https://localhost:8080/",
          "height": 204
        }
      },
      "source": [
        "train_tkk[\"text\"] = train_tkk['text'].apply(twit_norm)\n",
        "train_tkk.head()"
      ],
      "execution_count": 175,
      "outputs": [
        {
          "output_type": "execute_result",
          "data": {
            "text/html": [
              "<div>\n",
              "<style scoped>\n",
              "    .dataframe tbody tr th:only-of-type {\n",
              "        vertical-align: middle;\n",
              "    }\n",
              "\n",
              "    .dataframe tbody tr th {\n",
              "        vertical-align: top;\n",
              "    }\n",
              "\n",
              "    .dataframe thead th {\n",
              "        text-align: right;\n",
              "    }\n",
              "</style>\n",
              "<table border=\"1\" class=\"dataframe\">\n",
              "  <thead>\n",
              "    <tr style=\"text-align: right;\">\n",
              "      <th></th>\n",
              "      <th>text</th>\n",
              "      <th>answer</th>\n",
              "      <th>company</th>\n",
              "      <th>sample_id</th>\n",
              "    </tr>\n",
              "  </thead>\n",
              "  <tbody>\n",
              "    <tr>\n",
              "      <th>0</th>\n",
              "      <td>user максим ваш письмо мы получить наш сотрудн...</td>\n",
              "      <td>0</td>\n",
              "      <td>beeline</td>\n",
              "      <td>1</td>\n",
              "    </tr>\n",
              "    <tr>\n",
              "      <th>1</th>\n",
              "      <td>мегафон стать владелец 50 акция евросеть</td>\n",
              "      <td>0</td>\n",
              "      <td>megafon</td>\n",
              "      <td>2</td>\n",
              "    </tr>\n",
              "    <tr>\n",
              "      <th>2</th>\n",
              "      <td>rt user user мтс россия прислать житель херсон...</td>\n",
              "      <td>-1</td>\n",
              "      <td>mts</td>\n",
              "      <td>3</td>\n",
              "    </tr>\n",
              "    <tr>\n",
              "      <th>3</th>\n",
              "      <td>видео url реклама с смех мтс супер 0</td>\n",
              "      <td>1</td>\n",
              "      <td>mts</td>\n",
              "      <td>4</td>\n",
              "    </tr>\n",
              "    <tr>\n",
              "      <th>4</th>\n",
              "      <td>user потому что мтс достать а пчела ненавидеть...</td>\n",
              "      <td>-1</td>\n",
              "      <td>mts</td>\n",
              "      <td>5</td>\n",
              "    </tr>\n",
              "  </tbody>\n",
              "</table>\n",
              "</div>"
            ],
            "text/plain": [
              "                                                text  ...  sample_id\n",
              "0  user максим ваш письмо мы получить наш сотрудн...  ...          1\n",
              "1           мегафон стать владелец 50 акция евросеть  ...          2\n",
              "2  rt user user мтс россия прислать житель херсон...  ...          3\n",
              "3               видео url реклама с смех мтс супер 0  ...          4\n",
              "4  user потому что мтс достать а пчела ненавидеть...  ...          5\n",
              "\n",
              "[5 rows x 4 columns]"
            ]
          },
          "metadata": {
            "tags": []
          },
          "execution_count": 175
        }
      ]
    },
    {
      "cell_type": "code",
      "metadata": {
        "id": "XqYgDhsf2t6f",
        "outputId": "7783bb6b-7f56-4745-fe90-3fc0bceedcb4",
        "colab": {
          "base_uri": "https://localhost:8080/",
          "height": 204
        }
      },
      "source": [
        "test_tkk[\"text\"] = test_tkk['text'].apply(twit_norm)\n",
        "test_tkk.head()"
      ],
      "execution_count": 176,
      "outputs": [
        {
          "output_type": "execute_result",
          "data": {
            "text/html": [
              "<div>\n",
              "<style scoped>\n",
              "    .dataframe tbody tr th:only-of-type {\n",
              "        vertical-align: middle;\n",
              "    }\n",
              "\n",
              "    .dataframe tbody tr th {\n",
              "        vertical-align: top;\n",
              "    }\n",
              "\n",
              "    .dataframe thead th {\n",
              "        text-align: right;\n",
              "    }\n",
              "</style>\n",
              "<table border=\"1\" class=\"dataframe\">\n",
              "  <thead>\n",
              "    <tr style=\"text-align: right;\">\n",
              "      <th></th>\n",
              "      <th>text</th>\n",
              "      <th>answer</th>\n",
              "      <th>company</th>\n",
              "      <th>sample_id</th>\n",
              "    </tr>\n",
              "  </thead>\n",
              "  <tbody>\n",
              "    <tr>\n",
              "      <th>0</th>\n",
              "      <td>rt vzglyad по дело о работа мтс в узбекистан с...</td>\n",
              "      <td>-1</td>\n",
              "      <td>mts</td>\n",
              "      <td>1</td>\n",
              "    </tr>\n",
              "    <tr>\n",
              "      <th>1</th>\n",
              "      <td>rt user url кредитный карта мегафон банк</td>\n",
              "      <td>0</td>\n",
              "      <td>megafon</td>\n",
              "      <td>2</td>\n",
              "    </tr>\n",
              "    <tr>\n",
              "      <th>2</th>\n",
              "      <td>оформить кредитный карта в банк мтс url</td>\n",
              "      <td>0</td>\n",
              "      <td>mts</td>\n",
              "      <td>3</td>\n",
              "    </tr>\n",
              "    <tr>\n",
              "      <th>3</th>\n",
              "      <td>как перевести деньга с билайн на кредитный карта</td>\n",
              "      <td>0</td>\n",
              "      <td>beeline</td>\n",
              "      <td>4</td>\n",
              "    </tr>\n",
              "    <tr>\n",
              "      <th>4</th>\n",
              "      <td>начальник отдел кредитный контроль оао мтс уса...</td>\n",
              "      <td>0</td>\n",
              "      <td>mts</td>\n",
              "      <td>5</td>\n",
              "    </tr>\n",
              "  </tbody>\n",
              "</table>\n",
              "</div>"
            ],
            "text/plain": [
              "                                                text  ...  sample_id\n",
              "0  rt vzglyad по дело о работа мтс в узбекистан с...  ...          1\n",
              "1           rt user url кредитный карта мегафон банк  ...          2\n",
              "2            оформить кредитный карта в банк мтс url  ...          3\n",
              "3   как перевести деньга с билайн на кредитный карта  ...          4\n",
              "4  начальник отдел кредитный контроль оао мтс уса...  ...          5\n",
              "\n",
              "[5 rows x 4 columns]"
            ]
          },
          "metadata": {
            "tags": []
          },
          "execution_count": 176
        }
      ]
    },
    {
      "cell_type": "code",
      "metadata": {
        "id": "12WvE9prM0rX"
      },
      "source": [
        "train[\"text\"] = train['text'].apply(twit_norm)\n",
        "test[\"text\"] = test['text'].apply(twit_norm)"
      ],
      "execution_count": 177,
      "outputs": []
    },
    {
      "cell_type": "code",
      "metadata": {
        "id": "0ro0UwlPylcJ"
      },
      "source": [
        "twit_len = lambda x: len([morph.parse(word)[0].normal_form for word in x.split()])\n",
        "train_tkk[\"len\"] = train_tkk['text'].apply(twit_len)"
      ],
      "execution_count": 178,
      "outputs": []
    },
    {
      "cell_type": "code",
      "metadata": {
        "id": "RCHwB8_3zRhJ",
        "outputId": "d9e7e8ba-93e9-41d9-87ab-9b210b5ef846",
        "colab": {
          "base_uri": "https://localhost:8080/",
          "height": 419
        }
      },
      "source": [
        "train_tkk.sort_values(by=\"len\", ascending=False)"
      ],
      "execution_count": 179,
      "outputs": [
        {
          "output_type": "execute_result",
          "data": {
            "text/html": [
              "<div>\n",
              "<style scoped>\n",
              "    .dataframe tbody tr th:only-of-type {\n",
              "        vertical-align: middle;\n",
              "    }\n",
              "\n",
              "    .dataframe tbody tr th {\n",
              "        vertical-align: top;\n",
              "    }\n",
              "\n",
              "    .dataframe thead th {\n",
              "        text-align: right;\n",
              "    }\n",
              "</style>\n",
              "<table border=\"1\" class=\"dataframe\">\n",
              "  <thead>\n",
              "    <tr style=\"text-align: right;\">\n",
              "      <th></th>\n",
              "      <th>text</th>\n",
              "      <th>answer</th>\n",
              "      <th>company</th>\n",
              "      <th>sample_id</th>\n",
              "      <th>len</th>\n",
              "    </tr>\n",
              "  </thead>\n",
              "  <tbody>\n",
              "    <tr>\n",
              "      <th>3204</th>\n",
              "      <td>но ты не вернуть всё равно да и как то уже быт...</td>\n",
              "      <td>0</td>\n",
              "      <td>beeline</td>\n",
              "      <td>3225</td>\n",
              "      <td>29</td>\n",
              "    </tr>\n",
              "    <tr>\n",
              "      <th>7668</th>\n",
              "      <td>rt user саша и коля гулять по крыша у коли быт...</td>\n",
              "      <td>0</td>\n",
              "      <td>beeline</td>\n",
              "      <td>7438</td>\n",
              "      <td>29</td>\n",
              "    </tr>\n",
              "    <tr>\n",
              "      <th>7669</th>\n",
              "      <td>rt user саша и коля гулять по крыша у коли быт...</td>\n",
              "      <td>0</td>\n",
              "      <td>mts</td>\n",
              "      <td>7438</td>\n",
              "      <td>29</td>\n",
              "    </tr>\n",
              "    <tr>\n",
              "      <th>8740</th>\n",
              "      <td>билайн дать мой номер не понять кто как узнать...</td>\n",
              "      <td>-1</td>\n",
              "      <td>beeline</td>\n",
              "      <td>8414</td>\n",
              "      <td>28</td>\n",
              "    </tr>\n",
              "    <tr>\n",
              "      <th>1392</th>\n",
              "      <td>прийти смс про повышение трафик только что вес...</td>\n",
              "      <td>-1</td>\n",
              "      <td>mts</td>\n",
              "      <td>1404</td>\n",
              "      <td>28</td>\n",
              "    </tr>\n",
              "    <tr>\n",
              "      <th>...</th>\n",
              "      <td>...</td>\n",
              "      <td>...</td>\n",
              "      <td>...</td>\n",
              "      <td>...</td>\n",
              "      <td>...</td>\n",
              "    </tr>\n",
              "    <tr>\n",
              "      <th>4182</th>\n",
              "      <td>прощаймтс</td>\n",
              "      <td>-1</td>\n",
              "      <td>mts</td>\n",
              "      <td>4198</td>\n",
              "      <td>1</td>\n",
              "    </tr>\n",
              "    <tr>\n",
              "      <th>6573</th>\n",
              "      <td>билайн</td>\n",
              "      <td>0</td>\n",
              "      <td>beeline</td>\n",
              "      <td>6390</td>\n",
              "      <td>1</td>\n",
              "    </tr>\n",
              "    <tr>\n",
              "      <th>6101</th>\n",
              "      <td>user</td>\n",
              "      <td>0</td>\n",
              "      <td>beeline</td>\n",
              "      <td>5956</td>\n",
              "      <td>1</td>\n",
              "    </tr>\n",
              "    <tr>\n",
              "      <th>3531</th>\n",
              "      <td>мтс</td>\n",
              "      <td>0</td>\n",
              "      <td>mts</td>\n",
              "      <td>3542</td>\n",
              "      <td>1</td>\n",
              "    </tr>\n",
              "    <tr>\n",
              "      <th>9119</th>\n",
              "      <td>мтсгавный</td>\n",
              "      <td>-1</td>\n",
              "      <td>mts</td>\n",
              "      <td>8756</td>\n",
              "      <td>1</td>\n",
              "    </tr>\n",
              "  </tbody>\n",
              "</table>\n",
              "<p>9209 rows × 5 columns</p>\n",
              "</div>"
            ],
            "text/plain": [
              "                                                   text  answer  ... sample_id  len\n",
              "3204  но ты не вернуть всё равно да и как то уже быт...       0  ...      3225   29\n",
              "7668  rt user саша и коля гулять по крыша у коли быт...       0  ...      7438   29\n",
              "7669  rt user саша и коля гулять по крыша у коли быт...       0  ...      7438   29\n",
              "8740  билайн дать мой номер не понять кто как узнать...      -1  ...      8414   28\n",
              "1392  прийти смс про повышение трафик только что вес...      -1  ...      1404   28\n",
              "...                                                 ...     ...  ...       ...  ...\n",
              "4182                                          прощаймтс      -1  ...      4198    1\n",
              "6573                                             билайн       0  ...      6390    1\n",
              "6101                                               user       0  ...      5956    1\n",
              "3531                                                мтс       0  ...      3542    1\n",
              "9119                                          мтсгавный      -1  ...      8756    1\n",
              "\n",
              "[9209 rows x 5 columns]"
            ]
          },
          "metadata": {
            "tags": []
          },
          "execution_count": 179
        }
      ]
    },
    {
      "cell_type": "code",
      "metadata": {
        "id": "eA7SN9z52-Y6",
        "outputId": "cc0cc213-9d50-41ea-f3bc-be7c73e9a80b",
        "colab": {
          "base_uri": "https://localhost:8080/",
          "height": 419
        }
      },
      "source": [
        "test_tkk[\"len\"] = test_tkk['text'].apply(twit_len)\n",
        "test_tkk.sort_values(by=\"len\", ascending=False)"
      ],
      "execution_count": 180,
      "outputs": [
        {
          "output_type": "execute_result",
          "data": {
            "text/html": [
              "<div>\n",
              "<style scoped>\n",
              "    .dataframe tbody tr th:only-of-type {\n",
              "        vertical-align: middle;\n",
              "    }\n",
              "\n",
              "    .dataframe tbody tr th {\n",
              "        vertical-align: top;\n",
              "    }\n",
              "\n",
              "    .dataframe thead th {\n",
              "        text-align: right;\n",
              "    }\n",
              "</style>\n",
              "<table border=\"1\" class=\"dataframe\">\n",
              "  <thead>\n",
              "    <tr style=\"text-align: right;\">\n",
              "      <th></th>\n",
              "      <th>text</th>\n",
              "      <th>answer</th>\n",
              "      <th>company</th>\n",
              "      <th>sample_id</th>\n",
              "      <th>len</th>\n",
              "    </tr>\n",
              "  </thead>\n",
              "  <tbody>\n",
              "    <tr>\n",
              "      <th>2045</th>\n",
              "      <td>я так с мтс бороться месяц два звонить они пар...</td>\n",
              "      <td>-1</td>\n",
              "      <td>mts</td>\n",
              "      <td>2353</td>\n",
              "      <td>30</td>\n",
              "    </tr>\n",
              "    <tr>\n",
              "      <th>1799</th>\n",
              "      <td>rt user встречаться два друг у ты мтс если бы ...</td>\n",
              "      <td>0</td>\n",
              "      <td>mts</td>\n",
              "      <td>1953</td>\n",
              "      <td>29</td>\n",
              "    </tr>\n",
              "    <tr>\n",
              "      <th>2240</th>\n",
              "      <td>у я в деревня опять нет интрнет не деревня даж...</td>\n",
              "      <td>-1</td>\n",
              "      <td>mts</td>\n",
              "      <td>2659</td>\n",
              "      <td>28</td>\n",
              "    </tr>\n",
              "    <tr>\n",
              "      <th>1708</th>\n",
              "      <td>user че у вы за страный сервис в лк мало тот ч...</td>\n",
              "      <td>-1</td>\n",
              "      <td>mts</td>\n",
              "      <td>1808</td>\n",
              "      <td>28</td>\n",
              "    </tr>\n",
              "    <tr>\n",
              "      <th>1433</th>\n",
              "      <td>rt user user у алёна мегафон и он не работать ...</td>\n",
              "      <td>-1</td>\n",
              "      <td>megafon</td>\n",
              "      <td>1472</td>\n",
              "      <td>28</td>\n",
              "    </tr>\n",
              "    <tr>\n",
              "      <th>...</th>\n",
              "      <td>...</td>\n",
              "      <td>...</td>\n",
              "      <td>...</td>\n",
              "      <td>...</td>\n",
              "      <td>...</td>\n",
              "    </tr>\n",
              "    <tr>\n",
              "      <th>1875</th>\n",
              "      <td>почему не билайн</td>\n",
              "      <td>0</td>\n",
              "      <td>beeline</td>\n",
              "      <td>2067</td>\n",
              "      <td>3</td>\n",
              "    </tr>\n",
              "    <tr>\n",
              "      <th>213</th>\n",
              "      <td>про ростелеком url</td>\n",
              "      <td>0</td>\n",
              "      <td>rostelecom</td>\n",
              "      <td>188</td>\n",
              "      <td>3</td>\n",
              "    </tr>\n",
              "    <tr>\n",
              "      <th>2456</th>\n",
              "      <td>караоке от ростелеком</td>\n",
              "      <td>0</td>\n",
              "      <td>rostelecom</td>\n",
              "      <td>2938</td>\n",
              "      <td>3</td>\n",
              "    </tr>\n",
              "    <tr>\n",
              "      <th>1095</th>\n",
              "      <td>мтс гавный</td>\n",
              "      <td>-1</td>\n",
              "      <td>mts</td>\n",
              "      <td>1046</td>\n",
              "      <td>2</td>\n",
              "    </tr>\n",
              "    <tr>\n",
              "      <th>301</th>\n",
              "      <td>ер мтс</td>\n",
              "      <td>0</td>\n",
              "      <td>mts</td>\n",
              "      <td>252</td>\n",
              "      <td>2</td>\n",
              "    </tr>\n",
              "  </tbody>\n",
              "</table>\n",
              "<p>2460 rows × 5 columns</p>\n",
              "</div>"
            ],
            "text/plain": [
              "                                                   text  answer  ... sample_id  len\n",
              "2045  я так с мтс бороться месяц два звонить они пар...      -1  ...      2353   30\n",
              "1799  rt user встречаться два друг у ты мтс если бы ...       0  ...      1953   29\n",
              "2240  у я в деревня опять нет интрнет не деревня даж...      -1  ...      2659   28\n",
              "1708  user че у вы за страный сервис в лк мало тот ч...      -1  ...      1808   28\n",
              "1433  rt user user у алёна мегафон и он не работать ...      -1  ...      1472   28\n",
              "...                                                 ...     ...  ...       ...  ...\n",
              "1875                                   почему не билайн       0  ...      2067    3\n",
              "213                                  про ростелеком url       0  ...       188    3\n",
              "2456                              караоке от ростелеком       0  ...      2938    3\n",
              "1095                                         мтс гавный      -1  ...      1046    2\n",
              "301                                              ер мтс       0  ...       252    2\n",
              "\n",
              "[2460 rows x 5 columns]"
            ]
          },
          "metadata": {
            "tags": []
          },
          "execution_count": 180
        }
      ]
    },
    {
      "cell_type": "code",
      "metadata": {
        "id": "9PCrRsMzNiTr",
        "outputId": "ccfa289c-9643-4b2f-b19d-34fc4b67a541",
        "colab": {
          "base_uri": "https://localhost:8080/",
          "height": 419
        }
      },
      "source": [
        "train[\"len\"] = train['text'].apply(twit_len)\n",
        "train.sort_values(by=\"len\", ascending=False)"
      ],
      "execution_count": 181,
      "outputs": [
        {
          "output_type": "execute_result",
          "data": {
            "text/html": [
              "<div>\n",
              "<style scoped>\n",
              "    .dataframe tbody tr th:only-of-type {\n",
              "        vertical-align: middle;\n",
              "    }\n",
              "\n",
              "    .dataframe tbody tr th {\n",
              "        vertical-align: top;\n",
              "    }\n",
              "\n",
              "    .dataframe thead th {\n",
              "        text-align: right;\n",
              "    }\n",
              "</style>\n",
              "<table border=\"1\" class=\"dataframe\">\n",
              "  <thead>\n",
              "    <tr style=\"text-align: right;\">\n",
              "      <th></th>\n",
              "      <th>text</th>\n",
              "      <th>answer</th>\n",
              "      <th>company</th>\n",
              "      <th>sample_id</th>\n",
              "      <th>len</th>\n",
              "    </tr>\n",
              "  </thead>\n",
              "  <tbody>\n",
              "    <tr>\n",
              "      <th>7791</th>\n",
              "      <td>сейчас я по есть и мы пойти в сбербанк если не...</td>\n",
              "      <td>0</td>\n",
              "      <td>sberbank</td>\n",
              "      <td>6651</td>\n",
              "      <td>28</td>\n",
              "    </tr>\n",
              "    <tr>\n",
              "      <th>6380</th>\n",
              "      <td>в филиал на ленинский 42 выдавать талончик сра...</td>\n",
              "      <td>-1</td>\n",
              "      <td>sberbank</td>\n",
              "      <td>5264</td>\n",
              "      <td>26</td>\n",
              "    </tr>\n",
              "    <tr>\n",
              "      <th>1799</th>\n",
              "      <td>в ночь на среда о введение в отношение россия ...</td>\n",
              "      <td>-1</td>\n",
              "      <td>vtb</td>\n",
              "      <td>1323</td>\n",
              "      <td>26</td>\n",
              "    </tr>\n",
              "    <tr>\n",
              "      <th>1800</th>\n",
              "      <td>в ночь на среда о введение в отношение россия ...</td>\n",
              "      <td>-1</td>\n",
              "      <td>bankmoskvy</td>\n",
              "      <td>1323</td>\n",
              "      <td>26</td>\n",
              "    </tr>\n",
              "    <tr>\n",
              "      <th>319</th>\n",
              "      <td>а мы как раз сегодня получить от юрист информа...</td>\n",
              "      <td>-1</td>\n",
              "      <td>gazprom</td>\n",
              "      <td>308</td>\n",
              "      <td>26</td>\n",
              "    </tr>\n",
              "    <tr>\n",
              "      <th>...</th>\n",
              "      <td>...</td>\n",
              "      <td>...</td>\n",
              "      <td>...</td>\n",
              "      <td>...</td>\n",
              "      <td>...</td>\n",
              "    </tr>\n",
              "    <tr>\n",
              "      <th>7840</th>\n",
              "      <td>в сбербанк</td>\n",
              "      <td>0</td>\n",
              "      <td>sberbank</td>\n",
              "      <td>6699</td>\n",
              "      <td>2</td>\n",
              "    </tr>\n",
              "    <tr>\n",
              "      <th>10619</th>\n",
              "      <td>user спасибо</td>\n",
              "      <td>1</td>\n",
              "      <td>sberbank</td>\n",
              "      <td>9444</td>\n",
              "      <td>2</td>\n",
              "    </tr>\n",
              "    <tr>\n",
              "      <th>8130</th>\n",
              "      <td>ненавидеть сбербанк</td>\n",
              "      <td>-1</td>\n",
              "      <td>sberbank</td>\n",
              "      <td>6988</td>\n",
              "      <td>2</td>\n",
              "    </tr>\n",
              "    <tr>\n",
              "      <th>10266</th>\n",
              "      <td>сбербанк</td>\n",
              "      <td>0</td>\n",
              "      <td>sberbank</td>\n",
              "      <td>9107</td>\n",
              "      <td>1</td>\n",
              "    </tr>\n",
              "    <tr>\n",
              "      <th>10281</th>\n",
              "      <td>сбербанк2</td>\n",
              "      <td>0</td>\n",
              "      <td>sberbank</td>\n",
              "      <td>9122</td>\n",
              "      <td>1</td>\n",
              "    </tr>\n",
              "  </tbody>\n",
              "</table>\n",
              "<p>10725 rows × 5 columns</p>\n",
              "</div>"
            ],
            "text/plain": [
              "                                                    text  ...  len\n",
              "7791   сейчас я по есть и мы пойти в сбербанк если не...  ...   28\n",
              "6380   в филиал на ленинский 42 выдавать талончик сра...  ...   26\n",
              "1799   в ночь на среда о введение в отношение россия ...  ...   26\n",
              "1800   в ночь на среда о введение в отношение россия ...  ...   26\n",
              "319    а мы как раз сегодня получить от юрист информа...  ...   26\n",
              "...                                                  ...  ...  ...\n",
              "7840                                          в сбербанк  ...    2\n",
              "10619                                       user спасибо  ...    2\n",
              "8130                                 ненавидеть сбербанк  ...    2\n",
              "10266                                           сбербанк  ...    1\n",
              "10281                                          сбербанк2  ...    1\n",
              "\n",
              "[10725 rows x 5 columns]"
            ]
          },
          "metadata": {
            "tags": []
          },
          "execution_count": 181
        }
      ]
    },
    {
      "cell_type": "code",
      "metadata": {
        "id": "czhzXpHCN5KD",
        "outputId": "6916cca8-e3f8-4d91-9c17-fd28db832e74",
        "colab": {
          "base_uri": "https://localhost:8080/",
          "height": 419
        }
      },
      "source": [
        "test[\"len\"] = test['text'].apply(twit_len)\n",
        "test.sort_values(by=\"len\", ascending=False)"
      ],
      "execution_count": 182,
      "outputs": [
        {
          "output_type": "execute_result",
          "data": {
            "text/html": [
              "<div>\n",
              "<style scoped>\n",
              "    .dataframe tbody tr th:only-of-type {\n",
              "        vertical-align: middle;\n",
              "    }\n",
              "\n",
              "    .dataframe tbody tr th {\n",
              "        vertical-align: top;\n",
              "    }\n",
              "\n",
              "    .dataframe thead th {\n",
              "        text-align: right;\n",
              "    }\n",
              "</style>\n",
              "<table border=\"1\" class=\"dataframe\">\n",
              "  <thead>\n",
              "    <tr style=\"text-align: right;\">\n",
              "      <th></th>\n",
              "      <th>text</th>\n",
              "      <th>answer</th>\n",
              "      <th>company</th>\n",
              "      <th>sample_id</th>\n",
              "      <th>len</th>\n",
              "    </tr>\n",
              "  </thead>\n",
              "  <tbody>\n",
              "    <tr>\n",
              "      <th>1705</th>\n",
              "      <td>я позвонить из альфа банк и я сказать что я би...</td>\n",
              "      <td>0</td>\n",
              "      <td>alfabank</td>\n",
              "      <td>1739</td>\n",
              "      <td>28</td>\n",
              "    </tr>\n",
              "    <tr>\n",
              "      <th>1124</th>\n",
              "      <td>user при долгий пытка поддержка они понести аб...</td>\n",
              "      <td>-1</td>\n",
              "      <td>sberbank</td>\n",
              "      <td>1182</td>\n",
              "      <td>26</td>\n",
              "    </tr>\n",
              "    <tr>\n",
              "      <th>1389</th>\n",
              "      <td>sberbank cib не на 100 а на 50 бп теперь ждать...</td>\n",
              "      <td>0</td>\n",
              "      <td>sberbank</td>\n",
              "      <td>1481</td>\n",
              "      <td>26</td>\n",
              "    </tr>\n",
              "    <tr>\n",
              "      <th>2149</th>\n",
              "      <td>в 147 я позвонить в сбербанкпочий так позднопо...</td>\n",
              "      <td>-1</td>\n",
              "      <td>sberbank</td>\n",
              "      <td>2191</td>\n",
              "      <td>26</td>\n",
              "    </tr>\n",
              "    <tr>\n",
              "      <th>1051</th>\n",
              "      <td>иметь счёт в альфабанка часто заходить в моско...</td>\n",
              "      <td>1</td>\n",
              "      <td>alfabank</td>\n",
              "      <td>1098</td>\n",
              "      <td>26</td>\n",
              "    </tr>\n",
              "    <tr>\n",
              "      <th>...</th>\n",
              "      <td>...</td>\n",
              "      <td>...</td>\n",
              "      <td>...</td>\n",
              "      <td>...</td>\n",
              "      <td>...</td>\n",
              "    </tr>\n",
              "    <tr>\n",
              "      <th>2679</th>\n",
              "      <td>user спасибо</td>\n",
              "      <td>1</td>\n",
              "      <td>alfabank</td>\n",
              "      <td>2723</td>\n",
              "      <td>2</td>\n",
              "    </tr>\n",
              "    <tr>\n",
              "      <th>2203</th>\n",
              "      <td>заебал сбербанк</td>\n",
              "      <td>-1</td>\n",
              "      <td>sberbank</td>\n",
              "      <td>2245</td>\n",
              "      <td>2</td>\n",
              "    </tr>\n",
              "    <tr>\n",
              "      <th>2210</th>\n",
              "      <td>user спасибо</td>\n",
              "      <td>1</td>\n",
              "      <td>raiffeisen</td>\n",
              "      <td>2252</td>\n",
              "      <td>2</td>\n",
              "    </tr>\n",
              "    <tr>\n",
              "      <th>1847</th>\n",
              "      <td>сбербанк говно</td>\n",
              "      <td>-1</td>\n",
              "      <td>sberbank</td>\n",
              "      <td>1882</td>\n",
              "      <td>2</td>\n",
              "    </tr>\n",
              "    <tr>\n",
              "      <th>3416</th>\n",
              "      <td>user спасибо</td>\n",
              "      <td>1</td>\n",
              "      <td>alfabank</td>\n",
              "      <td>3472</td>\n",
              "      <td>2</td>\n",
              "    </tr>\n",
              "  </tbody>\n",
              "</table>\n",
              "<p>3418 rows × 5 columns</p>\n",
              "</div>"
            ],
            "text/plain": [
              "                                                   text  answer  ... sample_id  len\n",
              "1705  я позвонить из альфа банк и я сказать что я би...       0  ...      1739   28\n",
              "1124  user при долгий пытка поддержка они понести аб...      -1  ...      1182   26\n",
              "1389  sberbank cib не на 100 а на 50 бп теперь ждать...       0  ...      1481   26\n",
              "2149  в 147 я позвонить в сбербанкпочий так позднопо...      -1  ...      2191   26\n",
              "1051  иметь счёт в альфабанка часто заходить в моско...       1  ...      1098   26\n",
              "...                                                 ...     ...  ...       ...  ...\n",
              "2679                                       user спасибо       1  ...      2723    2\n",
              "2203                                    заебал сбербанк      -1  ...      2245    2\n",
              "2210                                       user спасибо       1  ...      2252    2\n",
              "1847                                     сбербанк говно      -1  ...      1882    2\n",
              "3416                                       user спасибо       1  ...      3472    2\n",
              "\n",
              "[3418 rows x 5 columns]"
            ]
          },
          "metadata": {
            "tags": []
          },
          "execution_count": 182
        }
      ]
    },
    {
      "cell_type": "markdown",
      "metadata": {
        "id": "4X3cvXCu2h7W"
      },
      "source": [
        "Длина максимального твита 30"
      ]
    },
    {
      "cell_type": "code",
      "metadata": {
        "id": "myoxrG3CogPL",
        "outputId": "cab3e5f3-d9bd-4122-aca5-cf0902a3e3cd",
        "colab": {
          "base_uri": "https://localhost:8080/"
        }
      },
      "source": [
        "!pip install gensim\n",
        "!pip install --upgrade gensim"
      ],
      "execution_count": 40,
      "outputs": [
        {
          "output_type": "stream",
          "text": [
            "Requirement already satisfied: gensim in /usr/local/lib/python3.6/dist-packages (3.6.0)\n",
            "Requirement already satisfied: scipy>=0.18.1 in /usr/local/lib/python3.6/dist-packages (from gensim) (1.4.1)\n",
            "Requirement already satisfied: numpy>=1.11.3 in /usr/local/lib/python3.6/dist-packages (from gensim) (1.18.5)\n",
            "Requirement already satisfied: smart-open>=1.2.1 in /usr/local/lib/python3.6/dist-packages (from gensim) (3.0.0)\n",
            "Requirement already satisfied: six>=1.5.0 in /usr/local/lib/python3.6/dist-packages (from gensim) (1.15.0)\n",
            "Requirement already satisfied: requests in /usr/local/lib/python3.6/dist-packages (from smart-open>=1.2.1->gensim) (2.23.0)\n",
            "Requirement already satisfied: urllib3!=1.25.0,!=1.25.1,<1.26,>=1.21.1 in /usr/local/lib/python3.6/dist-packages (from requests->smart-open>=1.2.1->gensim) (1.24.3)\n",
            "Requirement already satisfied: chardet<4,>=3.0.2 in /usr/local/lib/python3.6/dist-packages (from requests->smart-open>=1.2.1->gensim) (3.0.4)\n",
            "Requirement already satisfied: idna<3,>=2.5 in /usr/local/lib/python3.6/dist-packages (from requests->smart-open>=1.2.1->gensim) (2.10)\n",
            "Requirement already satisfied: certifi>=2017.4.17 in /usr/local/lib/python3.6/dist-packages (from requests->smart-open>=1.2.1->gensim) (2020.6.20)\n",
            "Collecting gensim\n",
            "\u001b[?25l  Downloading https://files.pythonhosted.org/packages/2b/e0/fa6326251692056dc880a64eb22117e03269906ba55a6864864d24ec8b4e/gensim-3.8.3-cp36-cp36m-manylinux1_x86_64.whl (24.2MB)\n",
            "\u001b[K     |████████████████████████████████| 24.2MB 1.5MB/s \n",
            "\u001b[?25hRequirement already satisfied, skipping upgrade: six>=1.5.0 in /usr/local/lib/python3.6/dist-packages (from gensim) (1.15.0)\n",
            "Requirement already satisfied, skipping upgrade: smart-open>=1.8.1 in /usr/local/lib/python3.6/dist-packages (from gensim) (3.0.0)\n",
            "Requirement already satisfied, skipping upgrade: numpy>=1.11.3 in /usr/local/lib/python3.6/dist-packages (from gensim) (1.18.5)\n",
            "Requirement already satisfied, skipping upgrade: scipy>=0.18.1 in /usr/local/lib/python3.6/dist-packages (from gensim) (1.4.1)\n",
            "Requirement already satisfied, skipping upgrade: requests in /usr/local/lib/python3.6/dist-packages (from smart-open>=1.8.1->gensim) (2.23.0)\n",
            "Requirement already satisfied, skipping upgrade: chardet<4,>=3.0.2 in /usr/local/lib/python3.6/dist-packages (from requests->smart-open>=1.8.1->gensim) (3.0.4)\n",
            "Requirement already satisfied, skipping upgrade: idna<3,>=2.5 in /usr/local/lib/python3.6/dist-packages (from requests->smart-open>=1.8.1->gensim) (2.10)\n",
            "Requirement already satisfied, skipping upgrade: urllib3!=1.25.0,!=1.25.1,<1.26,>=1.21.1 in /usr/local/lib/python3.6/dist-packages (from requests->smart-open>=1.8.1->gensim) (1.24.3)\n",
            "Requirement already satisfied, skipping upgrade: certifi>=2017.4.17 in /usr/local/lib/python3.6/dist-packages (from requests->smart-open>=1.8.1->gensim) (2020.6.20)\n",
            "Installing collected packages: gensim\n",
            "  Found existing installation: gensim 3.6.0\n",
            "    Uninstalling gensim-3.6.0:\n",
            "      Successfully uninstalled gensim-3.6.0\n",
            "Successfully installed gensim-3.8.3\n"
          ],
          "name": "stdout"
        }
      ]
    },
    {
      "cell_type": "code",
      "metadata": {
        "id": "bTSBbJUpvJzT"
      },
      "source": [
        "import gensim\n",
        "model = gensim.models.KeyedVectors.load('/content/drive/My Drive/Colab Notebooks/181/model.model')"
      ],
      "execution_count": 183,
      "outputs": []
    },
    {
      "cell_type": "code",
      "metadata": {
        "id": "YbXEvPGivT-B",
        "outputId": "71e7b553-10e9-4e49-cf7e-4ce6de0b109e",
        "colab": {
          "base_uri": "https://localhost:8080/"
        }
      },
      "source": [
        "model[\"куку\"]"
      ],
      "execution_count": 184,
      "outputs": [
        {
          "output_type": "execute_result",
          "data": {
            "text/plain": [
              "array([-0.00296784,  0.1947115 ,  0.52625775,  0.39905536, -0.27364528,\n",
              "       -0.01536282,  0.03818725,  0.23093444, -0.0551637 , -0.10007454,\n",
              "       -0.44373977,  0.20660451,  0.28840637, -0.41925228,  0.14498287,\n",
              "        0.16983645, -0.04566146,  0.23128168, -0.03944245,  0.21226472,\n",
              "       -0.41558653,  0.08801638,  0.11307734, -0.06979934, -0.0097214 ,\n",
              "        0.07263824,  0.05620824, -0.14806645,  0.35194167,  0.172066  ,\n",
              "       -0.43698296, -0.12684822, -0.21499002, -0.03457339, -0.03549154,\n",
              "        0.23319997, -0.00290691,  0.08414913,  0.26712644,  0.09097573,\n",
              "       -0.16478528, -0.11838078,  0.13538484,  0.22087407, -0.14097059,\n",
              "        0.01925237, -0.01664282, -0.02799122, -0.19373639, -0.0536807 ,\n",
              "        0.1361174 ,  0.5166878 , -0.06879478, -0.01188826, -0.37798637,\n",
              "        0.13728738, -0.21550705,  0.3008633 ,  0.15207118, -0.32287186,\n",
              "       -0.26013038, -0.10156683,  0.31808707, -0.25897062,  0.0171144 ,\n",
              "        0.2729003 , -0.4328185 ,  0.01800041, -0.28583258, -0.21068662,\n",
              "       -0.10393075, -0.28884295, -0.39642605,  0.20790303,  0.02192716,\n",
              "        0.41591278, -0.12869315, -0.03877889, -0.01120915, -0.07108681,\n",
              "        0.05630393,  0.2661761 ,  0.08974411, -0.02280902, -0.14213538,\n",
              "       -0.2061107 , -0.26549578, -0.00645873,  0.05960305, -0.5260982 ,\n",
              "       -0.05699564, -0.04486568,  0.01065222, -0.3096389 , -0.08180246,\n",
              "        0.63831246,  0.01333691, -0.05345754, -0.45516363, -0.28845584,\n",
              "        0.19474092,  0.19374636, -0.08393537, -0.0671139 ,  0.10813399,\n",
              "       -0.03832417, -0.2309339 ,  0.01789232,  0.14848524, -0.27404326,\n",
              "        0.18068048,  0.02208473, -0.21441397, -0.10103069,  0.02216738,\n",
              "       -0.15541106,  0.19289985, -0.02332067,  0.1827471 ,  0.14276125,\n",
              "       -0.11932939, -0.19455272, -0.14180814,  0.01610511,  0.2085038 ,\n",
              "        0.30087173, -0.0645776 , -0.09601097, -0.12604703, -0.01547358,\n",
              "       -0.09607225,  0.05764523, -0.19417801, -0.04320588, -0.1666517 ,\n",
              "       -0.14045694,  0.0447643 ,  0.30532068,  0.10474604,  0.06405339,\n",
              "       -0.1942451 ,  0.23985232, -0.05522457,  0.3990537 , -0.00733418,\n",
              "       -0.21527088, -0.13499075,  0.1711033 , -0.31360066,  0.04450466,\n",
              "       -0.1498116 ,  0.2845496 ,  0.31754604,  0.15315862, -0.04815533,\n",
              "        0.01696798,  0.1514609 ,  0.0095349 ,  0.07959747, -0.27066073,\n",
              "        0.11154869,  0.10940156, -0.12257566,  0.24148218,  0.05788656,\n",
              "        0.4594655 ,  0.16713452,  0.23975846, -0.07199039, -0.33276626,\n",
              "        0.23187436,  0.04611292,  0.07270676, -0.31450272, -0.3597211 ,\n",
              "       -0.14821978,  0.13471933, -0.5754763 , -0.3209743 ,  0.11189482,\n",
              "       -0.06018472,  0.0542591 , -0.09145373, -0.28321066, -0.4127053 ,\n",
              "        0.10802099,  0.15411925, -0.09334245, -0.30724287, -0.02533921,\n",
              "        0.03696728, -0.15432201, -0.08819453, -0.04486475,  0.1388124 ,\n",
              "       -0.12665169, -0.0790103 ,  0.3334512 ,  0.02114523,  0.18034095,\n",
              "       -0.17426546, -0.08389147, -0.31236517,  0.00258478, -0.12157234,\n",
              "        0.11108835,  0.08279496,  0.00531273,  0.21601151, -0.07153685,\n",
              "        0.13036443,  0.07148847, -0.1079427 , -0.00315193, -0.0587466 ,\n",
              "       -0.42435324,  0.15571827,  0.19237043,  0.39819083, -0.05194337,\n",
              "       -0.22741601,  0.09974593,  0.31399432, -0.00464167, -0.03155047,\n",
              "       -0.15377134,  0.35541448,  0.03387283,  0.13929656, -0.23065461,\n",
              "       -0.08332256,  0.03155819, -0.27261811,  0.02974829,  0.07272339,\n",
              "       -0.3323655 ,  0.16059773, -0.04823289,  0.11578364, -0.16504252,\n",
              "        0.15628253, -0.144984  , -0.04346183, -0.06558201, -0.13927081,\n",
              "       -0.01126317, -0.0483811 , -0.22995183, -0.5190144 , -0.25582898,\n",
              "       -0.10164972,  0.03367854, -0.07318744,  0.2402273 ,  0.20073515,\n",
              "       -0.24870314, -0.28450224, -0.11356658, -0.23550354, -0.26925796,\n",
              "        0.13722421, -0.24285184,  0.06550463, -0.00746757, -0.1405407 ,\n",
              "       -0.03305998, -0.1117443 , -0.7197209 , -0.04270695,  0.17491335,\n",
              "        0.15932699, -0.01501705, -0.20082638,  0.07658437, -0.43105164,\n",
              "        0.01626271,  0.22601165,  0.1599307 , -0.24429327,  0.3007959 ,\n",
              "       -0.15556408,  0.00098731,  0.21716116, -0.14213574, -0.08714748,\n",
              "       -0.11878077,  0.21649273,  0.08690073,  0.22831617,  0.07011076,\n",
              "       -0.18703204, -0.4622027 , -0.01494165, -0.04251046, -0.21170574,\n",
              "       -0.11916798,  0.11714973, -0.15914756,  0.00139921,  0.10284105],\n",
              "      dtype=float32)"
            ]
          },
          "metadata": {
            "tags": []
          },
          "execution_count": 184
        }
      ]
    },
    {
      "cell_type": "code",
      "metadata": {
        "id": "-rBaRJnx5d58"
      },
      "source": [
        "#все твиты сделаем размером 30 на 300\n",
        "\n",
        "def embedding(text):\n",
        "  k = len([model[word] for word in text.split()])\n",
        "  return np.concatenate([np.array([model[word] for word in text.split()]), np.zeros((30-k,300))])"
      ],
      "execution_count": 185,
      "outputs": []
    },
    {
      "cell_type": "code",
      "metadata": {
        "id": "XG0LJd0cCIVb",
        "outputId": "6e2c28b3-584a-4c62-f6f3-baff45912409",
        "colab": {
          "base_uri": "https://localhost:8080/"
        }
      },
      "source": [
        "twit_emb = lambda x: embedding(x)\n",
        "X_emb_train_tkk = train_tkk['text'].apply(twit_emb)\n",
        "X_emb_train_tkk.shape, X_emb_train_tkk[0].shape"
      ],
      "execution_count": 186,
      "outputs": [
        {
          "output_type": "execute_result",
          "data": {
            "text/plain": [
              "((9209,), (30, 300))"
            ]
          },
          "metadata": {
            "tags": []
          },
          "execution_count": 186
        }
      ]
    },
    {
      "cell_type": "code",
      "metadata": {
        "id": "VkM-niTzOUZV",
        "outputId": "851423e7-03c3-40b3-8b36-b6d538e041e4",
        "colab": {
          "base_uri": "https://localhost:8080/"
        }
      },
      "source": [
        "X_emb_test_tkk = test_tkk['text'].apply(twit_emb)\n",
        "X_emb_test_tkk.shape, X_emb_test_tkk[0].shape"
      ],
      "execution_count": 187,
      "outputs": [
        {
          "output_type": "execute_result",
          "data": {
            "text/plain": [
              "((2460,), (30, 300))"
            ]
          },
          "metadata": {
            "tags": []
          },
          "execution_count": 187
        }
      ]
    },
    {
      "cell_type": "code",
      "metadata": {
        "id": "jDVTtLtEK22g"
      },
      "source": [
        "X_emb_train_tkk = np.stack(X_emb_train_tkk.values)"
      ],
      "execution_count": 188,
      "outputs": []
    },
    {
      "cell_type": "code",
      "metadata": {
        "id": "p8YDbEwMOecN"
      },
      "source": [
        "X_emb_test_tkk = np.stack(X_emb_test_tkk.values)"
      ],
      "execution_count": 189,
      "outputs": []
    },
    {
      "cell_type": "code",
      "metadata": {
        "id": "1VAti7ZALdmc",
        "outputId": "c80daebb-bf67-4f4a-fc7d-c2844dedebbb",
        "colab": {
          "base_uri": "https://localhost:8080/"
        }
      },
      "source": [
        "#получили матрицу dim=4 для keras 2d\n",
        "\n",
        "X_emb_train_tkk = X_emb_train_tkk.reshape(X_emb_train_tkk.shape[0],30,300,1)\n",
        "X_emb_train_tkk.shape"
      ],
      "execution_count": 190,
      "outputs": [
        {
          "output_type": "execute_result",
          "data": {
            "text/plain": [
              "(9209, 30, 300, 1)"
            ]
          },
          "metadata": {
            "tags": []
          },
          "execution_count": 190
        }
      ]
    },
    {
      "cell_type": "code",
      "metadata": {
        "id": "0GAqUkx-OjnY",
        "outputId": "667137d4-79b9-4af7-9449-3eaa4e0aa8a0",
        "colab": {
          "base_uri": "https://localhost:8080/"
        }
      },
      "source": [
        "#получили матрицу dim=4 для keras 2d\n",
        "\n",
        "X_emb_test_tkk = X_emb_test_tkk.reshape(X_emb_test_tkk.shape[0],30,300,1)\n",
        "X_emb_test_tkk.shape"
      ],
      "execution_count": 191,
      "outputs": [
        {
          "output_type": "execute_result",
          "data": {
            "text/plain": [
              "(2460, 30, 300, 1)"
            ]
          },
          "metadata": {
            "tags": []
          },
          "execution_count": 191
        }
      ]
    },
    {
      "cell_type": "code",
      "metadata": {
        "id": "PmjpDtdUm49W"
      },
      "source": [
        "#сделаем тоже самое для банков\n",
        "X_emb_train_bank = train['text'].apply(twit_emb)\n",
        "X_emb_test_bank = test['text'].apply(twit_emb)\n",
        "\n",
        "X_emb_train_bank = np.stack(X_emb_train_bank.values)\n",
        "X_emb_test_bank = np.stack(X_emb_test_bank.values)\n",
        "\n",
        "X_emb_train_bank = X_emb_train_bank.reshape(X_emb_train_bank.shape[0],30,300,1)\n",
        "X_emb_test_bank = X_emb_test_bank.reshape(X_emb_test_bank.shape[0],30,300,1)\n"
      ],
      "execution_count": 192,
      "outputs": []
    },
    {
      "cell_type": "code",
      "metadata": {
        "id": "MvWto0_vCQKI"
      },
      "source": [
        "import keras\n",
        "from keras.layers import Dense, Flatten, Dropout\n",
        "from keras.layers import Conv2D, MaxPooling2D, Conv1D, MaxPooling1D, BatchNormalization\n",
        "from keras.models import Sequential"
      ],
      "execution_count": 193,
      "outputs": []
    },
    {
      "cell_type": "code",
      "metadata": {
        "id": "1lJvBKOXchW2"
      },
      "source": [
        "test_tkk['answer'] = test_tkk['answer'].map({-1:0,0:1,1:2})\n",
        "train_tkk['answer'] = train_tkk['answer'].map({-1:0,0:1,1:2})"
      ],
      "execution_count": 194,
      "outputs": []
    },
    {
      "cell_type": "code",
      "metadata": {
        "id": "r4LiLRfMnpz8"
      },
      "source": [
        "test['answer'] = test['answer'].map({-1:0,0:1,1:2})\n",
        "train['answer'] = train['answer'].map({-1:0,0:1,1:2})"
      ],
      "execution_count": 195,
      "outputs": []
    },
    {
      "cell_type": "code",
      "metadata": {
        "id": "5zxPSovZcnqK",
        "outputId": "e59cace9-28a8-4621-8d42-ca45f1e7545c",
        "colab": {
          "base_uri": "https://localhost:8080/"
        }
      },
      "source": [
        "train_tkk['answer']"
      ],
      "execution_count": 196,
      "outputs": [
        {
          "output_type": "execute_result",
          "data": {
            "text/plain": [
              "0       1\n",
              "1       1\n",
              "2       0\n",
              "3       2\n",
              "4       0\n",
              "       ..\n",
              "9204    2\n",
              "9205    0\n",
              "9206    0\n",
              "9207    0\n",
              "9208    0\n",
              "Name: answer, Length: 9209, dtype: int64"
            ]
          },
          "metadata": {
            "tags": []
          },
          "execution_count": 196
        }
      ]
    },
    {
      "cell_type": "code",
      "metadata": {
        "id": "CmsdmrOwL8di"
      },
      "source": [
        "y_train = keras.utils.to_categorical(train_tkk['answer'], 3)\n",
        "y_test = keras.utils.to_categorical(test_tkk['answer'], 3)"
      ],
      "execution_count": 198,
      "outputs": []
    },
    {
      "cell_type": "code",
      "metadata": {
        "id": "JV3AAnotnzrk"
      },
      "source": [
        "y_train_bank = keras.utils.to_categorical(train['answer'], 3)\n",
        "y_test_bank = keras.utils.to_categorical(test['answer'], 3)"
      ],
      "execution_count": 199,
      "outputs": []
    },
    {
      "cell_type": "code",
      "metadata": {
        "id": "dKHCNlVnOgdi"
      },
      "source": [
        "model = Sequential()\n",
        "model.add(Conv2D(32, kernel_size=(5, 5), strides=(1, 1),\n",
        "                 activation='relu',\n",
        "                 input_shape=(30,300,1), data_format='channels_last', padding = 'same'))\n",
        "model.add(MaxPooling2D(pool_size=(2, 2), strides=(2, 2)))\n",
        "model.add(Conv2D(64, (5, 5), activation='relu'))\n",
        "model.add(MaxPooling2D(pool_size=(2, 2)))\n",
        "model.add(Flatten())\n",
        "model.add(Dropout(0.5))\n",
        "model.add(Dense(1000, activation='relu'))\n",
        "model.add(Dense(3, activation='softmax'))\n",
        "\n",
        "model.compile(loss=keras.losses.categorical_crossentropy,\n",
        "              optimizer=keras.optimizers.Adam(),\n",
        "              metrics=['accuracy'])"
      ],
      "execution_count": 200,
      "outputs": []
    },
    {
      "cell_type": "code",
      "metadata": {
        "id": "YHz4DQ3CPTME"
      },
      "source": [
        "#model2\n",
        "''' В статье написано так: For all datasets we use: rectified linear units, filter\n",
        "windows (h) of 3, 4, 5 with 100 feature maps each,\n",
        "dropout rate (p) of 0.5, l2 constraint (s) of 3, and\n",
        "mini-batch size of 50. These values were chosen\n",
        "via a grid search on the SST-2 dev set.'''\n",
        "model2 = Sequential()\n",
        "model2.add(Conv1D(100, 3, padding='same', strides=1, activation='relu'))\n",
        "model2.add(MaxPooling1D(pool_size=28, padding='same'))\n",
        "model2.add(Conv1D(100, 4, padding='same', strides=1, activation='relu'))\n",
        "model2.add(MaxPooling1D(pool_size=27, padding='same'))\n",
        "model2.add(Conv1D(100, 5, padding='same', strides=1, activation='relu'))\n",
        "model2.add(MaxPooling1D(pool_size=26, padding='same'))\n",
        "model2.add(Flatten())\n",
        "model2.add(Dropout(0.2))\n",
        "#model2.add(Dense(1000, activation='relu'))\n",
        "model2.add(Dense(3, activation='softmax'))\n",
        "\n",
        "model2.compile(loss=keras.losses.categorical_crossentropy,\n",
        "              optimizer=keras.optimizers.Adam(),\n",
        "              metrics=['accuracy'])"
      ],
      "execution_count": 207,
      "outputs": []
    },
    {
      "cell_type": "code",
      "metadata": {
        "id": "CXSPAXlCMq9U",
        "outputId": "718516e3-b665-4317-8b54-f1d251070c64",
        "colab": {
          "base_uri": "https://localhost:8080/"
        }
      },
      "source": [
        "batch_size = 50\n",
        "epochs = 10\n",
        "model.fit(X_emb_train_tkk, y_train,\n",
        "          batch_size=batch_size,\n",
        "          epochs=epochs,\n",
        "          verbose=1,\n",
        "          validation_data=(X_emb_test_tkk, y_test))\n",
        "score = model.evaluate(X_emb_test_tkk, y_test, verbose=0)\n",
        "print('Test loss:', score[0])\n",
        "print('Test accuracy:', score[1])"
      ],
      "execution_count": 202,
      "outputs": [
        {
          "output_type": "stream",
          "text": [
            "Epoch 1/10\n",
            "185/185 [==============================] - 197s 1s/step - loss: 0.9458 - accuracy: 0.5732 - val_loss: 0.9605 - val_accuracy: 0.5293\n",
            "Epoch 2/10\n",
            "185/185 [==============================] - 197s 1s/step - loss: 0.8268 - accuracy: 0.6381 - val_loss: 0.9335 - val_accuracy: 0.5947\n",
            "Epoch 3/10\n",
            "185/185 [==============================] - 196s 1s/step - loss: 0.7724 - accuracy: 0.6599 - val_loss: 0.9128 - val_accuracy: 0.5996\n",
            "Epoch 4/10\n",
            "185/185 [==============================] - 197s 1s/step - loss: 0.7331 - accuracy: 0.6850 - val_loss: 0.9057 - val_accuracy: 0.6114\n",
            "Epoch 5/10\n",
            "185/185 [==============================] - 196s 1s/step - loss: 0.6847 - accuracy: 0.7039 - val_loss: 0.9487 - val_accuracy: 0.6033\n",
            "Epoch 6/10\n",
            "185/185 [==============================] - 195s 1s/step - loss: 0.6434 - accuracy: 0.7231 - val_loss: 0.9161 - val_accuracy: 0.6061\n",
            "Epoch 7/10\n",
            "185/185 [==============================] - 195s 1s/step - loss: 0.6130 - accuracy: 0.7353 - val_loss: 0.9016 - val_accuracy: 0.6211\n",
            "Epoch 8/10\n",
            "185/185 [==============================] - 196s 1s/step - loss: 0.5724 - accuracy: 0.7580 - val_loss: 0.9504 - val_accuracy: 0.6163\n",
            "Epoch 9/10\n",
            "185/185 [==============================] - 195s 1s/step - loss: 0.5323 - accuracy: 0.7814 - val_loss: 0.9609 - val_accuracy: 0.6028\n",
            "Epoch 10/10\n",
            "185/185 [==============================] - 195s 1s/step - loss: 0.4872 - accuracy: 0.7967 - val_loss: 0.9686 - val_accuracy: 0.6146\n",
            "Test loss: 0.9685540199279785\n",
            "Test accuracy: 0.6146341562271118\n"
          ],
          "name": "stdout"
        }
      ]
    },
    {
      "cell_type": "code",
      "metadata": {
        "id": "awyAO3IAYnFg",
        "outputId": "4a36257c-4ab3-46ea-fe09-a089e83bc051",
        "colab": {
          "base_uri": "https://localhost:8080/"
        }
      },
      "source": [
        "X_emb_train_tkk = X_emb_train_tkk.reshape(X_emb_train_tkk.shape[0],30,300)\n",
        "X_emb_train_tkk.shape\n",
        "X_emb_test_tkk = X_emb_test_tkk.reshape(X_emb_test_tkk.shape[0],30,300)\n",
        "X_emb_test_tkk.shape"
      ],
      "execution_count": 205,
      "outputs": [
        {
          "output_type": "execute_result",
          "data": {
            "text/plain": [
              "(2460, 30, 300)"
            ]
          },
          "metadata": {
            "tags": []
          },
          "execution_count": 205
        }
      ]
    },
    {
      "cell_type": "code",
      "metadata": {
        "id": "NfJZC05jSaY_",
        "outputId": "b24a721a-1c9a-46bf-c2d9-cbf81824cc4f",
        "colab": {
          "base_uri": "https://localhost:8080/"
        }
      },
      "source": [
        "#model2\n",
        "\n",
        "batch_size = 70\n",
        "epochs = 10\n",
        "model2.fit(X_emb_train_tkk, y_train,\n",
        "          batch_size=batch_size,\n",
        "          epochs=epochs,\n",
        "          verbose=1,\n",
        "          validation_data=(X_emb_test_tkk, y_test))\n",
        "score = model2.evaluate(X_emb_test_tkk, y_test, verbose=0)\n",
        "print('Test loss:', score[0])\n",
        "print('Test accuracy:', score[1])"
      ],
      "execution_count": 209,
      "outputs": [
        {
          "output_type": "stream",
          "text": [
            "Epoch 1/10\n",
            "132/132 [==============================] - 4s 34ms/step - loss: 0.0868 - accuracy: 0.9705 - val_loss: 1.6337 - val_accuracy: 0.6776\n",
            "Epoch 2/10\n",
            "132/132 [==============================] - 4s 33ms/step - loss: 0.0737 - accuracy: 0.9730 - val_loss: 1.6330 - val_accuracy: 0.6415\n",
            "Epoch 3/10\n",
            "132/132 [==============================] - 4s 33ms/step - loss: 0.0671 - accuracy: 0.9737 - val_loss: 1.8882 - val_accuracy: 0.6524\n",
            "Epoch 4/10\n",
            "132/132 [==============================] - 4s 33ms/step - loss: 0.0575 - accuracy: 0.9755 - val_loss: 2.0443 - val_accuracy: 0.6370\n",
            "Epoch 5/10\n",
            "132/132 [==============================] - 4s 33ms/step - loss: 0.0527 - accuracy: 0.9786 - val_loss: 2.0514 - val_accuracy: 0.6398\n",
            "Epoch 6/10\n",
            "132/132 [==============================] - 4s 33ms/step - loss: 0.0516 - accuracy: 0.9788 - val_loss: 1.7919 - val_accuracy: 0.6317\n",
            "Epoch 7/10\n",
            "132/132 [==============================] - 4s 33ms/step - loss: 0.0647 - accuracy: 0.9698 - val_loss: 2.2113 - val_accuracy: 0.6606\n",
            "Epoch 8/10\n",
            "132/132 [==============================] - 4s 33ms/step - loss: 0.0678 - accuracy: 0.9704 - val_loss: 2.8100 - val_accuracy: 0.6293\n",
            "Epoch 9/10\n",
            "132/132 [==============================] - 4s 33ms/step - loss: 0.0538 - accuracy: 0.9734 - val_loss: 2.2667 - val_accuracy: 0.6439\n",
            "Epoch 10/10\n",
            "132/132 [==============================] - 4s 33ms/step - loss: 0.0581 - accuracy: 0.9724 - val_loss: 1.8620 - val_accuracy: 0.6695\n",
            "Test loss: 1.862050175666809\n",
            "Test accuracy: 0.6695122122764587\n"
          ],
          "name": "stdout"
        }
      ]
    },
    {
      "cell_type": "code",
      "metadata": {
        "id": "y33XCkTvQTF4",
        "outputId": "449acf3e-a7f6-4da5-e785-0956914c9918",
        "colab": {
          "base_uri": "https://localhost:8080/"
        }
      },
      "source": [
        "yhat_classes_m1 = model.predict_classes(X_emb_test_tkk, verbose=0)\n",
        "yhat_classes_m1.shape, test_tkk['answer'].shape"
      ],
      "execution_count": 203,
      "outputs": [
        {
          "output_type": "execute_result",
          "data": {
            "text/plain": [
              "((2460,), (2460,))"
            ]
          },
          "metadata": {
            "tags": []
          },
          "execution_count": 203
        }
      ]
    },
    {
      "cell_type": "code",
      "metadata": {
        "id": "cwHH8xORbnuN",
        "outputId": "05e7575b-2315-4234-fa7b-98bbf6e23826",
        "colab": {
          "base_uri": "https://localhost:8080/"
        }
      },
      "source": [
        "yhat_classes_m1"
      ],
      "execution_count": 52,
      "outputs": [
        {
          "output_type": "execute_result",
          "data": {
            "text/plain": [
              "array([1, 1, 1, ..., 0, 1, 0])"
            ]
          },
          "metadata": {
            "tags": []
          },
          "execution_count": 52
        }
      ]
    },
    {
      "cell_type": "code",
      "metadata": {
        "id": "w1GQkV0EQjY-",
        "outputId": "3836d8c5-19ae-46ae-9ce9-f919eb41ec1b",
        "colab": {
          "base_uri": "https://localhost:8080/"
        }
      },
      "source": [
        "f1_macro = f1_score(test_tkk['answer'], yhat_classes_m1, average=\"macro\")\n",
        "f1_micro = f1_score(test_tkk['answer'], yhat_classes_m1, average=\"micro\")\n",
        "f1_macro, f1_micro"
      ],
      "execution_count": 204,
      "outputs": [
        {
          "output_type": "execute_result",
          "data": {
            "text/plain": [
              "(0.48826267900881043, 0.6146341463414634)"
            ]
          },
          "metadata": {
            "tags": []
          },
          "execution_count": 204
        }
      ]
    },
    {
      "cell_type": "code",
      "metadata": {
        "id": "Ea5OiGq1aacu",
        "outputId": "3e90f876-08bf-44dc-8118-393e0ed666fe",
        "colab": {
          "base_uri": "https://localhost:8080/"
        }
      },
      "source": [
        "yhat_classes_m2 = model2.predict_classes(X_emb_test_tkk, verbose=0)\n",
        "yhat_classes_m2.shape, test_tkk['answer'].shape"
      ],
      "execution_count": 210,
      "outputs": [
        {
          "output_type": "execute_result",
          "data": {
            "text/plain": [
              "((2460,), (2460,))"
            ]
          },
          "metadata": {
            "tags": []
          },
          "execution_count": 210
        }
      ]
    },
    {
      "cell_type": "code",
      "metadata": {
        "id": "w1Se9_rMcS7R",
        "outputId": "8f7fd8b5-09c6-4f7e-97fb-d599e6ac626a",
        "colab": {
          "base_uri": "https://localhost:8080/"
        }
      },
      "source": [
        "f1_macro = f1_score(test_tkk['answer'], yhat_classes_m2, average=\"macro\")\n",
        "f1_micro = f1_score(test_tkk['answer'], yhat_classes_m2, average=\"micro\")\n",
        "f1_macro, f1_micro"
      ],
      "execution_count": 211,
      "outputs": [
        {
          "output_type": "execute_result",
          "data": {
            "text/plain": [
              "(0.5692380715369485, 0.6695121951219513)"
            ]
          },
          "metadata": {
            "tags": []
          },
          "execution_count": 211
        }
      ]
    },
    {
      "cell_type": "markdown",
      "metadata": {
        "id": "pH3unguJxEoz"
      },
      "source": [
        "Я попробовала модель 2D без изменений - она дает значения метрик: (0.48826267900881043, 0.6146341463414634)\n",
        "Я пробовала менять в ней значения kernel size на (3,30), но это не дало прироста метрики и скорости.\n",
        "\n",
        "Попробовала модель со слоями 1D - она быстрее и метрика чуть лучше получилась. "
      ]
    },
    {
      "cell_type": "code",
      "metadata": {
        "id": "-EfFjEUMx7X5"
      },
      "source": [
        ""
      ],
      "execution_count": null,
      "outputs": []
    }
  ]
}