{
 "cells": [
  {
   "cell_type": "markdown",
   "metadata": {
    "papermill": {
     "duration": 0.036952,
     "end_time": "2020-10-31T16:59:25.285319",
     "exception": false,
     "start_time": "2020-10-31T16:59:25.248367",
     "status": "completed"
    },
    "tags": []
   },
   "source": [
    "# **Задача**\n",
    "\n",
    "Предсказать задержку рейса более чем на 15 минут"
   ]
  },
  {
   "cell_type": "markdown",
   "metadata": {
    "papermill": {
     "duration": 0.034505,
     "end_time": "2020-10-31T16:59:25.354848",
     "exception": false,
     "start_time": "2020-10-31T16:59:25.320343",
     "status": "completed"
    },
    "tags": []
   },
   "source": [
    "Загрузим библиотеки и данные"
   ]
  },
  {
   "cell_type": "code",
   "execution_count": 1,
   "metadata": {
    "_cell_guid": "b1076dfc-b9ad-4769-8c92-a6c4dae69d19",
    "_uuid": "8f2839f25d086af736a60e9eeb907d3b93b6e0e5",
    "execution": {
     "iopub.execute_input": "2020-10-31T16:59:25.432465Z",
     "iopub.status.busy": "2020-10-31T16:59:25.431788Z",
     "iopub.status.idle": "2020-10-31T16:59:26.507940Z",
     "shell.execute_reply": "2020-10-31T16:59:26.507365Z"
    },
    "papermill": {
     "duration": 1.118266,
     "end_time": "2020-10-31T16:59:26.508065",
     "exception": false,
     "start_time": "2020-10-31T16:59:25.389799",
     "status": "completed"
    },
    "tags": []
   },
   "outputs": [],
   "source": [
    "import numpy as np\n",
    "import pandas as pd \n",
    "import matplotlib\n",
    "import matplotlib.pyplot as plt\n",
    "import seaborn as sns\n",
    "import catboost as ctb\n",
    "from catboost import CatBoostClassifier\n",
    "from sklearn.model_selection import GridSearchCV\n",
    "from sklearn.model_selection import train_test_split\n",
    "from sklearn.metrics import roc_auc_score\n",
    "sns.set()\n",
    "%config InlineBackend.figure_format = 'retina'"
   ]
  },
  {
   "cell_type": "code",
   "execution_count": 2,
   "metadata": {
    "_cell_guid": "79c7e3d0-c299-4dcb-8224-4455121ee9b0",
    "_uuid": "d629ff2d2480ee46fbb7e2d37f6b5fab8052498a",
    "execution": {
     "iopub.execute_input": "2020-10-31T16:59:26.585541Z",
     "iopub.status.busy": "2020-10-31T16:59:26.584929Z",
     "iopub.status.idle": "2020-10-31T16:59:26.793468Z",
     "shell.execute_reply": "2020-10-31T16:59:26.793973Z"
    },
    "papermill": {
     "duration": 0.250203,
     "end_time": "2020-10-31T16:59:26.794112",
     "exception": false,
     "start_time": "2020-10-31T16:59:26.543909",
     "status": "completed"
    },
    "tags": []
   },
   "outputs": [
    {
     "data": {
      "text/html": [
       "<div>\n",
       "<style scoped>\n",
       "    .dataframe tbody tr th:only-of-type {\n",
       "        vertical-align: middle;\n",
       "    }\n",
       "\n",
       "    .dataframe tbody tr th {\n",
       "        vertical-align: top;\n",
       "    }\n",
       "\n",
       "    .dataframe thead th {\n",
       "        text-align: right;\n",
       "    }\n",
       "</style>\n",
       "<table border=\"1\" class=\"dataframe\">\n",
       "  <thead>\n",
       "    <tr style=\"text-align: right;\">\n",
       "      <th></th>\n",
       "      <th>month</th>\n",
       "      <th>day_of_month</th>\n",
       "      <th>day_of_week</th>\n",
       "      <th>dep_time</th>\n",
       "      <th>unique_carrier</th>\n",
       "      <th>origin</th>\n",
       "      <th>dest</th>\n",
       "      <th>distance</th>\n",
       "      <th>dep_delayed_15min</th>\n",
       "    </tr>\n",
       "  </thead>\n",
       "  <tbody>\n",
       "    <tr>\n",
       "      <th>0</th>\n",
       "      <td>4</td>\n",
       "      <td>16</td>\n",
       "      <td>4</td>\n",
       "      <td>1309</td>\n",
       "      <td>OO</td>\n",
       "      <td>GEG</td>\n",
       "      <td>SLC</td>\n",
       "      <td>546</td>\n",
       "      <td>0</td>\n",
       "    </tr>\n",
       "    <tr>\n",
       "      <th>1</th>\n",
       "      <td>3</td>\n",
       "      <td>11</td>\n",
       "      <td>3</td>\n",
       "      <td>1118</td>\n",
       "      <td>UA</td>\n",
       "      <td>LAX</td>\n",
       "      <td>ORD</td>\n",
       "      <td>1744</td>\n",
       "      <td>0</td>\n",
       "    </tr>\n",
       "    <tr>\n",
       "      <th>2</th>\n",
       "      <td>4</td>\n",
       "      <td>2</td>\n",
       "      <td>4</td>\n",
       "      <td>558</td>\n",
       "      <td>WN</td>\n",
       "      <td>PDX</td>\n",
       "      <td>DEN</td>\n",
       "      <td>991</td>\n",
       "      <td>0</td>\n",
       "    </tr>\n",
       "    <tr>\n",
       "      <th>3</th>\n",
       "      <td>5</td>\n",
       "      <td>28</td>\n",
       "      <td>4</td>\n",
       "      <td>1540</td>\n",
       "      <td>OO</td>\n",
       "      <td>GFK</td>\n",
       "      <td>MSP</td>\n",
       "      <td>284</td>\n",
       "      <td>0</td>\n",
       "    </tr>\n",
       "    <tr>\n",
       "      <th>4</th>\n",
       "      <td>7</td>\n",
       "      <td>17</td>\n",
       "      <td>5</td>\n",
       "      <td>718</td>\n",
       "      <td>AA</td>\n",
       "      <td>CLT</td>\n",
       "      <td>PHL</td>\n",
       "      <td>449</td>\n",
       "      <td>0</td>\n",
       "    </tr>\n",
       "  </tbody>\n",
       "</table>\n",
       "</div>"
      ],
      "text/plain": [
       "   month  day_of_month  day_of_week  dep_time unique_carrier origin dest  \\\n",
       "0      4            16            4      1309             OO    GEG  SLC   \n",
       "1      3            11            3      1118             UA    LAX  ORD   \n",
       "2      4             2            4       558             WN    PDX  DEN   \n",
       "3      5            28            4      1540             OO    GFK  MSP   \n",
       "4      7            17            5       718             AA    CLT  PHL   \n",
       "\n",
       "   distance  dep_delayed_15min  \n",
       "0       546                  0  \n",
       "1      1744                  0  \n",
       "2       991                  0  \n",
       "3       284                  0  \n",
       "4       449                  0  "
      ]
     },
     "execution_count": 2,
     "metadata": {},
     "output_type": "execute_result"
    }
   ],
   "source": [
    "train = pd.read_csv('../input/focus-start-2020/flight_delays_train.csv')\n",
    "test = pd.read_csv('../input/focus-start-2020/flight_delays_test.csv')\n",
    "train.head()"
   ]
  },
  {
   "cell_type": "markdown",
   "metadata": {
    "papermill": {
     "duration": 0.035233,
     "end_time": "2020-10-31T16:59:26.865394",
     "exception": false,
     "start_time": "2020-10-31T16:59:26.830161",
     "status": "completed"
    },
    "tags": []
   },
   "source": [
    "# **EDA**"
   ]
  },
  {
   "cell_type": "code",
   "execution_count": 3,
   "metadata": {
    "execution": {
     "iopub.execute_input": "2020-10-31T16:59:26.956022Z",
     "iopub.status.busy": "2020-10-31T16:59:26.955352Z",
     "iopub.status.idle": "2020-10-31T16:59:26.969096Z",
     "shell.execute_reply": "2020-10-31T16:59:26.968619Z"
    },
    "papermill": {
     "duration": 0.068193,
     "end_time": "2020-10-31T16:59:26.969209",
     "exception": false,
     "start_time": "2020-10-31T16:59:26.901016",
     "status": "completed"
    },
    "tags": []
   },
   "outputs": [
    {
     "name": "stdout",
     "output_type": "stream",
     "text": [
      "<class 'pandas.core.frame.DataFrame'>\n",
      "RangeIndex: 124397 entries, 0 to 124396\n",
      "Data columns (total 9 columns):\n",
      " #   Column             Non-Null Count   Dtype \n",
      "---  ------             --------------   ----- \n",
      " 0   month              124397 non-null  int64 \n",
      " 1   day_of_month       124397 non-null  int64 \n",
      " 2   day_of_week        124397 non-null  int64 \n",
      " 3   dep_time           124397 non-null  int64 \n",
      " 4   unique_carrier     124397 non-null  object\n",
      " 5   origin             124397 non-null  object\n",
      " 6   dest               124397 non-null  object\n",
      " 7   distance           124397 non-null  int64 \n",
      " 8   dep_delayed_15min  124397 non-null  int64 \n",
      "dtypes: int64(6), object(3)\n",
      "memory usage: 8.5+ MB\n"
     ]
    }
   ],
   "source": [
    "train.info()"
   ]
  },
  {
   "cell_type": "markdown",
   "metadata": {
    "papermill": {
     "duration": 0.036268,
     "end_time": "2020-10-31T16:59:27.041743",
     "exception": false,
     "start_time": "2020-10-31T16:59:27.005475",
     "status": "completed"
    },
    "tags": []
   },
   "source": [
    "Выборка немного несбалансирована."
   ]
  },
  {
   "cell_type": "code",
   "execution_count": 4,
   "metadata": {
    "execution": {
     "iopub.execute_input": "2020-10-31T16:59:27.119531Z",
     "iopub.status.busy": "2020-10-31T16:59:27.118895Z",
     "iopub.status.idle": "2020-10-31T16:59:27.125478Z",
     "shell.execute_reply": "2020-10-31T16:59:27.125006Z"
    },
    "papermill": {
     "duration": 0.047812,
     "end_time": "2020-10-31T16:59:27.125607",
     "exception": false,
     "start_time": "2020-10-31T16:59:27.077795",
     "status": "completed"
    },
    "tags": []
   },
   "outputs": [
    {
     "data": {
      "text/plain": [
       "0    102482\n",
       "1     21915\n",
       "Name: dep_delayed_15min, dtype: int64"
      ]
     },
     "execution_count": 4,
     "metadata": {},
     "output_type": "execute_result"
    }
   ],
   "source": [
    "train[\"dep_delayed_15min\"].value_counts()"
   ]
  },
  {
   "cell_type": "markdown",
   "metadata": {
    "papermill": {
     "duration": 0.036363,
     "end_time": "2020-10-31T16:59:27.198801",
     "exception": false,
     "start_time": "2020-10-31T16:59:27.162438",
     "status": "completed"
    },
    "tags": []
   },
   "source": [
    "Пропущенных значений нет."
   ]
  },
  {
   "cell_type": "code",
   "execution_count": 5,
   "metadata": {
    "execution": {
     "iopub.execute_input": "2020-10-31T16:59:27.292044Z",
     "iopub.status.busy": "2020-10-31T16:59:27.276364Z",
     "iopub.status.idle": "2020-10-31T16:59:27.299558Z",
     "shell.execute_reply": "2020-10-31T16:59:27.300014Z"
    },
    "papermill": {
     "duration": 0.064708,
     "end_time": "2020-10-31T16:59:27.300156",
     "exception": false,
     "start_time": "2020-10-31T16:59:27.235448",
     "status": "completed"
    },
    "tags": []
   },
   "outputs": [
    {
     "data": {
      "text/plain": [
       "month                0\n",
       "day_of_month         0\n",
       "day_of_week          0\n",
       "dep_time             0\n",
       "unique_carrier       0\n",
       "origin               0\n",
       "dest                 0\n",
       "distance             0\n",
       "dep_delayed_15min    0\n",
       "dtype: int64"
      ]
     },
     "execution_count": 5,
     "metadata": {},
     "output_type": "execute_result"
    }
   ],
   "source": [
    "train.isnull().sum()"
   ]
  },
  {
   "cell_type": "markdown",
   "metadata": {
    "papermill": {
     "duration": 0.03646,
     "end_time": "2020-10-31T16:59:27.373497",
     "exception": false,
     "start_time": "2020-10-31T16:59:27.337037",
     "status": "completed"
    },
    "tags": []
   },
   "source": [
    "Посмотрим зависимости таргета от разных признаков."
   ]
  },
  {
   "cell_type": "markdown",
   "metadata": {
    "papermill": {
     "duration": 0.036508,
     "end_time": "2020-10-31T16:59:27.446786",
     "exception": false,
     "start_time": "2020-10-31T16:59:27.410278",
     "status": "completed"
    },
    "tags": []
   },
   "source": [
    "1.На выходных меньше полетов и меньше задержек, особенно в субботу."
   ]
  },
  {
   "cell_type": "code",
   "execution_count": 6,
   "metadata": {
    "execution": {
     "iopub.execute_input": "2020-10-31T16:59:27.526269Z",
     "iopub.status.busy": "2020-10-31T16:59:27.525625Z",
     "iopub.status.idle": "2020-10-31T16:59:27.850639Z",
     "shell.execute_reply": "2020-10-31T16:59:27.851122Z"
    },
    "papermill": {
     "duration": 0.367627,
     "end_time": "2020-10-31T16:59:27.851259",
     "exception": false,
     "start_time": "2020-10-31T16:59:27.483632",
     "status": "completed"
    },
    "tags": []
   },
   "outputs": [
    {
     "data": {
      "image/png": "[encoded data removed]",
      "text/plain": [
       "<Figure size 504x360 with 1 Axes>"
      ]
     },
     "metadata": {
      "image/png": {
       "height": 337,
       "width": 465
      }
     },
     "output_type": "display_data"
    }
   ],
   "source": [
    "fig, ax = plt.subplots(figsize=(7,5))\n",
    "plt.title('Распределение таргета в зависимости от дня недели')\n",
    "sns.countplot(x='day_of_week', hue='dep_delayed_15min', data=train[[\"day_of_week\", \"dep_delayed_15min\"]], palette=\"Set2\");"
   ]
  },
  {
   "cell_type": "markdown",
   "metadata": {
    "papermill": {
     "duration": 0.037893,
     "end_time": "2020-10-31T16:59:27.927788",
     "exception": false,
     "start_time": "2020-10-31T16:59:27.889895",
     "status": "completed"
    },
    "tags": []
   },
   "source": [
    "2. Здесь тоже видно,что на выходных задержек меньше"
   ]
  },
  {
   "cell_type": "code",
   "execution_count": 7,
   "metadata": {
    "execution": {
     "iopub.execute_input": "2020-10-31T16:59:28.016748Z",
     "iopub.status.busy": "2020-10-31T16:59:28.015788Z",
     "iopub.status.idle": "2020-10-31T16:59:28.560980Z",
     "shell.execute_reply": "2020-10-31T16:59:28.560368Z"
    },
    "papermill": {
     "duration": 0.595146,
     "end_time": "2020-10-31T16:59:28.561089",
     "exception": false,
     "start_time": "2020-10-31T16:59:27.965943",
     "status": "completed"
    },
    "tags": []
   },
   "outputs": [
    {
     "data": {
      "image/png": "[encoded data removed]",
      "text/plain": [
       "<Figure size 504x360 with 1 Axes>"
      ]
     },
     "metadata": {
      "image/png": {
       "height": 337,
       "width": 459
      }
     },
     "output_type": "display_data"
    }
   ],
   "source": [
    "fig, ax = plt.subplots(figsize=(7,5))\n",
    "plt.title('Распределение таргета в зависимости от дня месяца')\n",
    "sns.countplot(x='day_of_month', hue='dep_delayed_15min', data=train[[\"day_of_month\", \"dep_delayed_15min\"]], palette=\"Set2\");"
   ]
  },
  {
   "cell_type": "markdown",
   "metadata": {
    "papermill": {
     "duration": 0.039354,
     "end_time": "2020-10-31T16:59:28.641211",
     "exception": false,
     "start_time": "2020-10-31T16:59:28.601857",
     "status": "completed"
    },
    "tags": []
   },
   "source": [
    "3. В летние месяцы задержек рейсов больше всего, осенью меньше всего"
   ]
  },
  {
   "cell_type": "code",
   "execution_count": 8,
   "metadata": {
    "execution": {
     "iopub.execute_input": "2020-10-31T16:59:28.804754Z",
     "iopub.status.busy": "2020-10-31T16:59:28.730358Z",
     "iopub.status.idle": "2020-10-31T16:59:29.114476Z",
     "shell.execute_reply": "2020-10-31T16:59:29.113845Z"
    },
    "papermill": {
     "duration": 0.433745,
     "end_time": "2020-10-31T16:59:29.114609",
     "exception": false,
     "start_time": "2020-10-31T16:59:28.680864",
     "status": "completed"
    },
    "tags": []
   },
   "outputs": [
    {
     "data": {
      "image/png": "[encoded data removed]",
      "text/plain": [
       "<Figure size 504x360 with 1 Axes>"
      ]
     },
     "metadata": {
      "image/png": {
       "height": 337,
       "width": 458
      }
     },
     "output_type": "display_data"
    }
   ],
   "source": [
    "fig, ax = plt.subplots(figsize=(7,5))\n",
    "plt.title('Распределение таргета в зависимости от месяца')\n",
    "sns.countplot(x='month', hue='dep_delayed_15min', data=train[[\"month\", \"dep_delayed_15min\"]], palette=\"Set2\");"
   ]
  },
  {
   "cell_type": "markdown",
   "metadata": {
    "papermill": {
     "duration": 0.0418,
     "end_time": "2020-10-31T16:59:29.198514",
     "exception": false,
     "start_time": "2020-10-31T16:59:29.156714",
     "status": "completed"
    },
    "tags": []
   },
   "source": [
    "4. Зависимость от авиаперевозчика"
   ]
  },
  {
   "cell_type": "code",
   "execution_count": 9,
   "metadata": {
    "execution": {
     "iopub.execute_input": "2020-10-31T16:59:29.294846Z",
     "iopub.status.busy": "2020-10-31T16:59:29.287994Z",
     "iopub.status.idle": "2020-10-31T16:59:29.662278Z",
     "shell.execute_reply": "2020-10-31T16:59:29.661809Z"
    },
    "papermill": {
     "duration": 0.422436,
     "end_time": "2020-10-31T16:59:29.662388",
     "exception": false,
     "start_time": "2020-10-31T16:59:29.239952",
     "status": "completed"
    },
    "tags": []
   },
   "outputs": [
    {
     "data": {
      "image/png": "[encoded data removed]",
      "text/plain": [
       "<Figure size 504x360 with 1 Axes>"
      ]
     },
     "metadata": {
      "image/png": {
       "height": 337,
       "width": 465
      }
     },
     "output_type": "display_data"
    }
   ],
   "source": [
    "fig, ax = plt.subplots(figsize=(7,5))\n",
    "plt.title('Распределение таргета в зависимости от авивперевозчика')\n",
    "sns.countplot(x='unique_carrier', hue='dep_delayed_15min', data=train[[\"unique_carrier\", \"dep_delayed_15min\"]], palette=\"Set2\");"
   ]
  },
  {
   "cell_type": "markdown",
   "metadata": {
    "papermill": {
     "duration": 0.042393,
     "end_time": "2020-10-31T16:59:29.747684",
     "exception": false,
     "start_time": "2020-10-31T16:59:29.705291",
     "status": "completed"
    },
    "tags": []
   },
   "source": [
    "5. Откуда чаще всего вылетают самолеты с задержкой?"
   ]
  },
  {
   "cell_type": "code",
   "execution_count": 10,
   "metadata": {
    "execution": {
     "iopub.execute_input": "2020-10-31T16:59:29.838622Z",
     "iopub.status.busy": "2020-10-31T16:59:29.837987Z",
     "iopub.status.idle": "2020-10-31T16:59:29.850373Z",
     "shell.execute_reply": "2020-10-31T16:59:29.849875Z"
    },
    "papermill": {
     "duration": 0.060113,
     "end_time": "2020-10-31T16:59:29.850477",
     "exception": false,
     "start_time": "2020-10-31T16:59:29.790364",
     "status": "completed"
    },
    "tags": []
   },
   "outputs": [
    {
     "data": {
      "text/plain": [
       "origin\n",
       "ORD    1298\n",
       "ATL    1266\n",
       "DFW    1089\n",
       "DEN     921\n",
       "LAX     873\n",
       "SFO     644\n",
       "IAH     618\n",
       "LAS     593\n",
       "PHX     554\n",
       "MCO     532\n",
       "EWR     501\n",
       "LGA     442\n",
       "BWI     418\n",
       "JFK     410\n",
       "MDW     389\n",
       "CLT     374\n",
       "BOS     371\n",
       "DTW     368\n",
       "SEA     358\n",
       "MSP     345\n",
       "Name: dep_delayed_15min, dtype: int64"
      ]
     },
     "execution_count": 10,
     "metadata": {},
     "output_type": "execute_result"
    }
   ],
   "source": [
    "train[train[\"dep_delayed_15min\"] == 1].groupby(\"origin\")[\"dep_delayed_15min\"].count().sort_values(ascending=False).head(20)"
   ]
  },
  {
   "cell_type": "code",
   "execution_count": 11,
   "metadata": {
    "execution": {
     "iopub.execute_input": "2020-10-31T16:59:29.948070Z",
     "iopub.status.busy": "2020-10-31T16:59:29.947345Z",
     "iopub.status.idle": "2020-10-31T16:59:30.303914Z",
     "shell.execute_reply": "2020-10-31T16:59:30.303324Z"
    },
    "papermill": {
     "duration": 0.409915,
     "end_time": "2020-10-31T16:59:30.304026",
     "exception": false,
     "start_time": "2020-10-31T16:59:29.894111",
     "status": "completed"
    },
    "tags": []
   },
   "outputs": [
    {
     "data": {
      "image/png": "[encoded data removed]",
      "text/plain": [
       "<Figure size 504x360 with 1 Axes>"
      ]
     },
     "metadata": {
      "image/png": {
       "height": 337,
       "width": 452
      }
     },
     "output_type": "display_data"
    }
   ],
   "source": [
    "fig, ax = plt.subplots(figsize=(7,5))\n",
    "plt.title('Распределение расстояния полета при таргете = 1')\n",
    "sns.distplot(train[train[\"dep_delayed_15min\"] == 1][\"distance\"]);"
   ]
  },
  {
   "cell_type": "markdown",
   "metadata": {
    "papermill": {
     "duration": 0.045707,
     "end_time": "2020-10-31T16:59:30.395148",
     "exception": false,
     "start_time": "2020-10-31T16:59:30.349441",
     "status": "completed"
    },
    "tags": []
   },
   "source": [
    "# **Повторим baseline**"
   ]
  },
  {
   "cell_type": "code",
   "execution_count": 12,
   "metadata": {
    "execution": {
     "iopub.execute_input": "2020-10-31T16:59:30.545121Z",
     "iopub.status.busy": "2020-10-31T16:59:30.507019Z",
     "iopub.status.idle": "2020-10-31T16:59:30.566197Z",
     "shell.execute_reply": "2020-10-31T16:59:30.565690Z"
    },
    "papermill": {
     "duration": 0.1258,
     "end_time": "2020-10-31T16:59:30.566315",
     "exception": false,
     "start_time": "2020-10-31T16:59:30.440515",
     "status": "completed"
    },
    "tags": []
   },
   "outputs": [],
   "source": [
    "X_train = train.drop(\"dep_delayed_15min\", axis = 1).values\n",
    "y_train = train['dep_delayed_15min']\n",
    "X_test = test.values"
   ]
  },
  {
   "cell_type": "code",
   "execution_count": 13,
   "metadata": {
    "execution": {
     "iopub.execute_input": "2020-10-31T16:59:30.663276Z",
     "iopub.status.busy": "2020-10-31T16:59:30.662675Z",
     "iopub.status.idle": "2020-10-31T16:59:30.720744Z",
     "shell.execute_reply": "2020-10-31T16:59:30.720085Z"
    },
    "papermill": {
     "duration": 0.107702,
     "end_time": "2020-10-31T16:59:30.720863",
     "exception": false,
     "start_time": "2020-10-31T16:59:30.613161",
     "status": "completed"
    },
    "tags": []
   },
   "outputs": [],
   "source": [
    "X_train_part, X_valid, y_train_part, y_valid = \\\n",
    "    train_test_split(X_train, y_train, \n",
    "                     test_size=0.3, random_state=42)"
   ]
  },
  {
   "cell_type": "code",
   "execution_count": 14,
   "metadata": {
    "execution": {
     "iopub.execute_input": "2020-10-31T16:59:30.818322Z",
     "iopub.status.busy": "2020-10-31T16:59:30.817677Z",
     "iopub.status.idle": "2020-10-31T16:59:30.822074Z",
     "shell.execute_reply": "2020-10-31T16:59:30.821614Z"
    },
    "papermill": {
     "duration": 0.056483,
     "end_time": "2020-10-31T16:59:30.822179",
     "exception": false,
     "start_time": "2020-10-31T16:59:30.765696",
     "status": "completed"
    },
    "tags": []
   },
   "outputs": [
    {
     "data": {
      "text/plain": [
       "[4, 5, 6]"
      ]
     },
     "execution_count": 14,
     "metadata": {},
     "output_type": "execute_result"
    }
   ],
   "source": [
    "ctb = CatBoostClassifier(random_seed=42)\n",
    "cat_features_idx = np.where(train.dtypes == 'object')[0].tolist()\n",
    "cat_features_idx"
   ]
  },
  {
   "cell_type": "code",
   "execution_count": 15,
   "metadata": {
    "execution": {
     "iopub.execute_input": "2020-10-31T16:59:31.090086Z",
     "iopub.status.busy": "2020-10-31T16:59:31.078835Z",
     "iopub.status.idle": "2020-10-31T17:00:33.273710Z",
     "shell.execute_reply": "2020-10-31T17:00:33.274237Z"
    },
    "papermill": {
     "duration": 62.406395,
     "end_time": "2020-10-31T17:00:33.274386",
     "exception": false,
     "start_time": "2020-10-31T16:59:30.867991",
     "status": "completed"
    },
    "tags": []
   },
   "outputs": [
    {
     "data": {
      "text/plain": [
       "0.7555228286067397"
      ]
     },
     "execution_count": 15,
     "metadata": {},
     "output_type": "execute_result"
    }
   ],
   "source": [
    "ctb.fit(X_train_part, y_train_part, logging_level='Silent', cat_features=cat_features_idx)\n",
    "ctb_valid_pred = ctb.predict_proba(X_valid)[:, 1]\n",
    "roc_auc_score(y_valid, ctb_valid_pred)"
   ]
  },
  {
   "cell_type": "markdown",
   "metadata": {
    "papermill": {
     "duration": 0.045538,
     "end_time": "2020-10-31T17:00:33.365728",
     "exception": false,
     "start_time": "2020-10-31T17:00:33.320190",
     "status": "completed"
    },
    "tags": []
   },
   "source": [
    "# **Добавим новые признаки**"
   ]
  },
  {
   "cell_type": "markdown",
   "metadata": {
    "papermill": {
     "duration": 0.045638,
     "end_time": "2020-10-31T17:00:33.457247",
     "exception": false,
     "start_time": "2020-10-31T17:00:33.411609",
     "status": "completed"
    },
    "tags": []
   },
   "source": [
    "Признак1 - выходной или нет."
   ]
  },
  {
   "cell_type": "code",
   "execution_count": 16,
   "metadata": {
    "execution": {
     "iopub.execute_input": "2020-10-31T17:00:33.555576Z",
     "iopub.status.busy": "2020-10-31T17:00:33.554985Z",
     "iopub.status.idle": "2020-10-31T17:00:33.642479Z",
     "shell.execute_reply": "2020-10-31T17:00:33.643237Z"
    },
    "papermill": {
     "duration": 0.140383,
     "end_time": "2020-10-31T17:00:33.643451",
     "exception": false,
     "start_time": "2020-10-31T17:00:33.503068",
     "status": "completed"
    },
    "tags": []
   },
   "outputs": [],
   "source": [
    "train[\"Weekend\"] = train[\"day_of_week\"].apply(lambda x: 1 if x == 6 or x == 7 else 0)\n",
    "test[\"Weekend\"] = test[\"day_of_week\"].apply(lambda x: 1 if x == 6 or x == 7 else 0)"
   ]
  },
  {
   "cell_type": "markdown",
   "metadata": {
    "papermill": {
     "duration": 0.046663,
     "end_time": "2020-10-31T17:00:33.743680",
     "exception": false,
     "start_time": "2020-10-31T17:00:33.697017",
     "status": "completed"
    },
    "tags": []
   },
   "source": [
    "Признак 2 - из времени отлета сделаем признаки Час и Минута"
   ]
  },
  {
   "cell_type": "code",
   "execution_count": 17,
   "metadata": {
    "execution": {
     "iopub.execute_input": "2020-10-31T17:00:33.841838Z",
     "iopub.status.busy": "2020-10-31T17:00:33.841204Z",
     "iopub.status.idle": "2020-10-31T17:00:33.851283Z",
     "shell.execute_reply": "2020-10-31T17:00:33.851779Z"
    },
    "papermill": {
     "duration": 0.062117,
     "end_time": "2020-10-31T17:00:33.851926",
     "exception": false,
     "start_time": "2020-10-31T17:00:33.789809",
     "status": "completed"
    },
    "tags": []
   },
   "outputs": [],
   "source": [
    "train[\"minute\"] = (train[\"dep_time\"]%100)\n",
    "train[\"hour\"] = (train[\"dep_time\"]/100).astype(int)\n",
    "test[\"minute\"] = (test[\"dep_time\"]%100)\n",
    "test[\"hour\"] = (test[\"dep_time\"]/100).astype(int)"
   ]
  },
  {
   "cell_type": "markdown",
   "metadata": {
    "papermill": {
     "duration": 0.046252,
     "end_time": "2020-10-31T17:00:33.944776",
     "exception": false,
     "start_time": "2020-10-31T17:00:33.898524",
     "status": "completed"
    },
    "tags": []
   },
   "source": [
    "Признак 3 - из месяца сделаем сезон Весна,Зима,Лето или Осень(бинарные)"
   ]
  },
  {
   "cell_type": "code",
   "execution_count": 18,
   "metadata": {
    "execution": {
     "iopub.execute_input": "2020-10-31T17:00:34.047512Z",
     "iopub.status.busy": "2020-10-31T17:00:34.046892Z",
     "iopub.status.idle": "2020-10-31T17:00:34.379865Z",
     "shell.execute_reply": "2020-10-31T17:00:34.379329Z"
    },
    "papermill": {
     "duration": 0.388998,
     "end_time": "2020-10-31T17:00:34.379987",
     "exception": false,
     "start_time": "2020-10-31T17:00:33.990989",
     "status": "completed"
    },
    "tags": []
   },
   "outputs": [],
   "source": [
    "train[\"winter\"] = train[\"month\"].apply(lambda x: 1 if x in [\"1\", \"2\", \"12\"] else 0)\n",
    "train[\"spring\"] = train[\"month\"].apply(lambda x: 1 if x in [\"3\", \"4\", \"5\"] else 0)\n",
    "train[\"summer\"] = train[\"month\"].apply(lambda x: 1 if x in [\"6\",\"7\",\"8\"] else 0)\n",
    "train[\"autumn\"] = train[\"month\"].apply(lambda x: 1 if x in [\"9\",\"10\",\"11\"] else 0)\n",
    "test[\"winter\"] = test[\"month\"].apply(lambda x: 1 if x in [\"1\", \"2\", \"12\"] else 0)\n",
    "test[\"spring\"] = test[\"month\"].apply(lambda x: 1 if x in [\"3\", \"4\", \"5\"] else 0)\n",
    "test[\"summer\"] = test[\"month\"].apply(lambda x: 1 if x in [\"6\",\"7\",\"8\"] else 0)\n",
    "test[\"autumn\"] = test[\"month\"].apply(lambda x: 1 if x in [\"9\",\"10\",\"11\"] else 0)"
   ]
  },
  {
   "cell_type": "markdown",
   "metadata": {
    "papermill": {
     "duration": 0.045551,
     "end_time": "2020-10-31T17:00:34.471812",
     "exception": false,
     "start_time": "2020-10-31T17:00:34.426261",
     "status": "completed"
    },
    "tags": []
   },
   "source": [
    "Сделаем некоторые признаки категориальными"
   ]
  },
  {
   "cell_type": "code",
   "execution_count": 19,
   "metadata": {
    "execution": {
     "iopub.execute_input": "2020-10-31T17:00:34.615830Z",
     "iopub.status.busy": "2020-10-31T17:00:34.614910Z",
     "iopub.status.idle": "2020-10-31T17:00:34.641912Z",
     "shell.execute_reply": "2020-10-31T17:00:34.642358Z"
    },
    "papermill": {
     "duration": 0.124635,
     "end_time": "2020-10-31T17:00:34.642503",
     "exception": false,
     "start_time": "2020-10-31T17:00:34.517868",
     "status": "completed"
    },
    "tags": []
   },
   "outputs": [],
   "source": [
    "train[\"hour\"] = train[\"hour\"].astype(object)\n",
    "test[\"hour\"] = test[\"hour\"].astype(object)\n",
    "\n",
    "train[\"day_of_month\"] = train[\"day_of_month\"].astype(object)\n",
    "train[\"day_of_week\"] = train[\"day_of_week\"].astype(object)\n",
    "test[\"day_of_month\"] = test[\"day_of_month\"].astype(object)\n",
    "test[\"day_of_week\"] = test[\"day_of_week\"].astype(object)"
   ]
  },
  {
   "cell_type": "markdown",
   "metadata": {
    "papermill": {
     "duration": 0.045853,
     "end_time": "2020-10-31T17:00:34.734734",
     "exception": false,
     "start_time": "2020-10-31T17:00:34.688881",
     "status": "completed"
    },
    "tags": []
   },
   "source": [
    "Признак 4 - Из времени сделаем бинарные признаки День, Вечер, Ночь, Утро"
   ]
  },
  {
   "cell_type": "code",
   "execution_count": 20,
   "metadata": {
    "execution": {
     "iopub.execute_input": "2020-10-31T17:00:34.833130Z",
     "iopub.status.busy": "2020-10-31T17:00:34.832212Z",
     "iopub.status.idle": "2020-10-31T17:00:35.355746Z",
     "shell.execute_reply": "2020-10-31T17:00:35.355254Z"
    },
    "papermill": {
     "duration": 0.575121,
     "end_time": "2020-10-31T17:00:35.355859",
     "exception": false,
     "start_time": "2020-10-31T17:00:34.780738",
     "status": "completed"
    },
    "tags": []
   },
   "outputs": [
    {
     "data": {
      "image/png": "[encoded data removed]",
      "text/plain": [
       "<Figure size 504x360 with 1 Axes>"
      ]
     },
     "metadata": {
      "image/png": {
       "height": 337,
       "width": 458
      }
     },
     "output_type": "display_data"
    }
   ],
   "source": [
    "fig, ax = plt.subplots(figsize=(7,5))\n",
    "plt.title('Распределение таргета в зависимости от часа')\n",
    "sns.countplot(x='hour', hue='dep_delayed_15min', data=train[[\"hour\", \"dep_delayed_15min\"]], palette=\"Set2\");"
   ]
  },
  {
   "cell_type": "code",
   "execution_count": 21,
   "metadata": {
    "execution": {
     "iopub.execute_input": "2020-10-31T17:00:35.463899Z",
     "iopub.status.busy": "2020-10-31T17:00:35.463220Z",
     "iopub.status.idle": "2020-10-31T17:00:35.827997Z",
     "shell.execute_reply": "2020-10-31T17:00:35.827325Z"
    },
    "papermill": {
     "duration": 0.423727,
     "end_time": "2020-10-31T17:00:35.828109",
     "exception": false,
     "start_time": "2020-10-31T17:00:35.404382",
     "status": "completed"
    },
    "tags": []
   },
   "outputs": [],
   "source": [
    "train[\"morning\"] = train[\"hour\"].apply(lambda x: 1 if x in [\"6\", \"7\", \"8\", \"9\", \"10\", \"11\"] else 0)\n",
    "train[\"day\"] = train[\"hour\"].apply(lambda x: 1 if x in [\"12\", \"13\", \"14\", \"15\", \"16\", \"17\"] else 0)\n",
    "train[\"evening\"] = train[\"hour\"].apply(lambda x: 1 if x in [\"18\", \"19\", \"20\", \"21\", \"22\", \"23\"] else 0)\n",
    "train[\"night\"] = train[\"hour\"].apply(lambda x: 1 if x in [\"0\", \"1\", \"2\", \"3\", \"4\", \"5\"] else 0)\n",
    "test[\"morning\"] = test[\"hour\"].apply(lambda x: 1 if x in [\"6\", \"7\", \"8\", \"9\", \"10\", \"11\"] else 0)\n",
    "test[\"day\"] = test[\"hour\"].apply(lambda x: 1 if x in [\"12\", \"13\", \"14\", \"15\", \"16\", \"17\"] else 0)\n",
    "test[\"evening\"] = test[\"hour\"].apply(lambda x: 1 if x in [\"18\", \"19\", \"20\", \"21\", \"22\", \"23\"] else 0)\n",
    "test[\"night\"] = test[\"hour\"].apply(lambda x: 1 if x in [\"0\", \"1\", \"2\", \"3\", \"4\", \"5\"] else 0)"
   ]
  },
  {
   "cell_type": "markdown",
   "metadata": {
    "papermill": {
     "duration": 0.04797,
     "end_time": "2020-10-31T17:00:35.924027",
     "exception": false,
     "start_time": "2020-10-31T17:00:35.876057",
     "status": "completed"
    },
    "tags": []
   },
   "source": [
    "По распределению расстояния полетов на графике для задержанных рейсов решила добавить такой параметр - расстояние меньше 3000"
   ]
  },
  {
   "cell_type": "code",
   "execution_count": 22,
   "metadata": {
    "execution": {
     "iopub.execute_input": "2020-10-31T17:00:36.033277Z",
     "iopub.status.busy": "2020-10-31T17:00:36.032665Z",
     "iopub.status.idle": "2020-10-31T17:00:36.111395Z",
     "shell.execute_reply": "2020-10-31T17:00:36.110892Z"
    },
    "papermill": {
     "duration": 0.138975,
     "end_time": "2020-10-31T17:00:36.111511",
     "exception": false,
     "start_time": "2020-10-31T17:00:35.972536",
     "status": "completed"
    },
    "tags": []
   },
   "outputs": [],
   "source": [
    "train[\"dist3000\"] = train[\"distance\"].apply(lambda x: 1 if x <= 3000 else 0)\n",
    "test[\"dist3000\"] = test[\"distance\"].apply(lambda x: 1 if x <= 3000 else 0)"
   ]
  },
  {
   "cell_type": "code",
   "execution_count": 23,
   "metadata": {
    "execution": {
     "iopub.execute_input": "2020-10-31T17:00:36.214519Z",
     "iopub.status.busy": "2020-10-31T17:00:36.213718Z",
     "iopub.status.idle": "2020-10-31T17:00:36.217901Z",
     "shell.execute_reply": "2020-10-31T17:00:36.217291Z"
    },
    "papermill": {
     "duration": 0.058264,
     "end_time": "2020-10-31T17:00:36.218011",
     "exception": false,
     "start_time": "2020-10-31T17:00:36.159747",
     "status": "completed"
    },
    "tags": []
   },
   "outputs": [
    {
     "data": {
      "text/plain": [
       "Index(['day_of_month', 'day_of_week', 'unique_carrier', 'origin', 'dest',\n",
       "       'hour'],\n",
       "      dtype='object')"
      ]
     },
     "execution_count": 23,
     "metadata": {},
     "output_type": "execute_result"
    }
   ],
   "source": [
    "columns = train.columns[train.dtypes == 'object']\n",
    "columns"
   ]
  },
  {
   "cell_type": "code",
   "execution_count": 24,
   "metadata": {
    "execution": {
     "iopub.execute_input": "2020-10-31T17:00:36.322288Z",
     "iopub.status.busy": "2020-10-31T17:00:36.321647Z",
     "iopub.status.idle": "2020-10-31T17:00:36.489031Z",
     "shell.execute_reply": "2020-10-31T17:00:36.488467Z"
    },
    "papermill": {
     "duration": 0.222258,
     "end_time": "2020-10-31T17:00:36.489142",
     "exception": false,
     "start_time": "2020-10-31T17:00:36.266884",
     "status": "completed"
    },
    "tags": []
   },
   "outputs": [],
   "source": [
    "X_train = train.drop(\"dep_delayed_15min\", axis = 1).values\n",
    "y_train = train['dep_delayed_15min']\n",
    "X_test = test.values"
   ]
  },
  {
   "cell_type": "code",
   "execution_count": 25,
   "metadata": {
    "execution": {
     "iopub.execute_input": "2020-10-31T17:00:36.594130Z",
     "iopub.status.busy": "2020-10-31T17:00:36.591122Z",
     "iopub.status.idle": "2020-10-31T17:00:36.811488Z",
     "shell.execute_reply": "2020-10-31T17:00:36.810984Z"
    },
    "papermill": {
     "duration": 0.273782,
     "end_time": "2020-10-31T17:00:36.811626",
     "exception": false,
     "start_time": "2020-10-31T17:00:36.537844",
     "status": "completed"
    },
    "tags": []
   },
   "outputs": [],
   "source": [
    "X_train_part, X_valid, y_train_part, y_valid = \\\n",
    "    train_test_split(X_train, y_train, \n",
    "                     test_size=0.3, random_state=42)"
   ]
  },
  {
   "cell_type": "code",
   "execution_count": 26,
   "metadata": {
    "execution": {
     "iopub.execute_input": "2020-10-31T17:00:36.929305Z",
     "iopub.status.busy": "2020-10-31T17:00:36.928629Z",
     "iopub.status.idle": "2020-10-31T17:00:36.941532Z",
     "shell.execute_reply": "2020-10-31T17:00:36.941003Z"
    },
    "papermill": {
     "duration": 0.081289,
     "end_time": "2020-10-31T17:00:36.941664",
     "exception": false,
     "start_time": "2020-10-31T17:00:36.860375",
     "status": "completed"
    },
    "tags": []
   },
   "outputs": [
    {
     "data": {
      "text/plain": [
       "[1, 2, 4, 5, 6, 10]"
      ]
     },
     "execution_count": 26,
     "metadata": {},
     "output_type": "execute_result"
    }
   ],
   "source": [
    "ctb = CatBoostClassifier(random_seed=42)\n",
    "cat_features_idx = np.where(train.drop(\"dep_delayed_15min\", axis = 1).dtypes == 'object')[0].tolist()\n",
    "cat_features_idx"
   ]
  },
  {
   "cell_type": "code",
   "execution_count": 27,
   "metadata": {
    "execution": {
     "iopub.execute_input": "2020-10-31T17:00:37.352707Z",
     "iopub.status.busy": "2020-10-31T17:00:37.351848Z",
     "iopub.status.idle": "2020-10-31T17:02:10.958413Z",
     "shell.execute_reply": "2020-10-31T17:02:10.958934Z"
    },
    "papermill": {
     "duration": 93.968173,
     "end_time": "2020-10-31T17:02:10.959080",
     "exception": false,
     "start_time": "2020-10-31T17:00:36.990907",
     "status": "completed"
    },
    "tags": []
   },
   "outputs": [
    {
     "data": {
      "text/plain": [
       "0.8040931494717665"
      ]
     },
     "execution_count": 27,
     "metadata": {},
     "output_type": "execute_result"
    }
   ],
   "source": [
    "ctb.fit(X_train_part, y_train_part, logging_level='Silent', cat_features=cat_features_idx)\n",
    "ctb_valid_pred = ctb.predict_proba(X_valid)[:, 1]\n",
    "roc_auc_score(y_valid, ctb_valid_pred)"
   ]
  },
  {
   "cell_type": "markdown",
   "metadata": {
    "papermill": {
     "duration": 0.049583,
     "end_time": "2020-10-31T17:02:11.058441",
     "exception": false,
     "start_time": "2020-10-31T17:02:11.008858",
     "status": "completed"
    },
    "tags": []
   },
   "source": [
    "# **Попробуем подобрать параметры catboost с помощью GridSearchCV**\n",
    "Чтобы не повторять подбор параметров,я закоментила эту секцию, но параметры подобрались такие:\n",
    "0.7814390162735102, {'depth': 7, 'l2_leaf_reg': 7, 'learning_rate': 0.1})"
   ]
  },
  {
   "cell_type": "code",
   "execution_count": 28,
   "metadata": {
    "execution": {
     "iopub.execute_input": "2020-10-31T17:02:11.163473Z",
     "iopub.status.busy": "2020-10-31T17:02:11.162882Z",
     "iopub.status.idle": "2020-10-31T17:02:11.165701Z",
     "shell.execute_reply": "2020-10-31T17:02:11.165088Z"
    },
    "papermill": {
     "duration": 0.057247,
     "end_time": "2020-10-31T17:02:11.165807",
     "exception": false,
     "start_time": "2020-10-31T17:02:11.108560",
     "status": "completed"
    },
    "tags": []
   },
   "outputs": [],
   "source": [
    "#params = {'depth': [4, 7, 10],\n",
    "#          'learning_rate' : [0.1, 1],\n",
    "#         'l2_leaf_reg': [1, 7, 9]}\n",
    "#ctb = CatBoostClassifier(random_seed=42)\n",
    "#ctb_gscv = GridSearchCV(ctb, params, scoring=\"roc_auc\", cv=3, n_jobs=-1)\n",
    "#ctb_gscv.fit(X_train_part, y_train_part,logging_level='Verbose', cat_features=cat_features_idx)"
   ]
  },
  {
   "cell_type": "markdown",
   "metadata": {
    "papermill": {
     "duration": 0.050454,
     "end_time": "2020-10-31T17:02:11.266408",
     "exception": false,
     "start_time": "2020-10-31T17:02:11.215954",
     "status": "completed"
    },
    "tags": []
   },
   "source": [
    "Я еще немного вручную попробовала разные learning rate и получился такой результат"
   ]
  },
  {
   "cell_type": "code",
   "execution_count": 29,
   "metadata": {
    "execution": {
     "iopub.execute_input": "2020-10-31T17:02:11.659694Z",
     "iopub.status.busy": "2020-10-31T17:02:11.387765Z",
     "iopub.status.idle": "2020-10-31T17:04:04.190261Z",
     "shell.execute_reply": "2020-10-31T17:04:04.190773Z"
    },
    "papermill": {
     "duration": 112.873482,
     "end_time": "2020-10-31T17:04:04.190924",
     "exception": false,
     "start_time": "2020-10-31T17:02:11.317442",
     "status": "completed"
    },
    "tags": []
   },
   "outputs": [
    {
     "data": {
      "text/plain": [
       "0.8088496461093962"
      ]
     },
     "execution_count": 29,
     "metadata": {},
     "output_type": "execute_result"
    }
   ],
   "source": [
    "ctb = CatBoostClassifier(random_seed=42, depth=7, l2_leaf_reg=7, learning_rate=0.2)\n",
    "ctb.fit(X_train_part, y_train_part, logging_level='Silent', cat_features=cat_features_idx)\n",
    "ctb_valid_pred = ctb.predict_proba(X_valid)[:, 1]\n",
    "roc_auc_score(y_valid, ctb_valid_pred)"
   ]
  },
  {
   "cell_type": "markdown",
   "metadata": {
    "papermill": {
     "duration": 0.051753,
     "end_time": "2020-10-31T17:04:04.292773",
     "exception": false,
     "start_time": "2020-10-31T17:04:04.241020",
     "status": "completed"
    },
    "tags": []
   },
   "source": [
    "Обучаемся на всех train данных и делаем прогноз"
   ]
  },
  {
   "cell_type": "code",
   "execution_count": 30,
   "metadata": {
    "execution": {
     "iopub.execute_input": "2020-10-31T17:04:04.803007Z",
     "iopub.status.busy": "2020-10-31T17:04:04.802296Z",
     "iopub.status.idle": "2020-10-31T17:06:36.779317Z",
     "shell.execute_reply": "2020-10-31T17:06:36.778680Z"
    },
    "papermill": {
     "duration": 152.436485,
     "end_time": "2020-10-31T17:06:36.779455",
     "exception": false,
     "start_time": "2020-10-31T17:04:04.342970",
     "status": "completed"
    },
    "tags": []
   },
   "outputs": [],
   "source": [
    "ctb.fit(X_train, y_train, logging_level='Silent', cat_features=cat_features_idx)\n",
    "ctb_test_pred = ctb.predict_proba(X_test)[:, 1]"
   ]
  },
  {
   "cell_type": "code",
   "execution_count": 31,
   "metadata": {
    "execution": {
     "iopub.execute_input": "2020-10-31T17:06:36.889870Z",
     "iopub.status.busy": "2020-10-31T17:06:36.889057Z",
     "iopub.status.idle": "2020-10-31T17:06:37.340273Z",
     "shell.execute_reply": "2020-10-31T17:06:37.339564Z"
    },
    "papermill": {
     "duration": 0.508003,
     "end_time": "2020-10-31T17:06:37.340389",
     "exception": false,
     "start_time": "2020-10-31T17:06:36.832386",
     "status": "completed"
    },
    "tags": []
   },
   "outputs": [],
   "source": [
    "pd.Series(ctb_test_pred, \n",
    "          name='Predicted').to_csv('ctb_test_pred_12.csv', \n",
    "                                           index_label='id', header=True)"
   ]
  },
  {
   "cell_type": "markdown",
   "metadata": {
    "papermill": {
     "duration": 0.050337,
     "end_time": "2020-10-31T17:06:37.442094",
     "exception": false,
     "start_time": "2020-10-31T17:06:37.391757",
     "status": "completed"
    },
    "tags": []
   },
   "source": [
    "На каггле на тестовых данных открытых получилось 0.82709\n"
   ]
  },
  {
   "cell_type": "markdown",
   "metadata": {
    "papermill": {
     "duration": 0.050096,
     "end_time": "2020-10-31T17:06:37.542602",
     "exception": false,
     "start_time": "2020-10-31T17:06:37.492506",
     "status": "completed"
    },
    "tags": []
   },
   "source": [
    "# **Попробуем Light GBM**"
   ]
  },
  {
   "cell_type": "code",
   "execution_count": 32,
   "metadata": {
    "execution": {
     "iopub.execute_input": "2020-10-31T17:06:37.655366Z",
     "iopub.status.busy": "2020-10-31T17:06:37.654627Z",
     "iopub.status.idle": "2020-10-31T17:06:37.732310Z",
     "shell.execute_reply": "2020-10-31T17:06:37.732792Z"
    },
    "papermill": {
     "duration": 0.139861,
     "end_time": "2020-10-31T17:06:37.732942",
     "exception": false,
     "start_time": "2020-10-31T17:06:37.593081",
     "status": "completed"
    },
    "tags": []
   },
   "outputs": [
    {
     "name": "stdout",
     "output_type": "stream",
     "text": [
      "<class 'pandas.core.frame.DataFrame'>\n",
      "RangeIndex: 124397 entries, 0 to 124396\n",
      "Data columns (total 21 columns):\n",
      " #   Column             Non-Null Count   Dtype \n",
      "---  ------             --------------   ----- \n",
      " 0   month              124397 non-null  int64 \n",
      " 1   day_of_month       124397 non-null  object\n",
      " 2   day_of_week        124397 non-null  object\n",
      " 3   dep_time           124397 non-null  int64 \n",
      " 4   unique_carrier     124397 non-null  object\n",
      " 5   origin             124397 non-null  object\n",
      " 6   dest               124397 non-null  object\n",
      " 7   distance           124397 non-null  int64 \n",
      " 8   dep_delayed_15min  124397 non-null  int64 \n",
      " 9   Weekend            124397 non-null  int64 \n",
      " 10  minute             124397 non-null  int64 \n",
      " 11  hour               124397 non-null  object\n",
      " 12  winter             124397 non-null  int64 \n",
      " 13  spring             124397 non-null  int64 \n",
      " 14  summer             124397 non-null  int64 \n",
      " 15  autumn             124397 non-null  int64 \n",
      " 16  morning            124397 non-null  int64 \n",
      " 17  day                124397 non-null  int64 \n",
      " 18  evening            124397 non-null  int64 \n",
      " 19  night              124397 non-null  int64 \n",
      " 20  dist3000           124397 non-null  int64 \n",
      "dtypes: int64(15), object(6)\n",
      "memory usage: 19.9+ MB\n"
     ]
    }
   ],
   "source": [
    "import lightgbm\n",
    "train.info()"
   ]
  },
  {
   "cell_type": "code",
   "execution_count": 33,
   "metadata": {
    "execution": {
     "iopub.execute_input": "2020-10-31T17:06:37.842840Z",
     "iopub.status.busy": "2020-10-31T17:06:37.842203Z",
     "iopub.status.idle": "2020-10-31T17:06:37.853332Z",
     "shell.execute_reply": "2020-10-31T17:06:37.852854Z"
    },
    "papermill": {
     "duration": 0.069711,
     "end_time": "2020-10-31T17:06:37.853443",
     "exception": false,
     "start_time": "2020-10-31T17:06:37.783732",
     "status": "completed"
    },
    "tags": []
   },
   "outputs": [],
   "source": [
    "y_train = train['dep_delayed_15min']\n",
    "train = train.drop(\"dep_delayed_15min\", axis = 1)"
   ]
  },
  {
   "cell_type": "code",
   "execution_count": 34,
   "metadata": {
    "execution": {
     "iopub.execute_input": "2020-10-31T17:06:37.988717Z",
     "iopub.status.busy": "2020-10-31T17:06:37.988082Z",
     "iopub.status.idle": "2020-10-31T17:06:38.002221Z",
     "shell.execute_reply": "2020-10-31T17:06:38.001740Z"
    },
    "papermill": {
     "duration": 0.09798,
     "end_time": "2020-10-31T17:06:38.002331",
     "exception": false,
     "start_time": "2020-10-31T17:06:37.904351",
     "status": "completed"
    },
    "tags": []
   },
   "outputs": [
    {
     "name": "stdout",
     "output_type": "stream",
     "text": [
      "<class 'pandas.core.frame.DataFrame'>\n",
      "RangeIndex: 124397 entries, 0 to 124396\n",
      "Data columns (total 20 columns):\n",
      " #   Column          Non-Null Count   Dtype \n",
      "---  ------          --------------   ----- \n",
      " 0   month           124397 non-null  int64 \n",
      " 1   day_of_month    124397 non-null  object\n",
      " 2   day_of_week     124397 non-null  object\n",
      " 3   dep_time        124397 non-null  int64 \n",
      " 4   unique_carrier  124397 non-null  object\n",
      " 5   origin          124397 non-null  object\n",
      " 6   dest            124397 non-null  object\n",
      " 7   distance        124397 non-null  int64 \n",
      " 8   Weekend         124397 non-null  int64 \n",
      " 9   minute          124397 non-null  int64 \n",
      " 10  hour            124397 non-null  object\n",
      " 11  winter          124397 non-null  int64 \n",
      " 12  spring          124397 non-null  int64 \n",
      " 13  summer          124397 non-null  int64 \n",
      " 14  autumn          124397 non-null  int64 \n",
      " 15  morning         124397 non-null  int64 \n",
      " 16  day             124397 non-null  int64 \n",
      " 17  evening         124397 non-null  int64 \n",
      " 18  night           124397 non-null  int64 \n",
      " 19  dist3000        124397 non-null  int64 \n",
      "dtypes: int64(14), object(6)\n",
      "memory usage: 19.0+ MB\n"
     ]
    }
   ],
   "source": [
    "train.info()"
   ]
  },
  {
   "cell_type": "markdown",
   "metadata": {
    "papermill": {
     "duration": 0.050774,
     "end_time": "2020-10-31T17:06:38.104997",
     "exception": false,
     "start_time": "2020-10-31T17:06:38.054223",
     "status": "completed"
    },
    "tags": []
   },
   "source": [
    "Я не очень разобралась, но light gbm не принял у меня категориальные данные без кодирования, поэтому делаю кодирование \n",
    "по типу мешка слов."
   ]
  },
  {
   "cell_type": "code",
   "execution_count": 35,
   "metadata": {
    "execution": {
     "iopub.execute_input": "2020-10-31T17:06:38.219147Z",
     "iopub.status.busy": "2020-10-31T17:06:38.218471Z",
     "iopub.status.idle": "2020-10-31T17:06:39.250210Z",
     "shell.execute_reply": "2020-10-31T17:06:39.249556Z"
    },
    "papermill": {
     "duration": 1.091821,
     "end_time": "2020-10-31T17:06:39.250324",
     "exception": false,
     "start_time": "2020-10-31T17:06:38.158503",
     "status": "completed"
    },
    "tags": []
   },
   "outputs": [
    {
     "data": {
      "text/plain": [
       "((124397, 1286), (72000, 1234))"
      ]
     },
     "execution_count": 35,
     "metadata": {},
     "output_type": "execute_result"
    }
   ],
   "source": [
    "train = pd.get_dummies(train)\n",
    "test = pd.get_dummies(test)\n",
    "train.shape, test.shape"
   ]
  },
  {
   "cell_type": "markdown",
   "metadata": {
    "papermill": {
     "duration": 0.052442,
     "end_time": "2020-10-31T17:06:39.357436",
     "exception": false,
     "start_time": "2020-10-31T17:06:39.304994",
     "status": "completed"
    },
    "tags": []
   },
   "source": [
    "Так как размерности разные, и не получалось сделать предсказание на тестовых данных, я удалила из трейна те колонки, которых нет в тесте, и наоборот."
   ]
  },
  {
   "cell_type": "code",
   "execution_count": 36,
   "metadata": {
    "execution": {
     "iopub.execute_input": "2020-10-31T17:06:39.471180Z",
     "iopub.status.busy": "2020-10-31T17:06:39.469723Z",
     "iopub.status.idle": "2020-10-31T17:06:39.951197Z",
     "shell.execute_reply": "2020-10-31T17:06:39.950680Z"
    },
    "papermill": {
     "duration": 0.541318,
     "end_time": "2020-10-31T17:06:39.951304",
     "exception": false,
     "start_time": "2020-10-31T17:06:39.409986",
     "status": "completed"
    },
    "tags": []
   },
   "outputs": [
    {
     "data": {
      "text/plain": [
       "((124397, 1210), (72000, 1210))"
      ]
     },
     "execution_count": 36,
     "metadata": {},
     "output_type": "execute_result"
    }
   ],
   "source": [
    "result=list(set(train.columns) - set(test.columns))\n",
    "result\n",
    "train = train.drop(result, axis = 1)\n",
    "result=list(set(test.columns) - set(train.columns))\n",
    "result\n",
    "test = test.drop(result, axis = 1)\n",
    "train.shape, test.shape"
   ]
  },
  {
   "cell_type": "code",
   "execution_count": 37,
   "metadata": {
    "execution": {
     "iopub.execute_input": "2020-10-31T17:06:40.062268Z",
     "iopub.status.busy": "2020-10-31T17:06:40.060803Z",
     "iopub.status.idle": "2020-10-31T17:06:41.001202Z",
     "shell.execute_reply": "2020-10-31T17:06:41.000677Z"
    },
    "papermill": {
     "duration": 0.997547,
     "end_time": "2020-10-31T17:06:41.001325",
     "exception": false,
     "start_time": "2020-10-31T17:06:40.003778",
     "status": "completed"
    },
    "tags": []
   },
   "outputs": [],
   "source": [
    "X_train = train.values\n",
    "X_test = test.values"
   ]
  },
  {
   "cell_type": "markdown",
   "metadata": {
    "papermill": {
     "duration": 0.053784,
     "end_time": "2020-10-31T17:06:41.107813",
     "exception": false,
     "start_time": "2020-10-31T17:06:41.054029",
     "status": "completed"
    },
    "tags": []
   },
   "source": [
    "Эти параметры уже после GridSearchcv"
   ]
  },
  {
   "cell_type": "code",
   "execution_count": 38,
   "metadata": {
    "execution": {
     "iopub.execute_input": "2020-10-31T17:06:41.232353Z",
     "iopub.status.busy": "2020-10-31T17:06:41.228637Z",
     "iopub.status.idle": "2020-10-31T17:06:43.317190Z",
     "shell.execute_reply": "2020-10-31T17:06:43.316543Z"
    },
    "papermill": {
     "duration": 2.151114,
     "end_time": "2020-10-31T17:06:43.317297",
     "exception": false,
     "start_time": "2020-10-31T17:06:41.166183",
     "status": "completed"
    },
    "tags": []
   },
   "outputs": [],
   "source": [
    "X_train_part, X_valid, y_train_part, y_valid = \\\n",
    "    train_test_split(X_train, y_train, \n",
    "                     test_size=0.3, random_state=42)\n",
    "\n",
    "train_data = lightgbm.Dataset(X_train_part, label=y_train_part)\n",
    "test_data = lightgbm.Dataset(X_valid, label=y_valid)\n",
    "param = {'num_leaves': 150, \n",
    "         'objective': 'binary', \n",
    "         'metric': 'auc',\n",
    "         'learning_rate': 0.1,\n",
    "         'n_estimators': 200,\n",
    "         'num_iterations': 300 }"
   ]
  },
  {
   "cell_type": "code",
   "execution_count": 39,
   "metadata": {
    "execution": {
     "iopub.execute_input": "2020-10-31T17:06:43.427696Z",
     "iopub.status.busy": "2020-10-31T17:06:43.427069Z",
     "iopub.status.idle": "2020-10-31T17:06:49.168489Z",
     "shell.execute_reply": "2020-10-31T17:06:49.167856Z"
    },
    "papermill": {
     "duration": 5.798627,
     "end_time": "2020-10-31T17:06:49.168635",
     "exception": false,
     "start_time": "2020-10-31T17:06:43.370008",
     "status": "completed"
    },
    "tags": []
   },
   "outputs": [
    {
     "name": "stderr",
     "output_type": "stream",
     "text": [
      "/opt/conda/lib/python3.7/site-packages/lightgbm/engine.py:148: UserWarning: Found `num_iterations` in params. Will use it instead of argument\n",
      "  warnings.warn(\"Found `{}` in params. Will use it instead of argument\".format(alias))\n"
     ]
    },
    {
     "name": "stdout",
     "output_type": "stream",
     "text": [
      "[1]\tvalid_0's auc: 0.706585\n",
      "Training until validation scores don't improve for 100 rounds\n",
      "[2]\tvalid_0's auc: 0.712726\n",
      "[3]\tvalid_0's auc: 0.715648\n",
      "[4]\tvalid_0's auc: 0.717556\n",
      "[5]\tvalid_0's auc: 0.71896\n",
      "[6]\tvalid_0's auc: 0.72127\n",
      "[7]\tvalid_0's auc: 0.723827\n",
      "[8]\tvalid_0's auc: 0.725853\n",
      "[9]\tvalid_0's auc: 0.727844\n",
      "[10]\tvalid_0's auc: 0.730493\n",
      "[11]\tvalid_0's auc: 0.731672\n",
      "[12]\tvalid_0's auc: 0.732519\n",
      "[13]\tvalid_0's auc: 0.733533\n",
      "[14]\tvalid_0's auc: 0.734097\n",
      "[15]\tvalid_0's auc: 0.735123\n",
      "[16]\tvalid_0's auc: 0.736105\n",
      "[17]\tvalid_0's auc: 0.737436\n",
      "[18]\tvalid_0's auc: 0.738269\n",
      "[19]\tvalid_0's auc: 0.739233\n",
      "[20]\tvalid_0's auc: 0.739781\n",
      "[21]\tvalid_0's auc: 0.74075\n",
      "[22]\tvalid_0's auc: 0.741259\n",
      "[23]\tvalid_0's auc: 0.74195\n",
      "[24]\tvalid_0's auc: 0.742545\n",
      "[25]\tvalid_0's auc: 0.743428\n",
      "[26]\tvalid_0's auc: 0.743725\n",
      "[27]\tvalid_0's auc: 0.745553\n",
      "[28]\tvalid_0's auc: 0.746432\n",
      "[29]\tvalid_0's auc: 0.746977\n",
      "[30]\tvalid_0's auc: 0.747282\n",
      "[31]\tvalid_0's auc: 0.747895\n",
      "[32]\tvalid_0's auc: 0.749276\n",
      "[33]\tvalid_0's auc: 0.750149\n",
      "[34]\tvalid_0's auc: 0.750749\n",
      "[35]\tvalid_0's auc: 0.751101\n",
      "[36]\tvalid_0's auc: 0.75199\n",
      "[37]\tvalid_0's auc: 0.752186\n",
      "[38]\tvalid_0's auc: 0.752163\n",
      "[39]\tvalid_0's auc: 0.752518\n",
      "[40]\tvalid_0's auc: 0.75277\n",
      "[41]\tvalid_0's auc: 0.75307\n",
      "[42]\tvalid_0's auc: 0.753294\n",
      "[43]\tvalid_0's auc: 0.753546\n",
      "[44]\tvalid_0's auc: 0.753753\n",
      "[45]\tvalid_0's auc: 0.754075\n",
      "[46]\tvalid_0's auc: 0.75436\n",
      "[47]\tvalid_0's auc: 0.754641\n",
      "[48]\tvalid_0's auc: 0.754854\n",
      "[49]\tvalid_0's auc: 0.754758\n",
      "[50]\tvalid_0's auc: 0.755114\n",
      "[51]\tvalid_0's auc: 0.75507\n",
      "[52]\tvalid_0's auc: 0.755386\n",
      "[53]\tvalid_0's auc: 0.755395\n",
      "[54]\tvalid_0's auc: 0.755391\n",
      "[55]\tvalid_0's auc: 0.755324\n",
      "[56]\tvalid_0's auc: 0.755488\n",
      "[57]\tvalid_0's auc: 0.755518\n",
      "[58]\tvalid_0's auc: 0.755539\n",
      "[59]\tvalid_0's auc: 0.755582\n",
      "[60]\tvalid_0's auc: 0.755532\n",
      "[61]\tvalid_0's auc: 0.755522\n",
      "[62]\tvalid_0's auc: 0.75555\n",
      "[63]\tvalid_0's auc: 0.755565\n",
      "[64]\tvalid_0's auc: 0.755498\n",
      "[65]\tvalid_0's auc: 0.755438\n",
      "[66]\tvalid_0's auc: 0.755388\n",
      "[67]\tvalid_0's auc: 0.755411\n",
      "[68]\tvalid_0's auc: 0.755224\n",
      "[69]\tvalid_0's auc: 0.755263\n",
      "[70]\tvalid_0's auc: 0.7554\n",
      "[71]\tvalid_0's auc: 0.755402\n",
      "[72]\tvalid_0's auc: 0.75534\n",
      "[73]\tvalid_0's auc: 0.75553\n",
      "[74]\tvalid_0's auc: 0.755325\n",
      "[75]\tvalid_0's auc: 0.7554\n",
      "[76]\tvalid_0's auc: 0.755675\n",
      "[77]\tvalid_0's auc: 0.755651\n",
      "[78]\tvalid_0's auc: 0.755817\n",
      "[79]\tvalid_0's auc: 0.755932\n",
      "[80]\tvalid_0's auc: 0.756159\n",
      "[81]\tvalid_0's auc: 0.756209\n",
      "[82]\tvalid_0's auc: 0.756217\n",
      "[83]\tvalid_0's auc: 0.756133\n",
      "[84]\tvalid_0's auc: 0.75605\n",
      "[85]\tvalid_0's auc: 0.756007\n",
      "[86]\tvalid_0's auc: 0.755888\n",
      "[87]\tvalid_0's auc: 0.75604\n",
      "[88]\tvalid_0's auc: 0.756266\n",
      "[89]\tvalid_0's auc: 0.75644\n",
      "[90]\tvalid_0's auc: 0.756513\n",
      "[91]\tvalid_0's auc: 0.756545\n",
      "[92]\tvalid_0's auc: 0.756763\n",
      "[93]\tvalid_0's auc: 0.756741\n",
      "[94]\tvalid_0's auc: 0.756671\n",
      "[95]\tvalid_0's auc: 0.756693\n",
      "[96]\tvalid_0's auc: 0.756694\n",
      "[97]\tvalid_0's auc: 0.756647\n",
      "[98]\tvalid_0's auc: 0.756739\n",
      "[99]\tvalid_0's auc: 0.756728\n",
      "[100]\tvalid_0's auc: 0.756821\n",
      "[101]\tvalid_0's auc: 0.756869\n",
      "[102]\tvalid_0's auc: 0.756759\n",
      "[103]\tvalid_0's auc: 0.756857\n",
      "[104]\tvalid_0's auc: 0.756686\n",
      "[105]\tvalid_0's auc: 0.756587\n",
      "[106]\tvalid_0's auc: 0.75658\n",
      "[107]\tvalid_0's auc: 0.756688\n",
      "[108]\tvalid_0's auc: 0.756572\n",
      "[109]\tvalid_0's auc: 0.756736\n",
      "[110]\tvalid_0's auc: 0.75657\n",
      "[111]\tvalid_0's auc: 0.756569\n",
      "[112]\tvalid_0's auc: 0.756536\n",
      "[113]\tvalid_0's auc: 0.756519\n",
      "[114]\tvalid_0's auc: 0.756488\n",
      "[115]\tvalid_0's auc: 0.75662\n",
      "[116]\tvalid_0's auc: 0.756635\n",
      "[117]\tvalid_0's auc: 0.756565\n",
      "[118]\tvalid_0's auc: 0.756694\n",
      "[119]\tvalid_0's auc: 0.756551\n",
      "[120]\tvalid_0's auc: 0.756552\n",
      "[121]\tvalid_0's auc: 0.756621\n",
      "[122]\tvalid_0's auc: 0.75654\n",
      "[123]\tvalid_0's auc: 0.756364\n",
      "[124]\tvalid_0's auc: 0.756376\n",
      "[125]\tvalid_0's auc: 0.756235\n",
      "[126]\tvalid_0's auc: 0.756348\n",
      "[127]\tvalid_0's auc: 0.756174\n",
      "[128]\tvalid_0's auc: 0.756347\n",
      "[129]\tvalid_0's auc: 0.756358\n",
      "[130]\tvalid_0's auc: 0.756207\n",
      "[131]\tvalid_0's auc: 0.756223\n",
      "[132]\tvalid_0's auc: 0.756137\n",
      "[133]\tvalid_0's auc: 0.756088\n",
      "[134]\tvalid_0's auc: 0.756159\n",
      "[135]\tvalid_0's auc: 0.756137\n",
      "[136]\tvalid_0's auc: 0.756184\n",
      "[137]\tvalid_0's auc: 0.756315\n",
      "[138]\tvalid_0's auc: 0.756189\n",
      "[139]\tvalid_0's auc: 0.756129\n",
      "[140]\tvalid_0's auc: 0.756194\n",
      "[141]\tvalid_0's auc: 0.75611\n",
      "[142]\tvalid_0's auc: 0.756219\n",
      "[143]\tvalid_0's auc: 0.756246\n",
      "[144]\tvalid_0's auc: 0.756317\n",
      "[145]\tvalid_0's auc: 0.75633\n",
      "[146]\tvalid_0's auc: 0.75643\n",
      "[147]\tvalid_0's auc: 0.756629\n",
      "[148]\tvalid_0's auc: 0.756571\n",
      "[149]\tvalid_0's auc: 0.756606\n",
      "[150]\tvalid_0's auc: 0.756575\n",
      "[151]\tvalid_0's auc: 0.756743\n",
      "[152]\tvalid_0's auc: 0.756808\n",
      "[153]\tvalid_0's auc: 0.756614\n",
      "[154]\tvalid_0's auc: 0.756737\n",
      "[155]\tvalid_0's auc: 0.756655\n",
      "[156]\tvalid_0's auc: 0.756731\n",
      "[157]\tvalid_0's auc: 0.75664\n",
      "[158]\tvalid_0's auc: 0.756645\n",
      "[159]\tvalid_0's auc: 0.756561\n",
      "[160]\tvalid_0's auc: 0.756467\n",
      "[161]\tvalid_0's auc: 0.756431\n",
      "[162]\tvalid_0's auc: 0.756705\n",
      "[163]\tvalid_0's auc: 0.756746\n",
      "[164]\tvalid_0's auc: 0.756817\n",
      "[165]\tvalid_0's auc: 0.756872\n",
      "[166]\tvalid_0's auc: 0.757021\n",
      "[167]\tvalid_0's auc: 0.757222\n",
      "[168]\tvalid_0's auc: 0.757216\n",
      "[169]\tvalid_0's auc: 0.757196\n",
      "[170]\tvalid_0's auc: 0.757219\n",
      "[171]\tvalid_0's auc: 0.757232\n",
      "[172]\tvalid_0's auc: 0.757191\n",
      "[173]\tvalid_0's auc: 0.757131\n",
      "[174]\tvalid_0's auc: 0.757139\n",
      "[175]\tvalid_0's auc: 0.757217\n",
      "[176]\tvalid_0's auc: 0.757172\n",
      "[177]\tvalid_0's auc: 0.757234\n",
      "[178]\tvalid_0's auc: 0.757153\n",
      "[179]\tvalid_0's auc: 0.757222\n",
      "[180]\tvalid_0's auc: 0.757153\n",
      "[181]\tvalid_0's auc: 0.756983\n",
      "[182]\tvalid_0's auc: 0.757006\n",
      "[183]\tvalid_0's auc: 0.756946\n",
      "[184]\tvalid_0's auc: 0.756993\n",
      "[185]\tvalid_0's auc: 0.75712\n",
      "[186]\tvalid_0's auc: 0.757098\n",
      "[187]\tvalid_0's auc: 0.757071\n",
      "[188]\tvalid_0's auc: 0.757216\n",
      "[189]\tvalid_0's auc: 0.757224\n",
      "[190]\tvalid_0's auc: 0.757211\n",
      "[191]\tvalid_0's auc: 0.757171\n",
      "[192]\tvalid_0's auc: 0.757023\n",
      "[193]\tvalid_0's auc: 0.757018\n",
      "[194]\tvalid_0's auc: 0.757073\n",
      "[195]\tvalid_0's auc: 0.757048\n",
      "[196]\tvalid_0's auc: 0.757039\n",
      "[197]\tvalid_0's auc: 0.757022\n",
      "[198]\tvalid_0's auc: 0.757095\n",
      "[199]\tvalid_0's auc: 0.756966\n",
      "[200]\tvalid_0's auc: 0.756977\n",
      "[201]\tvalid_0's auc: 0.756898\n",
      "[202]\tvalid_0's auc: 0.756869\n",
      "[203]\tvalid_0's auc: 0.756796\n",
      "[204]\tvalid_0's auc: 0.756753\n",
      "[205]\tvalid_0's auc: 0.756807\n",
      "[206]\tvalid_0's auc: 0.756755\n",
      "[207]\tvalid_0's auc: 0.756776\n",
      "[208]\tvalid_0's auc: 0.756815\n",
      "[209]\tvalid_0's auc: 0.756781\n",
      "[210]\tvalid_0's auc: 0.756786\n",
      "[211]\tvalid_0's auc: 0.75685\n",
      "[212]\tvalid_0's auc: 0.756842\n",
      "[213]\tvalid_0's auc: 0.756842\n",
      "[214]\tvalid_0's auc: 0.756861\n",
      "[215]\tvalid_0's auc: 0.757063\n",
      "[216]\tvalid_0's auc: 0.757034\n",
      "[217]\tvalid_0's auc: 0.757053\n",
      "[218]\tvalid_0's auc: 0.757095\n",
      "[219]\tvalid_0's auc: 0.757055\n",
      "[220]\tvalid_0's auc: 0.757011\n",
      "[221]\tvalid_0's auc: 0.757077\n",
      "[222]\tvalid_0's auc: 0.757057\n",
      "[223]\tvalid_0's auc: 0.757318\n",
      "[224]\tvalid_0's auc: 0.757302\n",
      "[225]\tvalid_0's auc: 0.757444\n",
      "[226]\tvalid_0's auc: 0.757306\n",
      "[227]\tvalid_0's auc: 0.757381\n",
      "[228]\tvalid_0's auc: 0.757315\n",
      "[229]\tvalid_0's auc: 0.757264\n",
      "[230]\tvalid_0's auc: 0.757174\n",
      "[231]\tvalid_0's auc: 0.757051\n",
      "[232]\tvalid_0's auc: 0.757019\n",
      "[233]\tvalid_0's auc: 0.756981\n",
      "[234]\tvalid_0's auc: 0.756907\n",
      "[235]\tvalid_0's auc: 0.756873\n",
      "[236]\tvalid_0's auc: 0.756868\n",
      "[237]\tvalid_0's auc: 0.756923\n",
      "[238]\tvalid_0's auc: 0.756982\n",
      "[239]\tvalid_0's auc: 0.756926\n",
      "[240]\tvalid_0's auc: 0.756919\n",
      "[241]\tvalid_0's auc: 0.756958\n",
      "[242]\tvalid_0's auc: 0.756895\n",
      "[243]\tvalid_0's auc: 0.75693\n",
      "[244]\tvalid_0's auc: 0.756818\n",
      "[245]\tvalid_0's auc: 0.756795\n",
      "[246]\tvalid_0's auc: 0.756847\n",
      "[247]\tvalid_0's auc: 0.756883\n",
      "[248]\tvalid_0's auc: 0.756854\n",
      "[249]\tvalid_0's auc: 0.756778\n",
      "[250]\tvalid_0's auc: 0.756807\n",
      "[251]\tvalid_0's auc: 0.756753\n",
      "[252]\tvalid_0's auc: 0.75676\n",
      "[253]\tvalid_0's auc: 0.756867\n",
      "[254]\tvalid_0's auc: 0.756936\n",
      "[255]\tvalid_0's auc: 0.75688\n",
      "[256]\tvalid_0's auc: 0.756839\n",
      "[257]\tvalid_0's auc: 0.756813\n",
      "[258]\tvalid_0's auc: 0.756784\n",
      "[259]\tvalid_0's auc: 0.756791\n",
      "[260]\tvalid_0's auc: 0.756797\n",
      "[261]\tvalid_0's auc: 0.756819\n",
      "[262]\tvalid_0's auc: 0.756761\n",
      "[263]\tvalid_0's auc: 0.756919\n",
      "[264]\tvalid_0's auc: 0.75691\n",
      "[265]\tvalid_0's auc: 0.756854\n",
      "[266]\tvalid_0's auc: 0.756825\n",
      "[267]\tvalid_0's auc: 0.756684\n",
      "[268]\tvalid_0's auc: 0.756671\n",
      "[269]\tvalid_0's auc: 0.756694\n",
      "[270]\tvalid_0's auc: 0.756692\n",
      "[271]\tvalid_0's auc: 0.756649\n",
      "[272]\tvalid_0's auc: 0.756707\n",
      "[273]\tvalid_0's auc: 0.756712\n",
      "[274]\tvalid_0's auc: 0.756662\n",
      "[275]\tvalid_0's auc: 0.756626\n",
      "[276]\tvalid_0's auc: 0.756711\n",
      "[277]\tvalid_0's auc: 0.756722\n",
      "[278]\tvalid_0's auc: 0.756837\n",
      "[279]\tvalid_0's auc: 0.75686\n",
      "[280]\tvalid_0's auc: 0.757017\n",
      "[281]\tvalid_0's auc: 0.756971\n",
      "[282]\tvalid_0's auc: 0.757165\n",
      "[283]\tvalid_0's auc: 0.757021\n",
      "[284]\tvalid_0's auc: 0.75701\n",
      "[285]\tvalid_0's auc: 0.757047\n",
      "[286]\tvalid_0's auc: 0.757002\n",
      "[287]\tvalid_0's auc: 0.756951\n",
      "[288]\tvalid_0's auc: 0.756881\n",
      "[289]\tvalid_0's auc: 0.756783\n",
      "[290]\tvalid_0's auc: 0.756729\n",
      "[291]\tvalid_0's auc: 0.756703\n",
      "[292]\tvalid_0's auc: 0.75674\n",
      "[293]\tvalid_0's auc: 0.756632\n",
      "[294]\tvalid_0's auc: 0.756581\n",
      "[295]\tvalid_0's auc: 0.756611\n",
      "[296]\tvalid_0's auc: 0.756649\n",
      "[297]\tvalid_0's auc: 0.756582\n",
      "[298]\tvalid_0's auc: 0.756578\n",
      "[299]\tvalid_0's auc: 0.7566\n",
      "[300]\tvalid_0's auc: 0.756588\n",
      "Did not meet early stopping. Best iteration is:\n",
      "[225]\tvalid_0's auc: 0.757444\n"
     ]
    },
    {
     "data": {
      "text/plain": [
       "LGBMClassifier(metric='auc', n_estimators=200, num_iterations=300,\n",
       "               num_leaves=150, objective='binary')"
      ]
     },
     "execution_count": 39,
     "metadata": {},
     "output_type": "execute_result"
    }
   ],
   "source": [
    "lgbm = lightgbm.LGBMClassifier(**param)\n",
    "lgbm.fit(X_train_part, y_train_part,\n",
    "        eval_set=[(X_valid, y_valid)],\n",
    "        eval_metric='auc',\n",
    "        early_stopping_rounds=100)"
   ]
  },
  {
   "cell_type": "code",
   "execution_count": 40,
   "metadata": {
    "execution": {
     "iopub.execute_input": "2020-10-31T17:06:49.336065Z",
     "iopub.status.busy": "2020-10-31T17:06:49.335327Z",
     "iopub.status.idle": "2020-10-31T17:06:49.338185Z",
     "shell.execute_reply": "2020-10-31T17:06:49.338886Z"
    },
    "papermill": {
     "duration": 0.090429,
     "end_time": "2020-10-31T17:06:49.339052",
     "exception": false,
     "start_time": "2020-10-31T17:06:49.248623",
     "status": "completed"
    },
    "tags": []
   },
   "outputs": [
    {
     "data": {
      "text/plain": [
       "defaultdict(collections.OrderedDict,\n",
       "            {'valid_0': OrderedDict([('auc', 0.7574443139332647)])})"
      ]
     },
     "execution_count": 40,
     "metadata": {},
     "output_type": "execute_result"
    }
   ],
   "source": [
    "lgbm.best_score_"
   ]
  },
  {
   "cell_type": "code",
   "execution_count": 41,
   "metadata": {
    "execution": {
     "iopub.execute_input": "2020-10-31T17:06:49.467219Z",
     "iopub.status.busy": "2020-10-31T17:06:49.466095Z",
     "iopub.status.idle": "2020-10-31T17:06:49.868269Z",
     "shell.execute_reply": "2020-10-31T17:06:49.869083Z"
    },
    "papermill": {
     "duration": 0.467402,
     "end_time": "2020-10-31T17:06:49.869230",
     "exception": false,
     "start_time": "2020-10-31T17:06:49.401828",
     "status": "completed"
    },
    "tags": []
   },
   "outputs": [
    {
     "data": {
      "text/plain": [
       "0.7574443139332648"
      ]
     },
     "execution_count": 41,
     "metadata": {},
     "output_type": "execute_result"
    }
   ],
   "source": [
    "lgbm_test_pred = lgbm.predict_proba(X_valid)[:, 1]\n",
    "roc_auc_score(y_valid, lgbm_test_pred)"
   ]
  },
  {
   "cell_type": "markdown",
   "metadata": {
    "papermill": {
     "duration": 0.082277,
     "end_time": "2020-10-31T17:06:50.032163",
     "exception": false,
     "start_time": "2020-10-31T17:06:49.949886",
     "status": "completed"
    },
    "tags": []
   },
   "source": [
    "Вот тут подбирала параметры"
   ]
  },
  {
   "cell_type": "code",
   "execution_count": 42,
   "metadata": {
    "execution": {
     "iopub.execute_input": "2020-10-31T17:06:50.165617Z",
     "iopub.status.busy": "2020-10-31T17:06:50.164686Z",
     "iopub.status.idle": "2020-10-31T17:07:35.051807Z",
     "shell.execute_reply": "2020-10-31T17:07:35.052841Z"
    },
    "papermill": {
     "duration": 44.955989,
     "end_time": "2020-10-31T17:07:35.053022",
     "exception": false,
     "start_time": "2020-10-31T17:06:50.097033",
     "status": "completed"
    },
    "tags": []
   },
   "outputs": [
    {
     "name": "stdout",
     "output_type": "stream",
     "text": [
      "Fitting 4 folds for each of 2 candidates, totalling 8 fits\n"
     ]
    },
    {
     "name": "stderr",
     "output_type": "stream",
     "text": [
      "[Parallel(n_jobs=-1)]: Using backend LokyBackend with 4 concurrent workers.\n",
      "[Parallel(n_jobs=-1)]: Done   4 out of   8 | elapsed:   23.2s remaining:   23.2s\n",
      "[Parallel(n_jobs=-1)]: Done   8 out of   8 | elapsed:   38.7s finished\n",
      "/opt/conda/lib/python3.7/site-packages/lightgbm/engine.py:148: UserWarning: Found `num_iterations` in params. Will use it instead of argument\n",
      "  warnings.warn(\"Found `{}` in params. Will use it instead of argument\".format(alias))\n"
     ]
    },
    {
     "name": "stdout",
     "output_type": "stream",
     "text": [
      "[1]\tvalid_0's auc: 0.706585\n",
      "[2]\tvalid_0's auc: 0.712726\n",
      "[3]\tvalid_0's auc: 0.715648\n",
      "[4]\tvalid_0's auc: 0.717556\n",
      "[5]\tvalid_0's auc: 0.71896\n",
      "[6]\tvalid_0's auc: 0.72127\n",
      "[7]\tvalid_0's auc: 0.723827\n",
      "[8]\tvalid_0's auc: 0.725853\n",
      "[9]\tvalid_0's auc: 0.727844\n",
      "[10]\tvalid_0's auc: 0.730493\n",
      "[11]\tvalid_0's auc: 0.731672\n",
      "[12]\tvalid_0's auc: 0.732519\n",
      "[13]\tvalid_0's auc: 0.733533\n",
      "[14]\tvalid_0's auc: 0.734097\n",
      "[15]\tvalid_0's auc: 0.735123\n",
      "[16]\tvalid_0's auc: 0.736105\n",
      "[17]\tvalid_0's auc: 0.737436\n",
      "[18]\tvalid_0's auc: 0.738269\n",
      "[19]\tvalid_0's auc: 0.739233\n",
      "[20]\tvalid_0's auc: 0.739781\n",
      "[21]\tvalid_0's auc: 0.74075\n",
      "[22]\tvalid_0's auc: 0.741259\n",
      "[23]\tvalid_0's auc: 0.74195\n",
      "[24]\tvalid_0's auc: 0.742545\n",
      "[25]\tvalid_0's auc: 0.743428\n",
      "[26]\tvalid_0's auc: 0.743725\n",
      "[27]\tvalid_0's auc: 0.745553\n",
      "[28]\tvalid_0's auc: 0.746432\n",
      "[29]\tvalid_0's auc: 0.746977\n",
      "[30]\tvalid_0's auc: 0.747282\n",
      "[31]\tvalid_0's auc: 0.747895\n",
      "[32]\tvalid_0's auc: 0.749276\n",
      "[33]\tvalid_0's auc: 0.750149\n",
      "[34]\tvalid_0's auc: 0.750749\n",
      "[35]\tvalid_0's auc: 0.751101\n",
      "[36]\tvalid_0's auc: 0.75199\n",
      "[37]\tvalid_0's auc: 0.752186\n",
      "[38]\tvalid_0's auc: 0.752163\n",
      "[39]\tvalid_0's auc: 0.752518\n",
      "[40]\tvalid_0's auc: 0.75277\n",
      "[41]\tvalid_0's auc: 0.75307\n",
      "[42]\tvalid_0's auc: 0.753294\n",
      "[43]\tvalid_0's auc: 0.753546\n",
      "[44]\tvalid_0's auc: 0.753753\n",
      "[45]\tvalid_0's auc: 0.754075\n",
      "[46]\tvalid_0's auc: 0.75436\n",
      "[47]\tvalid_0's auc: 0.754641\n",
      "[48]\tvalid_0's auc: 0.754854\n",
      "[49]\tvalid_0's auc: 0.754758\n",
      "[50]\tvalid_0's auc: 0.755114\n",
      "[51]\tvalid_0's auc: 0.75507\n",
      "[52]\tvalid_0's auc: 0.755386\n",
      "[53]\tvalid_0's auc: 0.755395\n",
      "[54]\tvalid_0's auc: 0.755391\n",
      "[55]\tvalid_0's auc: 0.755324\n",
      "[56]\tvalid_0's auc: 0.755488\n",
      "[57]\tvalid_0's auc: 0.755518\n",
      "[58]\tvalid_0's auc: 0.755539\n",
      "[59]\tvalid_0's auc: 0.755582\n",
      "[60]\tvalid_0's auc: 0.755532\n",
      "[61]\tvalid_0's auc: 0.755522\n",
      "[62]\tvalid_0's auc: 0.75555\n",
      "[63]\tvalid_0's auc: 0.755565\n",
      "[64]\tvalid_0's auc: 0.755498\n",
      "[65]\tvalid_0's auc: 0.755438\n",
      "[66]\tvalid_0's auc: 0.755388\n",
      "[67]\tvalid_0's auc: 0.755411\n",
      "[68]\tvalid_0's auc: 0.755224\n",
      "[69]\tvalid_0's auc: 0.755263\n",
      "[70]\tvalid_0's auc: 0.7554\n",
      "[71]\tvalid_0's auc: 0.755402\n",
      "[72]\tvalid_0's auc: 0.75534\n",
      "[73]\tvalid_0's auc: 0.75553\n",
      "[74]\tvalid_0's auc: 0.755325\n",
      "[75]\tvalid_0's auc: 0.7554\n",
      "[76]\tvalid_0's auc: 0.755675\n",
      "[77]\tvalid_0's auc: 0.755651\n",
      "[78]\tvalid_0's auc: 0.755817\n",
      "[79]\tvalid_0's auc: 0.755932\n",
      "[80]\tvalid_0's auc: 0.756159\n",
      "[81]\tvalid_0's auc: 0.756209\n",
      "[82]\tvalid_0's auc: 0.756217\n",
      "[83]\tvalid_0's auc: 0.756133\n",
      "[84]\tvalid_0's auc: 0.75605\n",
      "[85]\tvalid_0's auc: 0.756007\n",
      "[86]\tvalid_0's auc: 0.755888\n",
      "[87]\tvalid_0's auc: 0.75604\n",
      "[88]\tvalid_0's auc: 0.756266\n",
      "[89]\tvalid_0's auc: 0.75644\n",
      "[90]\tvalid_0's auc: 0.756513\n",
      "[91]\tvalid_0's auc: 0.756545\n",
      "[92]\tvalid_0's auc: 0.756763\n",
      "[93]\tvalid_0's auc: 0.756741\n",
      "[94]\tvalid_0's auc: 0.756671\n",
      "[95]\tvalid_0's auc: 0.756693\n",
      "[96]\tvalid_0's auc: 0.756694\n",
      "[97]\tvalid_0's auc: 0.756647\n",
      "[98]\tvalid_0's auc: 0.756739\n",
      "[99]\tvalid_0's auc: 0.756728\n",
      "[100]\tvalid_0's auc: 0.756821\n",
      "[101]\tvalid_0's auc: 0.756869\n",
      "[102]\tvalid_0's auc: 0.756759\n",
      "[103]\tvalid_0's auc: 0.756857\n",
      "[104]\tvalid_0's auc: 0.756686\n",
      "[105]\tvalid_0's auc: 0.756587\n",
      "[106]\tvalid_0's auc: 0.75658\n",
      "[107]\tvalid_0's auc: 0.756688\n",
      "[108]\tvalid_0's auc: 0.756572\n",
      "[109]\tvalid_0's auc: 0.756736\n",
      "[110]\tvalid_0's auc: 0.75657\n",
      "[111]\tvalid_0's auc: 0.756569\n",
      "[112]\tvalid_0's auc: 0.756536\n",
      "[113]\tvalid_0's auc: 0.756519\n",
      "[114]\tvalid_0's auc: 0.756488\n",
      "[115]\tvalid_0's auc: 0.75662\n",
      "[116]\tvalid_0's auc: 0.756635\n",
      "[117]\tvalid_0's auc: 0.756565\n",
      "[118]\tvalid_0's auc: 0.756694\n",
      "[119]\tvalid_0's auc: 0.756551\n",
      "[120]\tvalid_0's auc: 0.756552\n",
      "[121]\tvalid_0's auc: 0.756621\n",
      "[122]\tvalid_0's auc: 0.75654\n",
      "[123]\tvalid_0's auc: 0.756364\n",
      "[124]\tvalid_0's auc: 0.756376\n",
      "[125]\tvalid_0's auc: 0.756235\n",
      "[126]\tvalid_0's auc: 0.756348\n",
      "[127]\tvalid_0's auc: 0.756174\n",
      "[128]\tvalid_0's auc: 0.756347\n",
      "[129]\tvalid_0's auc: 0.756358\n",
      "[130]\tvalid_0's auc: 0.756207\n",
      "[131]\tvalid_0's auc: 0.756223\n",
      "[132]\tvalid_0's auc: 0.756137\n",
      "[133]\tvalid_0's auc: 0.756088\n",
      "[134]\tvalid_0's auc: 0.756159\n",
      "[135]\tvalid_0's auc: 0.756137\n",
      "[136]\tvalid_0's auc: 0.756184\n",
      "[137]\tvalid_0's auc: 0.756315\n",
      "[138]\tvalid_0's auc: 0.756189\n",
      "[139]\tvalid_0's auc: 0.756129\n",
      "[140]\tvalid_0's auc: 0.756194\n",
      "[141]\tvalid_0's auc: 0.75611\n",
      "[142]\tvalid_0's auc: 0.756219\n",
      "[143]\tvalid_0's auc: 0.756246\n",
      "[144]\tvalid_0's auc: 0.756317\n",
      "[145]\tvalid_0's auc: 0.75633\n",
      "[146]\tvalid_0's auc: 0.75643\n",
      "[147]\tvalid_0's auc: 0.756629\n",
      "[148]\tvalid_0's auc: 0.756571\n",
      "[149]\tvalid_0's auc: 0.756606\n",
      "[150]\tvalid_0's auc: 0.756575\n",
      "[151]\tvalid_0's auc: 0.756743\n",
      "[152]\tvalid_0's auc: 0.756808\n",
      "[153]\tvalid_0's auc: 0.756614\n",
      "[154]\tvalid_0's auc: 0.756737\n",
      "[155]\tvalid_0's auc: 0.756655\n",
      "[156]\tvalid_0's auc: 0.756731\n",
      "[157]\tvalid_0's auc: 0.75664\n",
      "[158]\tvalid_0's auc: 0.756645\n",
      "[159]\tvalid_0's auc: 0.756561\n",
      "[160]\tvalid_0's auc: 0.756467\n",
      "[161]\tvalid_0's auc: 0.756431\n",
      "[162]\tvalid_0's auc: 0.756705\n",
      "[163]\tvalid_0's auc: 0.756746\n",
      "[164]\tvalid_0's auc: 0.756817\n",
      "[165]\tvalid_0's auc: 0.756872\n",
      "[166]\tvalid_0's auc: 0.757021\n",
      "[167]\tvalid_0's auc: 0.757222\n",
      "[168]\tvalid_0's auc: 0.757216\n",
      "[169]\tvalid_0's auc: 0.757196\n",
      "[170]\tvalid_0's auc: 0.757219\n",
      "[171]\tvalid_0's auc: 0.757232\n",
      "[172]\tvalid_0's auc: 0.757191\n",
      "[173]\tvalid_0's auc: 0.757131\n",
      "[174]\tvalid_0's auc: 0.757139\n",
      "[175]\tvalid_0's auc: 0.757217\n",
      "[176]\tvalid_0's auc: 0.757172\n",
      "[177]\tvalid_0's auc: 0.757234\n",
      "[178]\tvalid_0's auc: 0.757153\n",
      "[179]\tvalid_0's auc: 0.757222\n",
      "[180]\tvalid_0's auc: 0.757153\n",
      "[181]\tvalid_0's auc: 0.756983\n",
      "[182]\tvalid_0's auc: 0.757006\n",
      "[183]\tvalid_0's auc: 0.756946\n",
      "[184]\tvalid_0's auc: 0.756993\n",
      "[185]\tvalid_0's auc: 0.75712\n",
      "[186]\tvalid_0's auc: 0.757098\n",
      "[187]\tvalid_0's auc: 0.757071\n",
      "[188]\tvalid_0's auc: 0.757216\n",
      "[189]\tvalid_0's auc: 0.757224\n",
      "[190]\tvalid_0's auc: 0.757211\n",
      "[191]\tvalid_0's auc: 0.757171\n",
      "[192]\tvalid_0's auc: 0.757023\n",
      "[193]\tvalid_0's auc: 0.757018\n",
      "[194]\tvalid_0's auc: 0.757073\n",
      "[195]\tvalid_0's auc: 0.757048\n",
      "[196]\tvalid_0's auc: 0.757039\n",
      "[197]\tvalid_0's auc: 0.757022\n",
      "[198]\tvalid_0's auc: 0.757095\n",
      "[199]\tvalid_0's auc: 0.756966\n",
      "[200]\tvalid_0's auc: 0.756977\n",
      "[201]\tvalid_0's auc: 0.756898\n",
      "[202]\tvalid_0's auc: 0.756869\n",
      "[203]\tvalid_0's auc: 0.756796\n",
      "[204]\tvalid_0's auc: 0.756753\n",
      "[205]\tvalid_0's auc: 0.756807\n",
      "[206]\tvalid_0's auc: 0.756755\n",
      "[207]\tvalid_0's auc: 0.756776\n",
      "[208]\tvalid_0's auc: 0.756815\n",
      "[209]\tvalid_0's auc: 0.756781\n",
      "[210]\tvalid_0's auc: 0.756786\n",
      "[211]\tvalid_0's auc: 0.75685\n",
      "[212]\tvalid_0's auc: 0.756842\n",
      "[213]\tvalid_0's auc: 0.756842\n",
      "[214]\tvalid_0's auc: 0.756861\n",
      "[215]\tvalid_0's auc: 0.757063\n",
      "[216]\tvalid_0's auc: 0.757034\n",
      "[217]\tvalid_0's auc: 0.757053\n",
      "[218]\tvalid_0's auc: 0.757095\n",
      "[219]\tvalid_0's auc: 0.757055\n",
      "[220]\tvalid_0's auc: 0.757011\n",
      "[221]\tvalid_0's auc: 0.757077\n",
      "[222]\tvalid_0's auc: 0.757057\n",
      "[223]\tvalid_0's auc: 0.757318\n",
      "[224]\tvalid_0's auc: 0.757302\n",
      "[225]\tvalid_0's auc: 0.757444\n",
      "[226]\tvalid_0's auc: 0.757306\n",
      "[227]\tvalid_0's auc: 0.757381\n",
      "[228]\tvalid_0's auc: 0.757315\n",
      "[229]\tvalid_0's auc: 0.757264\n",
      "[230]\tvalid_0's auc: 0.757174\n",
      "[231]\tvalid_0's auc: 0.757051\n",
      "[232]\tvalid_0's auc: 0.757019\n",
      "[233]\tvalid_0's auc: 0.756981\n",
      "[234]\tvalid_0's auc: 0.756907\n",
      "[235]\tvalid_0's auc: 0.756873\n",
      "[236]\tvalid_0's auc: 0.756868\n",
      "[237]\tvalid_0's auc: 0.756923\n",
      "[238]\tvalid_0's auc: 0.756982\n",
      "[239]\tvalid_0's auc: 0.756926\n",
      "[240]\tvalid_0's auc: 0.756919\n",
      "[241]\tvalid_0's auc: 0.756958\n",
      "[242]\tvalid_0's auc: 0.756895\n",
      "[243]\tvalid_0's auc: 0.75693\n",
      "[244]\tvalid_0's auc: 0.756818\n",
      "[245]\tvalid_0's auc: 0.756795\n",
      "[246]\tvalid_0's auc: 0.756847\n",
      "[247]\tvalid_0's auc: 0.756883\n",
      "[248]\tvalid_0's auc: 0.756854\n",
      "[249]\tvalid_0's auc: 0.756778\n",
      "[250]\tvalid_0's auc: 0.756807\n",
      "[251]\tvalid_0's auc: 0.756753\n",
      "[252]\tvalid_0's auc: 0.75676\n",
      "[253]\tvalid_0's auc: 0.756867\n",
      "[254]\tvalid_0's auc: 0.756936\n",
      "[255]\tvalid_0's auc: 0.75688\n",
      "[256]\tvalid_0's auc: 0.756839\n",
      "[257]\tvalid_0's auc: 0.756813\n",
      "[258]\tvalid_0's auc: 0.756784\n",
      "[259]\tvalid_0's auc: 0.756791\n",
      "[260]\tvalid_0's auc: 0.756797\n",
      "[261]\tvalid_0's auc: 0.756819\n",
      "[262]\tvalid_0's auc: 0.756761\n",
      "[263]\tvalid_0's auc: 0.756919\n",
      "[264]\tvalid_0's auc: 0.75691\n",
      "[265]\tvalid_0's auc: 0.756854\n",
      "[266]\tvalid_0's auc: 0.756825\n",
      "[267]\tvalid_0's auc: 0.756684\n",
      "[268]\tvalid_0's auc: 0.756671\n",
      "[269]\tvalid_0's auc: 0.756694\n",
      "[270]\tvalid_0's auc: 0.756692\n",
      "[271]\tvalid_0's auc: 0.756649\n",
      "[272]\tvalid_0's auc: 0.756707\n",
      "[273]\tvalid_0's auc: 0.756712\n",
      "[274]\tvalid_0's auc: 0.756662\n",
      "[275]\tvalid_0's auc: 0.756626\n",
      "[276]\tvalid_0's auc: 0.756711\n",
      "[277]\tvalid_0's auc: 0.756722\n",
      "[278]\tvalid_0's auc: 0.756837\n",
      "[279]\tvalid_0's auc: 0.75686\n",
      "[280]\tvalid_0's auc: 0.757017\n",
      "[281]\tvalid_0's auc: 0.756971\n",
      "[282]\tvalid_0's auc: 0.757165\n",
      "[283]\tvalid_0's auc: 0.757021\n",
      "[284]\tvalid_0's auc: 0.75701\n",
      "[285]\tvalid_0's auc: 0.757047\n",
      "[286]\tvalid_0's auc: 0.757002\n",
      "[287]\tvalid_0's auc: 0.756951\n",
      "[288]\tvalid_0's auc: 0.756881\n",
      "[289]\tvalid_0's auc: 0.756783\n",
      "[290]\tvalid_0's auc: 0.756729\n",
      "[291]\tvalid_0's auc: 0.756703\n",
      "[292]\tvalid_0's auc: 0.75674\n",
      "[293]\tvalid_0's auc: 0.756632\n",
      "[294]\tvalid_0's auc: 0.756581\n",
      "[295]\tvalid_0's auc: 0.756611\n",
      "[296]\tvalid_0's auc: 0.756649\n",
      "[297]\tvalid_0's auc: 0.756582\n",
      "[298]\tvalid_0's auc: 0.756578\n",
      "[299]\tvalid_0's auc: 0.7566\n",
      "[300]\tvalid_0's auc: 0.756588\n"
     ]
    },
    {
     "data": {
      "text/plain": [
       "GridSearchCV(cv=4,\n",
       "             estimator=LGBMClassifier(metric='auc', n_estimators=200,\n",
       "                                      num_iterations=300, num_leaves=150,\n",
       "                                      objective='binary'),\n",
       "             n_jobs=-1,\n",
       "             param_grid={'learning_rate': [0.1], 'n_estimators': [200],\n",
       "                         'num_leaves': [256, 150], 'objective': ['binary']},\n",
       "             verbose=3)"
      ]
     },
     "execution_count": 42,
     "metadata": {},
     "output_type": "execute_result"
    }
   ],
   "source": [
    "gridParams = {\n",
    "    'learning_rate': [0.1],\n",
    "    'n_estimators': [200],\n",
    "    'objective' : ['binary'],\n",
    "    'num_leaves': [256, 150]\n",
    "    }\n",
    "grid = GridSearchCV(lgbm, gridParams, verbose=3, cv=4, n_jobs=-1)\n",
    "grid.fit(X_train_part, y_train_part, eval_set=[(X_valid, y_valid)],\n",
    "        eval_metric='auc')"
   ]
  },
  {
   "cell_type": "code",
   "execution_count": 43,
   "metadata": {
    "execution": {
     "iopub.execute_input": "2020-10-31T17:07:35.241277Z",
     "iopub.status.busy": "2020-10-31T17:07:35.240353Z",
     "iopub.status.idle": "2020-10-31T17:07:35.244129Z",
     "shell.execute_reply": "2020-10-31T17:07:35.243528Z"
    },
    "papermill": {
     "duration": 0.095476,
     "end_time": "2020-10-31T17:07:35.244242",
     "exception": false,
     "start_time": "2020-10-31T17:07:35.148766",
     "status": "completed"
    },
    "tags": []
   },
   "outputs": [
    {
     "data": {
      "text/plain": [
       "{'learning_rate': 0.1,\n",
       " 'n_estimators': 200,\n",
       " 'num_leaves': 150,\n",
       " 'objective': 'binary'}"
      ]
     },
     "execution_count": 43,
     "metadata": {},
     "output_type": "execute_result"
    }
   ],
   "source": [
    "grid.best_params_"
   ]
  },
  {
   "cell_type": "code",
   "execution_count": 44,
   "metadata": {
    "execution": {
     "iopub.execute_input": "2020-10-31T17:07:35.388292Z",
     "iopub.status.busy": "2020-10-31T17:07:35.387356Z",
     "iopub.status.idle": "2020-10-31T17:07:36.214877Z",
     "shell.execute_reply": "2020-10-31T17:07:36.216093Z"
    },
    "papermill": {
     "duration": 0.902319,
     "end_time": "2020-10-31T17:07:36.216302",
     "exception": false,
     "start_time": "2020-10-31T17:07:35.313983",
     "status": "completed"
    },
    "tags": []
   },
   "outputs": [
    {
     "data": {
      "text/plain": [
       "0.756587762922543"
      ]
     },
     "execution_count": 44,
     "metadata": {},
     "output_type": "execute_result"
    }
   ],
   "source": [
    "lgbm_test_pred = grid.best_estimator_.predict_proba(X_valid)[:, 1]\n",
    "roc_auc_score(y_valid, lgbm_test_pred)"
   ]
  },
  {
   "cell_type": "markdown",
   "metadata": {
    "papermill": {
     "duration": 0.075511,
     "end_time": "2020-10-31T17:07:36.400184",
     "exception": false,
     "start_time": "2020-10-31T17:07:36.324673",
     "status": "completed"
    },
    "tags": []
   },
   "source": [
    "Посмотрим на первые 40 важных признаков."
   ]
  },
  {
   "cell_type": "code",
   "execution_count": 45,
   "metadata": {
    "execution": {
     "iopub.execute_input": "2020-10-31T17:07:36.544560Z",
     "iopub.status.busy": "2020-10-31T17:07:36.543693Z",
     "iopub.status.idle": "2020-10-31T17:07:37.153671Z",
     "shell.execute_reply": "2020-10-31T17:07:37.154148Z"
    },
    "papermill": {
     "duration": 0.684502,
     "end_time": "2020-10-31T17:07:37.154281",
     "exception": false,
     "start_time": "2020-10-31T17:07:36.469779",
     "status": "completed"
    },
    "tags": []
   },
   "outputs": [
    {
     "data": {
      "image/png": "[encoded data removed]",
      "text/plain": [
       "<Figure size 576x720 with 1 Axes>"
      ]
     },
     "metadata": {
      "image/png": {
       "height": 577,
       "width": 574
      }
     },
     "output_type": "display_data"
    }
   ],
   "source": [
    "feat_imp = pd.Series(lgbm.feature_importances_, index=train.columns)\n",
    "feat_imp.nlargest(40).plot(kind='barh', figsize=(8,10));"
   ]
  },
  {
   "cell_type": "code",
   "execution_count": 46,
   "metadata": {
    "execution": {
     "iopub.execute_input": "2020-10-31T17:07:37.310043Z",
     "iopub.status.busy": "2020-10-31T17:07:37.307831Z",
     "iopub.status.idle": "2020-10-31T17:07:44.581354Z",
     "shell.execute_reply": "2020-10-31T17:07:44.582016Z"
    },
    "papermill": {
     "duration": 7.354682,
     "end_time": "2020-10-31T17:07:44.582186",
     "exception": false,
     "start_time": "2020-10-31T17:07:37.227504",
     "status": "completed"
    },
    "tags": []
   },
   "outputs": [
    {
     "name": "stderr",
     "output_type": "stream",
     "text": [
      "/opt/conda/lib/python3.7/site-packages/lightgbm/engine.py:148: UserWarning: Found `num_iterations` in params. Will use it instead of argument\n",
      "  warnings.warn(\"Found `{}` in params. Will use it instead of argument\".format(alias))\n"
     ]
    },
    {
     "name": "stdout",
     "output_type": "stream",
     "text": [
      "[1]\tvalid_0's auc: 0.706585\n",
      "Training until validation scores don't improve for 100 rounds\n",
      "[2]\tvalid_0's auc: 0.712726\n",
      "[3]\tvalid_0's auc: 0.715648\n",
      "[4]\tvalid_0's auc: 0.717556\n",
      "[5]\tvalid_0's auc: 0.71896\n",
      "[6]\tvalid_0's auc: 0.72127\n",
      "[7]\tvalid_0's auc: 0.723827\n",
      "[8]\tvalid_0's auc: 0.725853\n",
      "[9]\tvalid_0's auc: 0.727844\n",
      "[10]\tvalid_0's auc: 0.730493\n",
      "[11]\tvalid_0's auc: 0.731672\n",
      "[12]\tvalid_0's auc: 0.732519\n",
      "[13]\tvalid_0's auc: 0.733533\n",
      "[14]\tvalid_0's auc: 0.734097\n",
      "[15]\tvalid_0's auc: 0.735123\n",
      "[16]\tvalid_0's auc: 0.736105\n",
      "[17]\tvalid_0's auc: 0.737436\n",
      "[18]\tvalid_0's auc: 0.738269\n",
      "[19]\tvalid_0's auc: 0.739233\n",
      "[20]\tvalid_0's auc: 0.739781\n",
      "[21]\tvalid_0's auc: 0.74075\n",
      "[22]\tvalid_0's auc: 0.741259\n",
      "[23]\tvalid_0's auc: 0.74195\n",
      "[24]\tvalid_0's auc: 0.742545\n",
      "[25]\tvalid_0's auc: 0.743428\n",
      "[26]\tvalid_0's auc: 0.743725\n",
      "[27]\tvalid_0's auc: 0.745553\n",
      "[28]\tvalid_0's auc: 0.746432\n",
      "[29]\tvalid_0's auc: 0.746977\n",
      "[30]\tvalid_0's auc: 0.747282\n",
      "[31]\tvalid_0's auc: 0.747895\n",
      "[32]\tvalid_0's auc: 0.749276\n",
      "[33]\tvalid_0's auc: 0.750149\n",
      "[34]\tvalid_0's auc: 0.750749\n",
      "[35]\tvalid_0's auc: 0.751101\n",
      "[36]\tvalid_0's auc: 0.75199\n",
      "[37]\tvalid_0's auc: 0.752186\n",
      "[38]\tvalid_0's auc: 0.752163\n",
      "[39]\tvalid_0's auc: 0.752518\n",
      "[40]\tvalid_0's auc: 0.75277\n",
      "[41]\tvalid_0's auc: 0.75307\n",
      "[42]\tvalid_0's auc: 0.753294\n",
      "[43]\tvalid_0's auc: 0.753546\n",
      "[44]\tvalid_0's auc: 0.753753\n",
      "[45]\tvalid_0's auc: 0.754075\n",
      "[46]\tvalid_0's auc: 0.75436\n",
      "[47]\tvalid_0's auc: 0.754641\n",
      "[48]\tvalid_0's auc: 0.754854\n",
      "[49]\tvalid_0's auc: 0.754758\n",
      "[50]\tvalid_0's auc: 0.755114\n",
      "[51]\tvalid_0's auc: 0.75507\n",
      "[52]\tvalid_0's auc: 0.755386\n",
      "[53]\tvalid_0's auc: 0.755395\n",
      "[54]\tvalid_0's auc: 0.755391\n",
      "[55]\tvalid_0's auc: 0.755324\n",
      "[56]\tvalid_0's auc: 0.755488\n",
      "[57]\tvalid_0's auc: 0.755518\n",
      "[58]\tvalid_0's auc: 0.755539\n",
      "[59]\tvalid_0's auc: 0.755582\n",
      "[60]\tvalid_0's auc: 0.755532\n",
      "[61]\tvalid_0's auc: 0.755522\n",
      "[62]\tvalid_0's auc: 0.75555\n",
      "[63]\tvalid_0's auc: 0.755565\n",
      "[64]\tvalid_0's auc: 0.755498\n",
      "[65]\tvalid_0's auc: 0.755438\n",
      "[66]\tvalid_0's auc: 0.755388\n",
      "[67]\tvalid_0's auc: 0.755411\n",
      "[68]\tvalid_0's auc: 0.755224\n",
      "[69]\tvalid_0's auc: 0.755263\n",
      "[70]\tvalid_0's auc: 0.7554\n",
      "[71]\tvalid_0's auc: 0.755402\n",
      "[72]\tvalid_0's auc: 0.75534\n",
      "[73]\tvalid_0's auc: 0.75553\n",
      "[74]\tvalid_0's auc: 0.755325\n",
      "[75]\tvalid_0's auc: 0.7554\n",
      "[76]\tvalid_0's auc: 0.755675\n",
      "[77]\tvalid_0's auc: 0.755651\n",
      "[78]\tvalid_0's auc: 0.755817\n",
      "[79]\tvalid_0's auc: 0.755932\n",
      "[80]\tvalid_0's auc: 0.756159\n",
      "[81]\tvalid_0's auc: 0.756209\n",
      "[82]\tvalid_0's auc: 0.756217\n",
      "[83]\tvalid_0's auc: 0.756133\n",
      "[84]\tvalid_0's auc: 0.75605\n",
      "[85]\tvalid_0's auc: 0.756007\n",
      "[86]\tvalid_0's auc: 0.755888\n",
      "[87]\tvalid_0's auc: 0.75604\n",
      "[88]\tvalid_0's auc: 0.756266\n",
      "[89]\tvalid_0's auc: 0.75644\n",
      "[90]\tvalid_0's auc: 0.756513\n",
      "[91]\tvalid_0's auc: 0.756545\n",
      "[92]\tvalid_0's auc: 0.756763\n",
      "[93]\tvalid_0's auc: 0.756741\n",
      "[94]\tvalid_0's auc: 0.756671\n",
      "[95]\tvalid_0's auc: 0.756693\n",
      "[96]\tvalid_0's auc: 0.756694\n",
      "[97]\tvalid_0's auc: 0.756647\n",
      "[98]\tvalid_0's auc: 0.756739\n",
      "[99]\tvalid_0's auc: 0.756728\n",
      "[100]\tvalid_0's auc: 0.756821\n",
      "[101]\tvalid_0's auc: 0.756869\n",
      "[102]\tvalid_0's auc: 0.756759\n",
      "[103]\tvalid_0's auc: 0.756857\n",
      "[104]\tvalid_0's auc: 0.756686\n",
      "[105]\tvalid_0's auc: 0.756587\n",
      "[106]\tvalid_0's auc: 0.75658\n",
      "[107]\tvalid_0's auc: 0.756688\n",
      "[108]\tvalid_0's auc: 0.756572\n",
      "[109]\tvalid_0's auc: 0.756736\n",
      "[110]\tvalid_0's auc: 0.75657\n",
      "[111]\tvalid_0's auc: 0.756569\n",
      "[112]\tvalid_0's auc: 0.756536\n",
      "[113]\tvalid_0's auc: 0.756519\n",
      "[114]\tvalid_0's auc: 0.756488\n",
      "[115]\tvalid_0's auc: 0.75662\n",
      "[116]\tvalid_0's auc: 0.756635\n",
      "[117]\tvalid_0's auc: 0.756565\n",
      "[118]\tvalid_0's auc: 0.756694\n",
      "[119]\tvalid_0's auc: 0.756551\n",
      "[120]\tvalid_0's auc: 0.756552\n",
      "[121]\tvalid_0's auc: 0.756621\n",
      "[122]\tvalid_0's auc: 0.75654\n",
      "[123]\tvalid_0's auc: 0.756364\n",
      "[124]\tvalid_0's auc: 0.756376\n",
      "[125]\tvalid_0's auc: 0.756235\n",
      "[126]\tvalid_0's auc: 0.756348\n",
      "[127]\tvalid_0's auc: 0.756174\n",
      "[128]\tvalid_0's auc: 0.756347\n",
      "[129]\tvalid_0's auc: 0.756358\n",
      "[130]\tvalid_0's auc: 0.756207\n",
      "[131]\tvalid_0's auc: 0.756223\n",
      "[132]\tvalid_0's auc: 0.756137\n",
      "[133]\tvalid_0's auc: 0.756088\n",
      "[134]\tvalid_0's auc: 0.756159\n",
      "[135]\tvalid_0's auc: 0.756137\n",
      "[136]\tvalid_0's auc: 0.756184\n",
      "[137]\tvalid_0's auc: 0.756315\n",
      "[138]\tvalid_0's auc: 0.756189\n",
      "[139]\tvalid_0's auc: 0.756129\n",
      "[140]\tvalid_0's auc: 0.756194\n",
      "[141]\tvalid_0's auc: 0.75611\n",
      "[142]\tvalid_0's auc: 0.756219\n",
      "[143]\tvalid_0's auc: 0.756246\n",
      "[144]\tvalid_0's auc: 0.756317\n",
      "[145]\tvalid_0's auc: 0.75633\n",
      "[146]\tvalid_0's auc: 0.75643\n",
      "[147]\tvalid_0's auc: 0.756629\n",
      "[148]\tvalid_0's auc: 0.756571\n",
      "[149]\tvalid_0's auc: 0.756606\n",
      "[150]\tvalid_0's auc: 0.756575\n",
      "[151]\tvalid_0's auc: 0.756743\n",
      "[152]\tvalid_0's auc: 0.756808\n",
      "[153]\tvalid_0's auc: 0.756614\n",
      "[154]\tvalid_0's auc: 0.756737\n",
      "[155]\tvalid_0's auc: 0.756655\n",
      "[156]\tvalid_0's auc: 0.756731\n",
      "[157]\tvalid_0's auc: 0.75664\n",
      "[158]\tvalid_0's auc: 0.756645\n",
      "[159]\tvalid_0's auc: 0.756561\n",
      "[160]\tvalid_0's auc: 0.756467\n",
      "[161]\tvalid_0's auc: 0.756431\n",
      "[162]\tvalid_0's auc: 0.756705\n",
      "[163]\tvalid_0's auc: 0.756746\n",
      "[164]\tvalid_0's auc: 0.756817\n",
      "[165]\tvalid_0's auc: 0.756872\n",
      "[166]\tvalid_0's auc: 0.757021\n",
      "[167]\tvalid_0's auc: 0.757222\n",
      "[168]\tvalid_0's auc: 0.757216\n",
      "[169]\tvalid_0's auc: 0.757196\n",
      "[170]\tvalid_0's auc: 0.757219\n",
      "[171]\tvalid_0's auc: 0.757232\n",
      "[172]\tvalid_0's auc: 0.757191\n",
      "[173]\tvalid_0's auc: 0.757131\n",
      "[174]\tvalid_0's auc: 0.757139\n",
      "[175]\tvalid_0's auc: 0.757217\n",
      "[176]\tvalid_0's auc: 0.757172\n",
      "[177]\tvalid_0's auc: 0.757234\n",
      "[178]\tvalid_0's auc: 0.757153\n",
      "[179]\tvalid_0's auc: 0.757222\n",
      "[180]\tvalid_0's auc: 0.757153\n",
      "[181]\tvalid_0's auc: 0.756983\n",
      "[182]\tvalid_0's auc: 0.757006\n",
      "[183]\tvalid_0's auc: 0.756946\n",
      "[184]\tvalid_0's auc: 0.756993\n",
      "[185]\tvalid_0's auc: 0.75712\n",
      "[186]\tvalid_0's auc: 0.757098\n",
      "[187]\tvalid_0's auc: 0.757071\n",
      "[188]\tvalid_0's auc: 0.757216\n",
      "[189]\tvalid_0's auc: 0.757224\n",
      "[190]\tvalid_0's auc: 0.757211\n",
      "[191]\tvalid_0's auc: 0.757171\n",
      "[192]\tvalid_0's auc: 0.757023\n",
      "[193]\tvalid_0's auc: 0.757018\n",
      "[194]\tvalid_0's auc: 0.757073\n",
      "[195]\tvalid_0's auc: 0.757048\n",
      "[196]\tvalid_0's auc: 0.757039\n",
      "[197]\tvalid_0's auc: 0.757022\n",
      "[198]\tvalid_0's auc: 0.757095\n",
      "[199]\tvalid_0's auc: 0.756966\n",
      "[200]\tvalid_0's auc: 0.756977\n",
      "[201]\tvalid_0's auc: 0.756898\n",
      "[202]\tvalid_0's auc: 0.756869\n",
      "[203]\tvalid_0's auc: 0.756796\n",
      "[204]\tvalid_0's auc: 0.756753\n",
      "[205]\tvalid_0's auc: 0.756807\n",
      "[206]\tvalid_0's auc: 0.756755\n",
      "[207]\tvalid_0's auc: 0.756776\n",
      "[208]\tvalid_0's auc: 0.756815\n",
      "[209]\tvalid_0's auc: 0.756781\n",
      "[210]\tvalid_0's auc: 0.756786\n",
      "[211]\tvalid_0's auc: 0.75685\n",
      "[212]\tvalid_0's auc: 0.756842\n",
      "[213]\tvalid_0's auc: 0.756842\n",
      "[214]\tvalid_0's auc: 0.756861\n",
      "[215]\tvalid_0's auc: 0.757063\n",
      "[216]\tvalid_0's auc: 0.757034\n",
      "[217]\tvalid_0's auc: 0.757053\n",
      "[218]\tvalid_0's auc: 0.757095\n",
      "[219]\tvalid_0's auc: 0.757055\n",
      "[220]\tvalid_0's auc: 0.757011\n",
      "[221]\tvalid_0's auc: 0.757077\n",
      "[222]\tvalid_0's auc: 0.757057\n",
      "[223]\tvalid_0's auc: 0.757318\n",
      "[224]\tvalid_0's auc: 0.757302\n",
      "[225]\tvalid_0's auc: 0.757444\n",
      "[226]\tvalid_0's auc: 0.757306\n",
      "[227]\tvalid_0's auc: 0.757381\n",
      "[228]\tvalid_0's auc: 0.757315\n",
      "[229]\tvalid_0's auc: 0.757264\n",
      "[230]\tvalid_0's auc: 0.757174\n",
      "[231]\tvalid_0's auc: 0.757051\n",
      "[232]\tvalid_0's auc: 0.757019\n",
      "[233]\tvalid_0's auc: 0.756981\n",
      "[234]\tvalid_0's auc: 0.756907\n",
      "[235]\tvalid_0's auc: 0.756873\n",
      "[236]\tvalid_0's auc: 0.756868\n",
      "[237]\tvalid_0's auc: 0.756923\n",
      "[238]\tvalid_0's auc: 0.756982\n",
      "[239]\tvalid_0's auc: 0.756926\n",
      "[240]\tvalid_0's auc: 0.756919\n",
      "[241]\tvalid_0's auc: 0.756958\n",
      "[242]\tvalid_0's auc: 0.756895\n",
      "[243]\tvalid_0's auc: 0.75693\n",
      "[244]\tvalid_0's auc: 0.756818\n",
      "[245]\tvalid_0's auc: 0.756795\n",
      "[246]\tvalid_0's auc: 0.756847\n",
      "[247]\tvalid_0's auc: 0.756883\n",
      "[248]\tvalid_0's auc: 0.756854\n",
      "[249]\tvalid_0's auc: 0.756778\n",
      "[250]\tvalid_0's auc: 0.756807\n",
      "[251]\tvalid_0's auc: 0.756753\n",
      "[252]\tvalid_0's auc: 0.75676\n",
      "[253]\tvalid_0's auc: 0.756867\n",
      "[254]\tvalid_0's auc: 0.756936\n",
      "[255]\tvalid_0's auc: 0.75688\n",
      "[256]\tvalid_0's auc: 0.756839\n",
      "[257]\tvalid_0's auc: 0.756813\n",
      "[258]\tvalid_0's auc: 0.756784\n",
      "[259]\tvalid_0's auc: 0.756791\n",
      "[260]\tvalid_0's auc: 0.756797\n",
      "[261]\tvalid_0's auc: 0.756819\n",
      "[262]\tvalid_0's auc: 0.756761\n",
      "[263]\tvalid_0's auc: 0.756919\n",
      "[264]\tvalid_0's auc: 0.75691\n",
      "[265]\tvalid_0's auc: 0.756854\n",
      "[266]\tvalid_0's auc: 0.756825\n",
      "[267]\tvalid_0's auc: 0.756684\n",
      "[268]\tvalid_0's auc: 0.756671\n",
      "[269]\tvalid_0's auc: 0.756694\n",
      "[270]\tvalid_0's auc: 0.756692\n",
      "[271]\tvalid_0's auc: 0.756649\n",
      "[272]\tvalid_0's auc: 0.756707\n",
      "[273]\tvalid_0's auc: 0.756712\n",
      "[274]\tvalid_0's auc: 0.756662\n",
      "[275]\tvalid_0's auc: 0.756626\n",
      "[276]\tvalid_0's auc: 0.756711\n",
      "[277]\tvalid_0's auc: 0.756722\n",
      "[278]\tvalid_0's auc: 0.756837\n",
      "[279]\tvalid_0's auc: 0.75686\n",
      "[280]\tvalid_0's auc: 0.757017\n",
      "[281]\tvalid_0's auc: 0.756971\n",
      "[282]\tvalid_0's auc: 0.757165\n",
      "[283]\tvalid_0's auc: 0.757021\n",
      "[284]\tvalid_0's auc: 0.75701\n",
      "[285]\tvalid_0's auc: 0.757047\n",
      "[286]\tvalid_0's auc: 0.757002\n",
      "[287]\tvalid_0's auc: 0.756951\n",
      "[288]\tvalid_0's auc: 0.756881\n",
      "[289]\tvalid_0's auc: 0.756783\n",
      "[290]\tvalid_0's auc: 0.756729\n",
      "[291]\tvalid_0's auc: 0.756703\n",
      "[292]\tvalid_0's auc: 0.75674\n",
      "[293]\tvalid_0's auc: 0.756632\n",
      "[294]\tvalid_0's auc: 0.756581\n",
      "[295]\tvalid_0's auc: 0.756611\n",
      "[296]\tvalid_0's auc: 0.756649\n",
      "[297]\tvalid_0's auc: 0.756582\n",
      "[298]\tvalid_0's auc: 0.756578\n",
      "[299]\tvalid_0's auc: 0.7566\n",
      "[300]\tvalid_0's auc: 0.756588\n",
      "Did not meet early stopping. Best iteration is:\n",
      "[225]\tvalid_0's auc: 0.757444\n"
     ]
    }
   ],
   "source": [
    "lgbm.fit(X_train_part, y_train_part,\n",
    "        eval_set=[(X_valid, y_valid)],\n",
    "        eval_metric='auc',\n",
    "        early_stopping_rounds=100)\n",
    "lgbm_test_pred = lgbm.predict_proba(X_test)[:, 1]"
   ]
  },
  {
   "cell_type": "code",
   "execution_count": 47,
   "metadata": {
    "execution": {
     "iopub.execute_input": "2020-10-31T17:07:44.763266Z",
     "iopub.status.busy": "2020-10-31T17:07:44.762142Z",
     "iopub.status.idle": "2020-10-31T17:07:44.961476Z",
     "shell.execute_reply": "2020-10-31T17:07:44.960926Z"
    },
    "papermill": {
     "duration": 0.285145,
     "end_time": "2020-10-31T17:07:44.961615",
     "exception": false,
     "start_time": "2020-10-31T17:07:44.676470",
     "status": "completed"
    },
    "tags": []
   },
   "outputs": [],
   "source": [
    "pd.Series(lgbm_test_pred, \n",
    "          name='Predicted').to_csv('lgbt_test_pred_11.csv', \n",
    "                                           index_label='id', header=True)"
   ]
  },
  {
   "cell_type": "markdown",
   "metadata": {
    "papermill": {
     "duration": 0.079468,
     "end_time": "2020-10-31T17:07:45.121655",
     "exception": false,
     "start_time": "2020-10-31T17:07:45.042187",
     "status": "completed"
    },
    "tags": []
   },
   "source": [
    "На каггле получилось 0.76195\n",
    "Результаты lgbm у меня хуже.Думаю, я не очень правильно подала ему категориальные признаки. Пробовала также ограничивать признаки по feature_importances. Это не дало улучшения метрики. Пробовала также one-hot encoding - не дало улучшений."
   ]
  },
  {
   "cell_type": "code",
   "execution_count": null,
   "metadata": {
    "papermill": {
     "duration": 0.080715,
     "end_time": "2020-10-31T17:07:45.281845",
     "exception": false,
     "start_time": "2020-10-31T17:07:45.201130",
     "status": "completed"
    },
    "tags": []
   },
   "outputs": [],
   "source": []
  }
 ],
 "metadata": {
  "kernelspec": {
   "display_name": "Python 3",
   "language": "python",
   "name": "python3"
  },
  "language_info": {
   "codemirror_mode": {
    "name": "ipython",
    "version": 3
   },
   "file_extension": ".py",
   "mimetype": "text/x-python",
   "name": "python",
   "nbconvert_exporter": "python",
   "pygments_lexer": "ipython3",
   "version": "3.7.6"
  },
  "papermill": {
   "duration": 504.974193,
   "end_time": "2020-10-31T17:07:46.402687",
   "environment_variables": {},
   "exception": null,
   "input_path": "__notebook__.ipynb",
   "output_path": "__notebook__.ipynb",
   "parameters": {},
   "start_time": "2020-10-31T16:59:21.428494",
   "version": "2.1.0"
  }
 },
 "nbformat": 4,
 "nbformat_minor": 4
}
